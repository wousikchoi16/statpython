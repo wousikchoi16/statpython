{
 "cells": [
  {
   "cell_type": "markdown",
   "id": "87bd259d",
   "metadata": {},
   "source": [
    "## Chapter05 이산형 확률변수"
   ]
  },
  {
   "cell_type": "markdown",
   "id": "de5cfb39",
   "metadata": {},
   "source": [
    "## 5.1      1차원 이산형 확률변수"
   ]
  },
  {
   "cell_type": "markdown",
   "id": "ca94304a",
   "metadata": {},
   "source": [
    "- X: 확률변수 \n",
    "- 확률변수X가 xk라는 값을 취하는 확률: P(X=x_k) = p_k"
   ]
  },
  {
   "cell_type": "markdown",
   "id": "3355ff1d",
   "metadata": {},
   "source": [
    "#### 확률질량함수(PMF)"
   ]
  },
  {
   "cell_type": "markdown",
   "id": "d2e307cf",
   "metadata": {},
   "source": [
    "- \"확률\"을 변수가 취할 수 있는 값 x를 인수로 하는 함수로 볼 수 있기 때문에 f(x) = P(X=x) 로 표현\n",
    "- 확률=f(x) 로 생각할 수 있고, 이를 확률질량함수(PMF, probability mass function) 또는 \"확률함수\" 라고 부릅니다. \n",
    "- 확률변수의 확률분포가 결정되면, 그 확률변수의 움직임이 정해집니다. "
   ]
  },
  {
   "cell_type": "code",
   "execution_count": 1,
   "id": "6fb44f0f",
   "metadata": {},
   "outputs": [
    {
     "name": "stdout",
     "output_type": "stream",
     "text": [
      "[array([1, 2, 3, 4, 5, 6]), <function f at 0x000001C597BFF8B0>]\n"
     ]
    }
   ],
   "source": [
    "import numpy as np\n",
    "import matplotlib.pyplot as plt\n",
    "\n",
    "%precision 3\n",
    "%matplotlib inline\n",
    "\n",
    "x_set = np.array([1, 2, 3, 4, 5, 6])\n",
    "# def f(x):\n",
    "#     return 1/6\n",
    "\n",
    "def f(x):\n",
    "    if x in x_set:\n",
    "        return x / 21\n",
    "    else:\n",
    "        return 0\n",
    "    \n",
    "X = [x_set, f]\n",
    "print(X)"
   ]
  },
  {
   "cell_type": "code",
   "execution_count": 2,
   "id": "ebcbd064",
   "metadata": {},
   "outputs": [
    {
     "data": {
      "text/plain": [
       "{1: 0.047619047619047616,\n",
       " 2: 0.09523809523809523,\n",
       " 3: 0.14285714285714285,\n",
       " 4: 0.19047619047619047,\n",
       " 5: 0.23809523809523808,\n",
       " 6: 0.2857142857142857}"
      ]
     },
     "execution_count": 2,
     "metadata": {},
     "output_type": "execute_result"
    }
   ],
   "source": [
    "# 확률 p_k를 구한다\n",
    "prob = np.array([f(x_k) for x_k in x_set])\n",
    "# x_k와 p_k의 대응을 사전식으로 표시\n",
    "dict(zip(x_set, prob))"
   ]
  },
  {
   "cell_type": "code",
   "execution_count": 3,
   "id": "1ccdf61d",
   "metadata": {},
   "outputs": [
    {
     "data": {
      "image/png": "[encoded data removed]",
      "text/plain": [
       "<Figure size 720x432 with 1 Axes>"
      ]
     },
     "metadata": {
      "needs_background": "light"
     },
     "output_type": "display_data"
    }
   ],
   "source": [
    "fig = plt.figure(figsize=(10, 6))\n",
    "ax = fig.add_subplot(111)\n",
    "ax.bar(x_set, prob)\n",
    "ax.set_xlabel('value')\n",
    "ax.set_ylabel('probability')\n",
    "\n",
    "plt.show()"
   ]
  },
  {
   "cell_type": "code",
   "execution_count": 4,
   "id": "2029531e",
   "metadata": {},
   "outputs": [
    {
     "data": {
      "text/plain": [
       "True"
      ]
     },
     "execution_count": 4,
     "metadata": {},
     "output_type": "execute_result"
    }
   ],
   "source": [
    "np.all(prob >= 0)"
   ]
  },
  {
   "cell_type": "code",
   "execution_count": 5,
   "id": "a6db1f06",
   "metadata": {},
   "outputs": [
    {
     "data": {
      "text/plain": [
       "0.9999999999999999"
      ]
     },
     "execution_count": 5,
     "metadata": {},
     "output_type": "execute_result"
    }
   ],
   "source": [
    "np.sum(prob)"
   ]
  },
  {
   "cell_type": "markdown",
   "id": "36f78670",
   "metadata": {},
   "source": [
    "#### 누적분포함수(CDF)"
   ]
  },
  {
   "cell_type": "markdown",
   "id": "6065cef0",
   "metadata": {},
   "source": [
    "- 확률변수X가 x이하가 될 때의 확률을 반환하는 함수로도 자주 사용.\n",
    "- 함수F(x)를 누적분포함수(cumulative distribution function, CDF)또는 간단히 \"분포함수\"라고 부릅니다. \n",
    "- F(x) = P(X<=x) = sum(f(x_k))"
   ]
  },
  {
   "cell_type": "code",
   "execution_count": 6,
   "id": "3f3bbce1",
   "metadata": {},
   "outputs": [
    {
     "data": {
      "text/plain": [
       "0.2857142857142857"
      ]
     },
     "execution_count": 6,
     "metadata": {},
     "output_type": "execute_result"
    }
   ],
   "source": [
    "def F(x):\n",
    "    return np.sum([f(x_k) for x_k in x_set if x_k <= x])\n",
    "F(3)"
   ]
  },
  {
   "cell_type": "markdown",
   "id": "9f60ee19",
   "metadata": {},
   "source": [
    "#### 확률변수의 변환 \n",
    "- 확률변수를 표준화(평균을 빼고 표준편차를 나누는 것)-> 확률변수로 다시 이용 \n"
   ]
  },
  {
   "cell_type": "code",
   "execution_count": 7,
   "id": "3a9a3fcd",
   "metadata": {},
   "outputs": [
    {
     "data": {
      "text/plain": [
       "{5: 0.047619047619047616,\n",
       " 7: 0.09523809523809523,\n",
       " 9: 0.14285714285714285,\n",
       " 11: 0.19047619047619047,\n",
       " 13: 0.23809523809523808,\n",
       " 15: 0.2857142857142857}"
      ]
     },
     "execution_count": 7,
     "metadata": {},
     "output_type": "execute_result"
    }
   ],
   "source": [
    "y_set = np.array([2 * x_k + 3 for x_k in x_set])\n",
    "prob = np.array([f(x_k) for x_k in x_set])\n",
    "dict(zip(y_set, prob))"
   ]
  },
  {
   "cell_type": "markdown",
   "id": "bd15a7f3",
   "metadata": {},
   "source": [
    "## 1차원 이산형 확률변수의 지표"
   ]
  },
  {
   "cell_type": "markdown",
   "id": "7aadcde8",
   "metadata": {},
   "source": [
    "### 확률변수의 평균 (=기대값, expected value)\n",
    "- \"주사위라면 무한 번 주사위를 굴려 얻는 눈의 평균\"\n",
    "- $E(X)=\\sum_{k} x_k f(x_K)$"
   ]
  },
  {
   "cell_type": "code",
   "execution_count": 8,
   "id": "01a682ef",
   "metadata": {},
   "outputs": [
    {
     "data": {
      "text/plain": [
       "4.333333333333333"
      ]
     },
     "execution_count": 8,
     "metadata": {},
     "output_type": "execute_result"
    }
   ],
   "source": [
    "np.sum([x_k * f(x_k) for x_k in x_set])"
   ]
  },
  {
   "cell_type": "code",
   "execution_count": 9,
   "id": "d2f0365b",
   "metadata": {},
   "outputs": [
    {
     "data": {
      "text/plain": [
       "4.334807"
      ]
     },
     "execution_count": 9,
     "metadata": {},
     "output_type": "execute_result"
    }
   ],
   "source": [
    "# 주사위 100만번 시행 \n",
    "sample = np.random.choice(x_set, int(1e6), p=prob)\n",
    "np.mean(sample)"
   ]
  },
  {
   "cell_type": "markdown",
   "id": "524dd0c0",
   "metadata": {},
   "source": [
    "#### 변환한 확률변수의 평균(=기대값)\n",
    "- $E(g(X))=\\sum_{k} g(x_k) f(x_K) $\n",
    "\n",
    "- $E(Y)=E(2x+3)=\\sum_{k} (2x_k+3) f(x_K) $"
   ]
  },
  {
   "cell_type": "code",
   "execution_count": 10,
   "id": "3a18ce1c",
   "metadata": {},
   "outputs": [
    {
     "data": {
      "text/plain": [
       "4.333333333333333"
      ]
     },
     "execution_count": 10,
     "metadata": {},
     "output_type": "execute_result"
    }
   ],
   "source": [
    "# g에 아무것도 지정하지 않으면, 확률변수X의 기대값이 구해집니다. \n",
    "# g에 아무것도 안들어가면 lambda로 대체.\n",
    "def E(X,g=lambda x:x):\n",
    "    x_set, f = X\n",
    "    return np.sum([g(x_k)*f(x_k) for x_k in x_set])\n",
    "E(X)"
   ]
  },
  {
   "cell_type": "markdown",
   "id": "139b0a0d",
   "metadata": {},
   "source": [
    "#### 기대값의 선형성 \n",
    "- E(aX+b) = aE(X) + b"
   ]
  },
  {
   "cell_type": "code",
   "execution_count": 11,
   "id": "cead16eb",
   "metadata": {},
   "outputs": [
    {
     "data": {
      "text/plain": [
       "11.666666666666664"
      ]
     },
     "execution_count": 11,
     "metadata": {},
     "output_type": "execute_result"
    }
   ],
   "source": [
    "E(X, g=lambda x:2*x+3)"
   ]
  },
  {
   "cell_type": "code",
   "execution_count": 12,
   "id": "14c5f1e9",
   "metadata": {},
   "outputs": [
    {
     "data": {
      "text/plain": [
       "11.666666666666666"
      ]
     },
     "execution_count": 12,
     "metadata": {},
     "output_type": "execute_result"
    }
   ],
   "source": [
    "2 * E(X) + 3"
   ]
  },
  {
   "cell_type": "markdown",
   "id": "dcda5d0a",
   "metadata": {},
   "source": [
    "### 분산\n",
    "- $V(X)=\\sigma^2=\\sum_{k} (x_k-\\mu)^2f(x_k)   $\n"
   ]
  },
  {
   "cell_type": "code",
   "execution_count": 13,
   "id": "e654180c",
   "metadata": {},
   "outputs": [
    {
     "data": {
      "text/plain": [
       "2.2222222222222223"
      ]
     },
     "execution_count": 13,
     "metadata": {},
     "output_type": "execute_result"
    }
   ],
   "source": [
    "mean = E(X)\n",
    "np.sum([(x_k-mean)**2*f(x_k) for x_k in x_set])"
   ]
  },
  {
   "cell_type": "code",
   "execution_count": 14,
   "id": "9ab62daf",
   "metadata": {},
   "outputs": [
    {
     "data": {
      "text/plain": [
       "2.2222222222222223"
      ]
     },
     "execution_count": 14,
     "metadata": {},
     "output_type": "execute_result"
    }
   ],
   "source": [
    "def V(X, g=lambda x:x):\n",
    "    x_set, f = X\n",
    "    mean = E(X,g)\n",
    "    return np.sum([(g(x_k)-mean)**2*f(x_k) for x_k in x_set])\n",
    "V(X)"
   ]
  },
  {
   "cell_type": "markdown",
   "id": "dcc3f794",
   "metadata": {},
   "source": [
    "#### 분산의 공식\n",
    "- $V(aX+b)=a^2V(X)   $"
   ]
  },
  {
   "cell_type": "code",
   "execution_count": 15,
   "id": "9b862af6",
   "metadata": {},
   "outputs": [
    {
     "data": {
      "text/plain": [
       "8.88888888888889"
      ]
     },
     "execution_count": 15,
     "metadata": {},
     "output_type": "execute_result"
    }
   ],
   "source": [
    "V(X, lambda x: 2*x+3)"
   ]
  },
  {
   "cell_type": "code",
   "execution_count": 16,
   "id": "066e73c6",
   "metadata": {},
   "outputs": [
    {
     "data": {
      "text/plain": [
       "8.88888888888889"
      ]
     },
     "execution_count": 16,
     "metadata": {},
     "output_type": "execute_result"
    }
   ],
   "source": [
    "2**2*V(X)"
   ]
  }
 ],
 "metadata": {
  "kernelspec": {
   "display_name": "Python 3",
   "language": "python",
   "name": "python3"
  },
  "language_info": {
   "codemirror_mode": {
    "name": "ipython",
    "version": 3
   },
   "file_extension": ".py",
   "mimetype": "text/x-python",
   "name": "python",
   "nbconvert_exporter": "python",
   "pygments_lexer": "ipython3",
   "version": "3.8.8"
  }
 },
 "nbformat": 4,
 "nbformat_minor": 5
}
