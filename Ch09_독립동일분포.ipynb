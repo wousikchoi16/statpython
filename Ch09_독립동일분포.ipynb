{
 "cells": [
  {
   "cell_type": "markdown",
   "id": "27cb6907",
   "metadata": {},
   "source": [
    "# Chapter 9 독립동일분포"
   ]
  },
  {
   "cell_type": "markdown",
   "id": "f4fae5d7",
   "metadata": {},
   "source": [
    "### 독립동일분포(independently and identically distributed, i.i.d.)\n",
    "### - 서로 독립이고 각각 동일한 확률분포를 따르는 다차원 확률변수\n",
    "### - 독립동일분포는 \"동일한 조건 아래에서 수행되는 실험이나 관측을 여러 번 반복하여 데이터를 얻는 것을 수학되는 실험이나 관측을 여러 번 반복하여 데이터를 얻는 것\""
   ]
  },
  {
   "cell_type": "markdown",
   "id": "59add0b0",
   "metadata": {},
   "source": [
    "#### 5.2절과 7.2절에서 2차원확률변수(이산형/연속형)를 다루었음. \n",
    "#### 9 장에서는 서로 독립인 다차원 확률변수입니다. \n",
    "#### 독립이고 다차원인 확률변수를 다루는 이유는 \n",
    "#### 1) 통계분석에서 취급하는 데이터 중 상당수가 독립이면서 \n",
    "#### 2) 다차원인 확률변수의 실현값으로 간주될 수 있기 때문입니다"
   ]
  },
  {
   "cell_type": "code",
   "execution_count": 1,
   "id": "da0f55b6",
   "metadata": {},
   "outputs": [],
   "source": [
    "import numpy as np\n",
    "import matplotlib.pyplot as plt\n",
    "from scipy import stats\n",
    "\n",
    "np.random.seed(0)\n",
    "%precision 3\n",
    "%matplotlib inline"
   ]
  },
  {
   "cell_type": "code",
   "execution_count": 2,
   "id": "4d81a768",
   "metadata": {},
   "outputs": [],
   "source": [
    "linestyles = ['-', '--', ':', '-.']\n",
    "\n",
    "def E(XY, g):\n",
    "    x_set, y_set, f_XY = XY\n",
    "    return np.sum([g(x_i, y_j) * f_XY(x_i, y_j)\n",
    "                   for x_i in x_set for y_j in y_set])\n",
    "\n",
    "def Cov(XY):\n",
    "    x_set, y_set, f_XY = XY\n",
    "    mean_X = E(XY, lambda x, y: x)\n",
    "    mean_Y = E(XY, lambda x, y: y)\n",
    "    return np.sum([(x_i-mean_X) * (y_j-mean_Y) * f_XY(x_i, y_j)\n",
    "                    for x_i in x_set for y_j in y_set])\n",
    "\n",
    "def f_X(x): # y에 대해서 다 계산\n",
    "    return np.sum([f_XY(x, y_k) for y_k in y_set])\n",
    "\n",
    "def f_Y(y): # x에 대해서 다 계산\n",
    "    return np.sum([f_XY(x_k, y) for x_k in x_set])"
   ]
  },
  {
   "cell_type": "markdown",
   "id": "c0b135cf",
   "metadata": {},
   "source": [
    "## 9.1 독립성 \n",
    "- 확률변수의 독립성(independence): 2개 이상의 확률변수가 서로 영향을 끼치지 않으며 관계가 없을을 나타내는 개념입니다. \n",
    "- 2차원 확률변수(X,Y)의 경우 \n"
   ]
  },
  {
   "cell_type": "code",
   "execution_count": null,
   "id": "38a7083c",
   "metadata": {},
   "outputs": [],
   "source": []
  },
  {
   "cell_type": "code",
   "execution_count": null,
   "id": "9eb4238e",
   "metadata": {},
   "outputs": [],
   "source": []
  },
  {
   "cell_type": "code",
   "execution_count": null,
   "id": "ba5930c5",
   "metadata": {},
   "outputs": [],
   "source": []
  },
  {
   "cell_type": "code",
   "execution_count": null,
   "id": "f3f893e3",
   "metadata": {},
   "outputs": [],
   "source": []
  },
  {
   "cell_type": "code",
   "execution_count": null,
   "id": "addf3007",
   "metadata": {},
   "outputs": [],
   "source": []
  },
  {
   "cell_type": "code",
   "execution_count": null,
   "id": "383d97aa",
   "metadata": {},
   "outputs": [],
   "source": []
  },
  {
   "cell_type": "code",
   "execution_count": null,
   "id": "6feacbe9",
   "metadata": {},
   "outputs": [],
   "source": []
  },
  {
   "cell_type": "code",
   "execution_count": null,
   "id": "a9cf44e0",
   "metadata": {},
   "outputs": [],
   "source": []
  },
  {
   "cell_type": "code",
   "execution_count": null,
   "id": "a6052e8c",
   "metadata": {},
   "outputs": [],
   "source": []
  }
 ],
 "metadata": {
  "kernelspec": {
   "display_name": "Python 3",
   "language": "python",
   "name": "python3"
  },
  "language_info": {
   "codemirror_mode": {
    "name": "ipython",
    "version": 3
   },
   "file_extension": ".py",
   "mimetype": "text/x-python",
   "name": "python",
   "nbconvert_exporter": "python",
   "pygments_lexer": "ipython3",
   "version": "3.8.8"
  }
 },
 "nbformat": 4,
 "nbformat_minor": 5
}
