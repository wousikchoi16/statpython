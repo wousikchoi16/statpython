{
 "cells": [
  {
   "cell_type": "markdown",
   "id": "a652ccaf",
   "metadata": {},
   "source": [
    "## Chapter04 추측통계의 기본\n",
    "_ 일부 데이터로부터 전체의 통계적 성질을 추측하는 방식이 \"추측통계\"입니다.\n",
    "- 추측통계와 비교하여 2장과 3장에서 다른 통계를 \"기술통계\"라고 합니다. \n",
    "\n",
    "### 4.2 확률 모형 \n",
    "### 4.3 추측통계의 확률 \n"
   ]
  },
  {
   "cell_type": "code",
   "execution_count": 1,
   "id": "760606f5",
   "metadata": {},
   "outputs": [],
   "source": [
    "import numpy as np \n",
    "import pandas as pd \n",
    "import matplotlib.pyplot as plt\n",
    "\n",
    "%precision 3\n",
    "%matplotlib inline"
   ]
  },
  {
   "cell_type": "code",
   "execution_count": 3,
   "id": "bd7b4eb2",
   "metadata": {},
   "outputs": [
    {
     "data": {
      "text/plain": [
       "array([76, 55, 80, 80, 74, 61, 81, 76, 23, 80], dtype=int64)"
      ]
     },
     "execution_count": 3,
     "metadata": {},
     "output_type": "execute_result"
    }
   ],
   "source": [
    "df = pd.read_csv('../data/ch4_scores400.csv')\n",
    "scores = np.array(df['score'])\n",
    "scores[:10]"
   ]
  },
  {
   "cell_type": "markdown",
   "id": "c1e9446c",
   "metadata": {},
   "source": [
    "### 4.1 모집단과 표본 \n",
    "- 추측통계에서는 관측 대상 전체의 통계적 성질을 그 관측 대상의 일부분만 사용하여 추측합니다. \n",
    "- 이때, 추측하고 싶은 관측 대상 전체를 모집단(population)이라고 하고, 추측에 사용하는 관측 대상의 일부분을 표본(sample)이라 합니다 \n",
    "- 모집단에서 표본을 골라내는 일을 표본추출(sampling)이라 하고, 골라낸 표본의 수를 '표본크기' 또는 '샘플사이즈'라고 합니다 \n",
    "- 표본을 바탕으로 계싼한 평균이나 분산, 상관계수 등을 '표본통계량'이라고 하고, 모집단의 평균이나 분산, 상관계수 등을 '모수'라고 합니다. \n",
    "- 표본평균으로 모평균을 추측할 때, '표본평균은 모평균의 추정량(estimator)라고 합니다.' 실제 표본의 데이터를 이용하여 계산한 결과를 '추정값estimator'라고 합니다. "
   ]
  },
  {
   "cell_type": "markdown",
   "id": "05391437",
   "metadata": {},
   "source": [
    "### 4.1.1 표본추출 방법\n",
    "- 임의료 표본을 추출하는 방법을 '무작위추출(random sampling)'이라고 합니다 \n",
    "- 복원추출: 여러차례 동일한 표본을 선택하는 추출방법 \n",
    "- 비복원추출: 동일한 표본은 한번만 선택하는 방법"
   ]
  },
  {
   "cell_type": "code",
   "execution_count": 6,
   "id": "ec9bed52",
   "metadata": {},
   "outputs": [
    {
     "data": {
      "text/plain": [
       "array([1, 1, 2])"
      ]
     },
     "execution_count": 6,
     "metadata": {},
     "output_type": "execute_result"
    }
   ],
   "source": [
    "np.random.choice([1,2,3],3)"
   ]
  },
  {
   "cell_type": "code",
   "execution_count": 31,
   "id": "1e01fd7f",
   "metadata": {},
   "outputs": [
    {
     "data": {
      "text/plain": [
       "array([3, 1, 2])"
      ]
     },
     "execution_count": 31,
     "metadata": {},
     "output_type": "execute_result"
    }
   ],
   "source": [
    "np.random.choice([1,2,3],3,replace=False)"
   ]
  },
  {
   "cell_type": "code",
   "execution_count": 44,
   "id": "82d40f79",
   "metadata": {},
   "outputs": [
    {
     "data": {
      "text/plain": [
       "array([1, 2, 1])"
      ]
     },
     "execution_count": 44,
     "metadata": {},
     "output_type": "execute_result"
    }
   ],
   "source": [
    "# 난수 seed사용 \n",
    "np.random.seed(0)\n",
    "np.random.choice([1,2,3],3)"
   ]
  },
  {
   "cell_type": "code",
   "execution_count": 65,
   "id": "2af9dad5",
   "metadata": {},
   "outputs": [
    {
     "data": {
      "text/plain": [
       "70.4"
      ]
     },
     "execution_count": 65,
     "metadata": {},
     "output_type": "execute_result"
    }
   ],
   "source": [
    "np.random.seed(0)\n",
    "sample = np.random.choice(scores,20)\n",
    "sample.mean()"
   ]
  },
  {
   "cell_type": "code",
   "execution_count": 56,
   "id": "f4b53eb4",
   "metadata": {},
   "outputs": [
    {
     "data": {
      "text/plain": [
       "69.53"
      ]
     },
     "execution_count": 56,
     "metadata": {},
     "output_type": "execute_result"
    }
   ],
   "source": [
    "scores.mean()"
   ]
  },
  {
   "cell_type": "code",
   "execution_count": 76,
   "id": "e960751f",
   "metadata": {},
   "outputs": [
    {
     "name": "stdout",
     "output_type": "stream",
     "text": [
      "1번째 무작위추출로 얻은 표본평균 70.4\n",
      "2번째 무작위추출로 얻은 표본평균 70.4\n",
      "3번째 무작위추출로 얻은 표본평균 70.4\n",
      "4번째 무작위추출로 얻은 표본평균 70.4\n",
      "5번째 무작위추출로 얻은 표본평균 70.4\n"
     ]
    }
   ],
   "source": [
    "for i in range(5):\n",
    "    smaple = np.random.choice(scores,20)\n",
    "    print(f'{i+1}번째 무작위추출로 얻은 표본평균',sample.mean())"
   ]
  },
  {
   "cell_type": "code",
   "execution_count": null,
   "id": "1dc07fb7",
   "metadata": {},
   "outputs": [],
   "source": []
  },
  {
   "cell_type": "code",
   "execution_count": null,
   "id": "b993eedd",
   "metadata": {},
   "outputs": [],
   "source": []
  },
  {
   "cell_type": "code",
   "execution_count": null,
   "id": "0e435290",
   "metadata": {},
   "outputs": [],
   "source": []
  },
  {
   "cell_type": "code",
   "execution_count": null,
   "id": "4348b043",
   "metadata": {},
   "outputs": [],
   "source": []
  },
  {
   "cell_type": "code",
   "execution_count": null,
   "id": "5024e01d",
   "metadata": {},
   "outputs": [],
   "source": []
  },
  {
   "cell_type": "code",
   "execution_count": null,
   "id": "f05cc630",
   "metadata": {},
   "outputs": [],
   "source": []
  },
  {
   "cell_type": "code",
   "execution_count": null,
   "id": "8cf00b9e",
   "metadata": {},
   "outputs": [],
   "source": []
  },
  {
   "cell_type": "code",
   "execution_count": null,
   "id": "32d0e518",
   "metadata": {},
   "outputs": [],
   "source": []
  },
  {
   "cell_type": "code",
   "execution_count": null,
   "id": "4bc25f90",
   "metadata": {},
   "outputs": [],
   "source": []
  },
  {
   "cell_type": "code",
   "execution_count": null,
   "id": "4657e5e9",
   "metadata": {},
   "outputs": [],
   "source": []
  },
  {
   "cell_type": "code",
   "execution_count": null,
   "id": "14cfc6e5",
   "metadata": {},
   "outputs": [],
   "source": []
  },
  {
   "cell_type": "code",
   "execution_count": null,
   "id": "c235eba2",
   "metadata": {},
   "outputs": [],
   "source": []
  },
  {
   "cell_type": "code",
   "execution_count": null,
   "id": "a947af71",
   "metadata": {},
   "outputs": [],
   "source": []
  },
  {
   "cell_type": "code",
   "execution_count": null,
   "id": "2a4e90ce",
   "metadata": {},
   "outputs": [],
   "source": []
  },
  {
   "cell_type": "code",
   "execution_count": null,
   "id": "babf90f5",
   "metadata": {},
   "outputs": [],
   "source": []
  },
  {
   "cell_type": "code",
   "execution_count": null,
   "id": "814b57ae",
   "metadata": {},
   "outputs": [],
   "source": []
  },
  {
   "cell_type": "code",
   "execution_count": null,
   "id": "7b448e84",
   "metadata": {},
   "outputs": [],
   "source": []
  }
 ],
 "metadata": {
  "kernelspec": {
   "display_name": "Python 3",
   "language": "python",
   "name": "python3"
  },
  "language_info": {
   "codemirror_mode": {
    "name": "ipython",
    "version": 3
   },
   "file_extension": ".py",
   "mimetype": "text/x-python",
   "name": "python",
   "nbconvert_exporter": "python",
   "pygments_lexer": "ipython3",
   "version": "3.8.8"
  }
 },
 "nbformat": 4,
 "nbformat_minor": 5
}
