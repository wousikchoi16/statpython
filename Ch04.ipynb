{
 "cells": [
  {
   "cell_type": "markdown",
   "id": "55957350",
   "metadata": {},
   "source": [
    "## Chapter04 추측통계의 기본\n",
    "_ 일부 데이터로부터 전체의 통계적 성질을 추측하는 방식이 \"추측통계\"입니다.\n",
    "- 추측통계와 비교하여 2장과 3장에서 다른 통계를 \"기술통계\"라고 합니다. \n",
    "\n",
    "### 4.2 확률 모형 \n",
    "### 4.3 추측통계의 확률 \n"
   ]
  },
  {
   "cell_type": "code",
   "execution_count": 1,
   "id": "4bdd85a0",
   "metadata": {},
   "outputs": [],
   "source": [
    "import numpy as np \n",
    "import pandas as pd \n",
    "import matplotlib.pyplot as plt\n",
    "\n",
    "%precision 3\n",
    "%matplotlib inline"
   ]
  },
  {
   "cell_type": "code",
   "execution_count": 2,
   "id": "00659adb",
   "metadata": {},
   "outputs": [],
   "source": [
    "df = pd.read_csv('../data/ch4_scores400.csv')\n",
    "scores = np.array(df['score'])\n",
    "# scores[:10]"
   ]
  },
  {
   "cell_type": "markdown",
   "id": "89aa0a36",
   "metadata": {},
   "source": [
    "### 4.1 모집단과 표본 \n",
    "- 추측통계에서는 관측 대상 전체의 통계적 성질을 그 관측 대상의 일부분만 사용하여 추측합니다. \n",
    "- 이때, 추측하고 싶은 관측 대상 전체를 모집단(population)이라고 하고, 추측에 사용하는 관측 대상의 일부분을 표본(sample)이라 합니다 \n",
    "- 모집단에서 표본을 골라내는 일을 표본추출(sampling)이라 하고, 골라낸 표본의 수를 '표본크기' 또는 '샘플사이즈'라고 합니다 \n",
    "- 표본을 바탕으로 계싼한 평균이나 분산, 상관계수 등을 '표본통계량'이라고 하고, 모집단의 평균이나 분산, 상관계수 등을 '모수'라고 합니다. \n",
    "- 표본평균으로 모평균을 추측할 때, '표본평균은 모평균의 추정량(estimator)라고 합니다.' 실제 표본의 데이터를 이용하여 계산한 결과를 '추정값estimator'라고 합니다. "
   ]
  },
  {
   "cell_type": "markdown",
   "id": "3f105f9d",
   "metadata": {},
   "source": [
    "### 4.1.1 표본추출 방법\n",
    "- 임의료 표본을 추출하는 방법을 '무작위추출(random sampling)'이라고 합니다 \n",
    "- 복원추출: 여러차례 동일한 표본을 선택하는 추출방법 \n",
    "- 비복원추출: 동일한 표본은 한번만 선택하는 방법"
   ]
  },
  {
   "cell_type": "code",
   "execution_count": 3,
   "id": "5aef49be",
   "metadata": {},
   "outputs": [
    {
     "data": {
      "text/plain": [
       "array([1, 2, 3])"
      ]
     },
     "execution_count": 3,
     "metadata": {},
     "output_type": "execute_result"
    }
   ],
   "source": [
    "np.random.choice([1,2,3],3)"
   ]
  },
  {
   "cell_type": "code",
   "execution_count": 4,
   "id": "210b6d38",
   "metadata": {},
   "outputs": [
    {
     "data": {
      "text/plain": [
       "array([3, 2, 1])"
      ]
     },
     "execution_count": 4,
     "metadata": {},
     "output_type": "execute_result"
    }
   ],
   "source": [
    "np.random.choice([1,2,3],3,replace=False)"
   ]
  },
  {
   "cell_type": "code",
   "execution_count": 5,
   "id": "bde468ff",
   "metadata": {},
   "outputs": [
    {
     "data": {
      "text/plain": [
       "array([1, 2, 1])"
      ]
     },
     "execution_count": 5,
     "metadata": {},
     "output_type": "execute_result"
    }
   ],
   "source": [
    "# 난수 seed사용 \n",
    "np.random.seed(0)\n",
    "np.random.choice([1,2,3],3)"
   ]
  },
  {
   "cell_type": "code",
   "execution_count": 6,
   "id": "30506102",
   "metadata": {},
   "outputs": [
    {
     "data": {
      "text/plain": [
       "70.4"
      ]
     },
     "execution_count": 6,
     "metadata": {},
     "output_type": "execute_result"
    }
   ],
   "source": [
    "np.random.seed(0)\n",
    "sample = np.random.choice(scores,20)\n",
    "sample.mean()"
   ]
  },
  {
   "cell_type": "code",
   "execution_count": 7,
   "id": "4adcea7d",
   "metadata": {},
   "outputs": [
    {
     "data": {
      "text/plain": [
       "69.53"
      ]
     },
     "execution_count": 7,
     "metadata": {},
     "output_type": "execute_result"
    }
   ],
   "source": [
    "scores.mean()"
   ]
  },
  {
   "cell_type": "code",
   "execution_count": 32,
   "id": "42a4afce",
   "metadata": {},
   "outputs": [
    {
     "name": "stdout",
     "output_type": "stream",
     "text": [
      "1번째 무작위 추출로 얻은 표본평균 66.3\n",
      "2번째 무작위 추출로 얻은 표본평균 68.7\n",
      "3번째 무작위 추출로 얻은 표본평균 65.75\n",
      "4번째 무작위 추출로 얻은 표본평균 70.75\n",
      "5번째 무작위 추출로 얻은 표본평균 73.8\n"
     ]
    }
   ],
   "source": [
    "for i in range(5):\n",
    "    sample = np.random.choice(scores, 20)\n",
    "    print(f'{i+1}번째 무작위 추출로 얻은 표본평균', sample.mean())"
   ]
  },
  {
   "cell_type": "markdown",
   "id": "a1b06ef5",
   "metadata": {},
   "source": [
    "### 4.2 확률모형\n",
    "- 확률모형: 확률을 사용한 무작위추출 또는 주사위를 모델링한 것\n",
    "- 시행: 확률변수의 결과를 관측하는 것\n",
    "- 실현값: 시행에 의해 관측되는 값\n",
    "- 사건: 시행결과로 나타날 수 있는 일\n",
    "- 근원사건: '눈이1'처럼 더 세부적으로 분해할 수 없는 사건\n",
    "\n",
    "#### - 확률은 사건에 대해서 정의되는데,  '눈이1'이라는 사건에 대한 확률은 1/6,   '눈이홀수'라는 사건에 대한 확률은 1/2라는 식으로 대응됩니다. "
   ]
  },
  {
   "cell_type": "markdown",
   "id": "97096d66",
   "metadata": {},
   "source": [
    "####'"
   ]
  },
  {
   "cell_type": "code",
   "execution_count": null,
   "id": "c1c6e38f",
   "metadata": {},
   "outputs": [],
   "source": []
  },
  {
   "cell_type": "code",
   "execution_count": null,
   "id": "d692b76b",
   "metadata": {},
   "outputs": [],
   "source": []
  },
  {
   "cell_type": "code",
   "execution_count": null,
   "id": "1072c706",
   "metadata": {},
   "outputs": [],
   "source": []
  },
  {
   "cell_type": "code",
   "execution_count": null,
   "id": "1bbca669",
   "metadata": {},
   "outputs": [],
   "source": []
  },
  {
   "cell_type": "code",
   "execution_count": null,
   "id": "e81f1cfc",
   "metadata": {},
   "outputs": [],
   "source": []
  },
  {
   "cell_type": "code",
   "execution_count": null,
   "id": "4835c73b",
   "metadata": {},
   "outputs": [],
   "source": []
  },
  {
   "cell_type": "code",
   "execution_count": null,
   "id": "288da71a",
   "metadata": {},
   "outputs": [],
   "source": []
  },
  {
   "cell_type": "code",
   "execution_count": null,
   "id": "381352c3",
   "metadata": {},
   "outputs": [],
   "source": []
  },
  {
   "cell_type": "code",
   "execution_count": null,
   "id": "7c67cb74",
   "metadata": {},
   "outputs": [],
   "source": []
  },
  {
   "cell_type": "code",
   "execution_count": null,
   "id": "0d4f73ae",
   "metadata": {},
   "outputs": [],
   "source": []
  },
  {
   "cell_type": "code",
   "execution_count": null,
   "id": "2b9b9378",
   "metadata": {},
   "outputs": [],
   "source": []
  },
  {
   "cell_type": "code",
   "execution_count": null,
   "id": "d2d2b318",
   "metadata": {},
   "outputs": [],
   "source": []
  },
  {
   "cell_type": "code",
   "execution_count": null,
   "id": "0b4cfdeb",
   "metadata": {},
   "outputs": [],
   "source": []
  },
  {
   "cell_type": "code",
   "execution_count": null,
   "id": "7747f318",
   "metadata": {},
   "outputs": [],
   "source": []
  }
 ],
 "metadata": {
  "kernelspec": {
   "display_name": "Python 3",
   "language": "python",
   "name": "python3"
  },
  "language_info": {
   "codemirror_mode": {
    "name": "ipython",
    "version": 3
   },
   "file_extension": ".py",
   "mimetype": "text/x-python",
   "name": "python",
   "nbconvert_exporter": "python",
   "pygments_lexer": "ipython3",
   "version": "3.8.8"
  }
 },
 "nbformat": 4,
 "nbformat_minor": 5
}
