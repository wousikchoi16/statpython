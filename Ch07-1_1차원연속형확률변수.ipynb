{
 "cells": [
  {
   "cell_type": "markdown",
   "id": "6720b84b",
   "metadata": {},
   "source": [
    "## Chapter7 연속형 확률변수"
   ]
  },
  {
   "cell_type": "code",
   "execution_count": 1,
   "id": "79829f9e",
   "metadata": {},
   "outputs": [],
   "source": [
    "import numpy as np\n",
    "import matplotlib.pyplot as plt\n",
    "\n",
    "%precision 3\n",
    "%matplotlib inline"
   ]
  },
  {
   "cell_type": "code",
   "execution_count": 2,
   "id": "fc28cd48",
   "metadata": {},
   "outputs": [],
   "source": [
    "from scipy import integrate\n",
    "import warnings\n",
    "\n",
    "# 적분에 관한 warning을 출력하지 않도록 한다\n",
    "warnings.filterwarnings('ignore',\n",
    "                        category=integrate.IntegrationWarning)"
   ]
  },
  {
   "cell_type": "markdown",
   "id": "35f09464",
   "metadata": {},
   "source": [
    "## 7.1   1차원 연속형 확률변수\n",
    "- 연속형 확률변수에서 확률변수가 어떤 값을 취할 때의 확률을 정의하려고 하면 어떤 경우에도 확률이 0이 되어 정의가 잘 되지 않습니다. 이 때문에 연속형 확률변수에서는 확률변수가 어느 구간에 들어가는 확률을 정의합니다. \n",
    "- 예를 들어 룰렛이 0.4부터 0.6사이의 값이 나올 확률이 0.2라는 식으로 정의됩니다."
   ]
  },
  {
   "cell_type": "markdown",
   "id": "ea9bc253",
   "metadata": {},
   "source": [
    "#### 확률밀도함수\n",
    "- \"연속형 확률변수\"가 취할 수 있는 값은 \"구간 [a,b]\"로 정의됨. \n",
    "- \"연속형 확률\"은 확률밀도함수(probability density function, PDF), 간단히 밀도함수라고 부르는 f(x)를 이용하여 정의됨. 하지만 f(x)=P(X=x)는 되지 않는다. 연속형 확률변수는 어떤 값을 취하는 확률로는 잘 정의되지 않음. \n",
    "- \"밀도함수에 의한 확률\"은 확률변수X가 $x_0 \\le X \\le x_1$의 구간에 들어갈 확률$P(x_0 \\le X \\le x_1)$로 정의되고, 다음과 같이 적분으로 계산합니다. \n",
    "$\\\\$\n",
    "$P(x_0 \\le X \\le x_1) = \\int_{x_0}^{x_1}f(x)dx$"
   ]
  },
  {
   "cell_type": "code",
   "execution_count": 3,
   "id": "1660d00a",
   "metadata": {},
   "outputs": [],
   "source": [
    "x_range = np.array([0, 1])"
   ]
  },
  {
   "cell_type": "code",
   "execution_count": 4,
   "id": "99d7f18f",
   "metadata": {},
   "outputs": [],
   "source": [
    "def f(x):\n",
    "    if x_range[0] <= x <= x_range[1]:\n",
    "        return 2 * x\n",
    "    else:\n",
    "        return 0"
   ]
  },
  {
   "cell_type": "code",
   "execution_count": 5,
   "id": "b30938e2",
   "metadata": {},
   "outputs": [],
   "source": [
    "X = [x_range, f]"
   ]
  },
  {
   "cell_type": "code",
   "execution_count": 6,
   "id": "17020e77",
   "metadata": {},
   "outputs": [
    {
     "data": {
      "image/png": "[encoded data removed]",
      "text/plain": [
       "<Figure size 720x432 with 1 Axes>"
      ]
     },
     "metadata": {
      "needs_background": "light"
     },
     "output_type": "display_data"
    }
   ],
   "source": [
    "xs = np.linspace(x_range[0], x_range[1], 100)\n",
    "\n",
    "fig = plt.figure(figsize=(10, 6))\n",
    "ax = fig.add_subplot(111)\n",
    "\n",
    "ax.plot(xs, [f(x) for x in xs], label='f(x)', color='gray')\n",
    "ax.hlines(0, -0.2, 1.2, alpha=0.3)\n",
    "ax.vlines(0, -0.2, 2.2, alpha=0.3)\n",
    "ax.vlines(xs.max(), 0, 2.2, linestyles=':', color='gray')\n",
    "\n",
    "# 0.4부터 0.6 까지 x좌표를 준비\n",
    "xs = np.linspace(0.4, 0.6, 100)\n",
    "# xs의 범위로 f(x)와 x축으로 둘러싸인 영역을 진하게 칠함\n",
    "ax.fill_between(xs, [f(x) for x in xs], label='prob')\n",
    "\n",
    "ax.set_xticks(np.arange(-0.2, 1.3, 0.1))\n",
    "ax.set_xlim(-0.1, 1.1)\n",
    "ax.set_ylim(-0.2, 2.1)\n",
    "ax.legend()\n",
    "\n",
    "plt.show()"
   ]
  },
  {
   "cell_type": "code",
   "execution_count": 7,
   "id": "fcccf5cd",
   "metadata": {},
   "outputs": [
    {
     "data": {
      "text/plain": [
       "(0.200, 0.000)"
      ]
     },
     "execution_count": 7,
     "metadata": {},
     "output_type": "execute_result"
    }
   ],
   "source": [
    "# 첫 번째 인수는 피적분함수、두 번째 인수와 세 번째 인수는 적분 범위\n",
    "integrate.quad(f, 0.4, 0.6)"
   ]
  },
  {
   "cell_type": "code",
   "execution_count": 8,
   "id": "b1bf700c",
   "metadata": {},
   "outputs": [
    {
     "name": "stdout",
     "output_type": "stream",
     "text": [
      "-1.6180339754913822\n",
      "0\n"
     ]
    }
   ],
   "source": [
    "from scipy.optimize import minimize_scalar\n",
    "res = minimize_scalar(f)\n",
    "# 함수의 최솟값은 fun이라는 인스턴스 변수에\n",
    "print(res.x) # x위치에서 (?)\n",
    "print(res.fun) # f(x)값이 최소값"
   ]
  },
  {
   "cell_type": "code",
   "execution_count": 9,
   "id": "9bb7ee1c",
   "metadata": {},
   "outputs": [
    {
     "data": {
      "text/plain": [
       "1.000"
      ]
     },
     "execution_count": 9,
     "metadata": {},
     "output_type": "execute_result"
    }
   ],
   "source": [
    "integrate.quad(f, -np.inf, np.inf)[0]"
   ]
  },
  {
   "cell_type": "markdown",
   "id": "5b447bc7",
   "metadata": {},
   "source": [
    "#### 누적분포함수\n",
    "- 확률변수X가 x이하가 될 때의 확률을 반환하는 함수를 F(x)로 표기\n",
    "- 이산형 확률분포의 경우와 마찬가지로 누적분포함수(cumulative distribution function, CDF) 또는 간단히 \"분포함수\"라고 함\n",
    "$\\\\$\n",
    "$F(x) = P(X \\le x) = \\int_{-\\infty}^{x}f(x)dx$"
   ]
  },
  {
   "cell_type": "code",
   "execution_count": 10,
   "id": "25135cda",
   "metadata": {},
   "outputs": [],
   "source": [
    "def F(x):\n",
    "    return integrate.quad(f, -np.inf, x)[0]"
   ]
  },
  {
   "cell_type": "code",
   "execution_count": 11,
   "id": "6ef5a38c",
   "metadata": {},
   "outputs": [
    {
     "data": {
      "text/plain": [
       "0.200"
      ]
     },
     "execution_count": 11,
     "metadata": {},
     "output_type": "execute_result"
    }
   ],
   "source": [
    "F(0.6) - F(0.4)"
   ]
  },
  {
   "cell_type": "code",
   "execution_count": 12,
   "id": "9cef93ab",
   "metadata": {},
   "outputs": [
    {
     "data": {
      "image/png": "[encoded data removed]",
      "text/plain": [
       "<Figure size 720x432 with 1 Axes>"
      ]
     },
     "metadata": {
      "needs_background": "light"
     },
     "output_type": "display_data"
    }
   ],
   "source": [
    "xs = np.linspace(x_range[0], x_range[1], 100)\n",
    "\n",
    "fig = plt.figure(figsize=(10, 6))\n",
    "ax = fig.add_subplot(111)\n",
    "\n",
    "ax.plot(xs, [F(x) for x in xs], label='F(x)', color='gray')\n",
    "ax.hlines(0, -0.1, 1.1, alpha=0.3)\n",
    "ax.vlines(0, -0.1, 1.1, alpha=0.3)\n",
    "ax.vlines(xs.max(), 0, 1, linestyles=':', color='gray')\n",
    "# ax.vlines(위치C, A,B) # 위치C에 A부터 B까지 선을 그으시오. \n",
    "ax.set_xticks(np.arange(-0.1, 1.2, 0.1))\n",
    "ax.set_xlim(-0.1, 1.1)\n",
    "ax.set_ylim(-0.1, 1.1)\n",
    "ax.legend()\n",
    "\n",
    "plt.show()"
   ]
  },
  {
   "cell_type": "markdown",
   "id": "3340b923",
   "metadata": {},
   "source": [
    "#### 확률변수의 변환\n",
    "분포한수는 G(y)라고 합시다 \n",
    "$\\\\$\n",
    "$G(y) = P(Y \\le y) = \\int_{-\\infty}^{y}g(y)dy$"
   ]
  },
  {
   "cell_type": "code",
   "execution_count": 13,
   "id": "08919393",
   "metadata": {},
   "outputs": [],
   "source": [
    "y_range = [3, 5]\n",
    "\n",
    "def g(y): #밀도함수\n",
    "    if y_range[0] <= y <= y_range[1]:\n",
    "        return (y - 3) / 2\n",
    "    else:\n",
    "        return 0\n",
    "    \n",
    "def G(y): #분포함수\n",
    "    return integrate.quad(g, -np.inf, y)[0]"
   ]
  },
  {
   "cell_type": "code",
   "execution_count": 14,
   "id": "8bd0882a",
   "metadata": {},
   "outputs": [
    {
     "data": {
      "image/png": "[encoded data removed]",
      "text/plain": [
       "<Figure size 720x432 with 1 Axes>"
      ]
     },
     "metadata": {
      "needs_background": "light"
     },
     "output_type": "display_data"
    }
   ],
   "source": [
    "ys = np.linspace(y_range[0], y_range[1], 100)\n",
    "\n",
    "fig = plt.figure(figsize=(10, 6))\n",
    "ax = fig.add_subplot(111)\n",
    "\n",
    "ax.plot(ys, [g(y) for y in ys],\n",
    "        label='g(y)', color='gray')\n",
    "ax.plot(ys, [G(y) for y in ys],\n",
    "        label='G(y)', ls='--', color='gray')\n",
    "ax.hlines(0, 2.8, 5.2, alpha=0.3)\n",
    "ax.vlines(ys.max(), 0, 1, linestyles=':', color='gray')\n",
    "\n",
    "ax.set_xticks(np.arange(2.8, 5.2, 0.2))\n",
    "ax.set_xlim(2.8, 5.2)\n",
    "ax.set_ylim(-0.1, 1.1)\n",
    "ax.legend()\n",
    "\n",
    "plt.show()"
   ]
  },
  {
   "cell_type": "markdown",
   "id": "2f98cf4a",
   "metadata": {},
   "source": [
    "### 1차원 연속형 확률변수의 지표 "
   ]
  },
  {
   "cell_type": "markdown",
   "id": "bb235fc0",
   "metadata": {},
   "source": [
    "#### 기대값(평균)\n",
    "$\\mu=E(X)=\\int_{-\\infty}^{\\infty}xf(x)dx$"
   ]
  },
  {
   "cell_type": "code",
   "execution_count": 15,
   "id": "947784a9",
   "metadata": {},
   "outputs": [
    {
     "data": {
      "text/plain": [
       "0.667"
      ]
     },
     "execution_count": 15,
     "metadata": {},
     "output_type": "execute_result"
    }
   ],
   "source": [
    "def integrand(x):\n",
    "    return x * f(x)\n",
    "\n",
    "integrate.quad(integrand, -np.inf, np.inf)[0]"
   ]
  },
  {
   "cell_type": "markdown",
   "id": "9b42d0ae",
   "metadata": {},
   "source": [
    "- 확률변수X를 2X+3으로 변환한 \"확률변수Y의 기대값\"\n",
    "$\\\\$\n",
    "$E(Y)=E(2X+3)=\\int_{-\\infty}^{\\infty}(2x+3)f(x)dx$"
   ]
  },
  {
   "cell_type": "code",
   "execution_count": 16,
   "id": "09348b28",
   "metadata": {},
   "outputs": [],
   "source": [
    "def E(X, g=lambda x: x):\n",
    "    x_range, f = X\n",
    "    def integrand(x):\n",
    "        return g(x) * f(x)\n",
    "    return integrate.quad(integrand, -np.inf, np.inf)[0]"
   ]
  },
  {
   "cell_type": "code",
   "execution_count": 17,
   "id": "8b7c1a38",
   "metadata": {},
   "outputs": [
    {
     "data": {
      "text/plain": [
       "0.667"
      ]
     },
     "execution_count": 17,
     "metadata": {},
     "output_type": "execute_result"
    }
   ],
   "source": [
    "E(X)"
   ]
  },
  {
   "cell_type": "code",
   "execution_count": 18,
   "id": "e451a653",
   "metadata": {},
   "outputs": [
    {
     "data": {
      "text/plain": [
       "4.333"
      ]
     },
     "execution_count": 18,
     "metadata": {},
     "output_type": "execute_result"
    }
   ],
   "source": [
    "E(X, g=lambda x: 2*x+3)"
   ]
  },
  {
   "cell_type": "code",
   "execution_count": 19,
   "id": "bf9d5ce5",
   "metadata": {},
   "outputs": [
    {
     "data": {
      "text/plain": [
       "4.333"
      ]
     },
     "execution_count": 19,
     "metadata": {},
     "output_type": "execute_result"
    }
   ],
   "source": [
    "2 * E(X) + 3"
   ]
  },
  {
   "cell_type": "markdown",
   "id": "d8a450e0",
   "metadata": {},
   "source": [
    "#### 분산\n",
    "- $V(X)=\\sigma^2=\\int_{-\\infty}^{\\infty} (x-\\mu)^2f(x)dx   $"
   ]
  },
  {
   "cell_type": "code",
   "execution_count": 20,
   "id": "29d66269",
   "metadata": {},
   "outputs": [
    {
     "data": {
      "text/plain": [
       "0.056"
      ]
     },
     "execution_count": 20,
     "metadata": {},
     "output_type": "execute_result"
    }
   ],
   "source": [
    "mean = E(X)\n",
    "def integrand(x):\n",
    "    return (x - mean) ** 2 * f(x)\n",
    "\n",
    "integrate.quad(integrand, -np.inf, np.inf)[0]"
   ]
  },
  {
   "cell_type": "markdown",
   "id": "87cdf4b0",
   "metadata": {},
   "source": [
    "$V(Y)=V(2X+3)=\\int_{-\\infty}^{\\infty} ((2x+3)-\\mu)^2f(x)dx $\n",
    "$V(g(x))=\\int_{-\\infty}^{\\infty} (g(x)-E(g(X)))^2f(x)dx $"
   ]
  },
  {
   "cell_type": "code",
   "execution_count": 21,
   "id": "8c895aa6",
   "metadata": {},
   "outputs": [],
   "source": [
    "def V(X, g=lambda x: x):\n",
    "    x_range, f = X\n",
    "    mean = E(X, g)\n",
    "    def integrand(x):\n",
    "        return (g(x) - mean) ** 2 * f(x)\n",
    "    return integrate.quad(integrand, -np.inf, np.inf)[0]"
   ]
  },
  {
   "cell_type": "code",
   "execution_count": 22,
   "id": "09025e74",
   "metadata": {},
   "outputs": [
    {
     "data": {
      "text/plain": [
       "0.056"
      ]
     },
     "execution_count": 22,
     "metadata": {},
     "output_type": "execute_result"
    }
   ],
   "source": [
    "V(X)"
   ]
  },
  {
   "cell_type": "code",
   "execution_count": 23,
   "id": "1ff1e21b",
   "metadata": {},
   "outputs": [
    {
     "data": {
      "text/plain": [
       "0.222"
      ]
     },
     "execution_count": 23,
     "metadata": {},
     "output_type": "execute_result"
    }
   ],
   "source": [
    "V(X, lambda x: 2*x + 3)"
   ]
  },
  {
   "cell_type": "code",
   "execution_count": 24,
   "id": "e39eb341",
   "metadata": {},
   "outputs": [
    {
     "data": {
      "text/plain": [
       "0.222"
      ]
     },
     "execution_count": 24,
     "metadata": {},
     "output_type": "execute_result"
    }
   ],
   "source": [
    "2**2 * V(X)"
   ]
  }
 ],
 "metadata": {
  "kernelspec": {
   "display_name": "Python 3",
   "language": "python",
   "name": "python3"
  },
  "language_info": {
   "codemirror_mode": {
    "name": "ipython",
    "version": 3
   },
   "file_extension": ".py",
   "mimetype": "text/x-python",
   "name": "python",
   "nbconvert_exporter": "python",
   "pygments_lexer": "ipython3",
   "version": "3.8.8"
  }
 },
 "nbformat": 4,
 "nbformat_minor": 5
}
