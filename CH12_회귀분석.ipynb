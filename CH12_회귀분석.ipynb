{
 "cells": [
  {
   "cell_type": "markdown",
   "id": "fea239d1",
   "metadata": {},
   "source": [
    "# Chapter12. 회귀분석"
   ]
  },
  {
   "cell_type": "code",
   "execution_count": 1,
   "id": "cc5c93e4",
   "metadata": {},
   "outputs": [],
   "source": [
    "import numpy as np\n",
    "import pandas as pd\n",
    "import matplotlib.pyplot as plt\n",
    "from scipy import stats\n",
    "import statsmodels.formula.api as smf\n",
    "\n",
    "%precision 3\n",
    "%matplotlib inline"
   ]
  },
  {
   "cell_type": "code",
   "execution_count": 2,
   "id": "f87ebb9f",
   "metadata": {},
   "outputs": [
    {
     "name": "stdout",
     "output_type": "stream",
     "text": [
      "20\n"
     ]
    },
    {
     "data": {
      "text/html": [
       "<div>\n",
       "<style scoped>\n",
       "    .dataframe tbody tr th:only-of-type {\n",
       "        vertical-align: middle;\n",
       "    }\n",
       "\n",
       "    .dataframe tbody tr th {\n",
       "        vertical-align: top;\n",
       "    }\n",
       "\n",
       "    .dataframe thead th {\n",
       "        text-align: right;\n",
       "    }\n",
       "</style>\n",
       "<table border=\"1\" class=\"dataframe\">\n",
       "  <thead>\n",
       "    <tr style=\"text-align: right;\">\n",
       "      <th></th>\n",
       "      <th>quiz</th>\n",
       "      <th>final_test</th>\n",
       "      <th>sleep_time</th>\n",
       "      <th>school_method</th>\n",
       "    </tr>\n",
       "  </thead>\n",
       "  <tbody>\n",
       "    <tr>\n",
       "      <th>0</th>\n",
       "      <td>4.2</td>\n",
       "      <td>67</td>\n",
       "      <td>7.2</td>\n",
       "      <td>bus</td>\n",
       "    </tr>\n",
       "    <tr>\n",
       "      <th>1</th>\n",
       "      <td>7.2</td>\n",
       "      <td>71</td>\n",
       "      <td>7.9</td>\n",
       "      <td>bicycle</td>\n",
       "    </tr>\n",
       "    <tr>\n",
       "      <th>2</th>\n",
       "      <td>0.0</td>\n",
       "      <td>19</td>\n",
       "      <td>5.3</td>\n",
       "      <td>bus</td>\n",
       "    </tr>\n",
       "    <tr>\n",
       "      <th>3</th>\n",
       "      <td>3.0</td>\n",
       "      <td>35</td>\n",
       "      <td>6.8</td>\n",
       "      <td>walk</td>\n",
       "    </tr>\n",
       "    <tr>\n",
       "      <th>4</th>\n",
       "      <td>1.5</td>\n",
       "      <td>35</td>\n",
       "      <td>7.5</td>\n",
       "      <td>walk</td>\n",
       "    </tr>\n",
       "  </tbody>\n",
       "</table>\n",
       "</div>"
      ],
      "text/plain": [
       "   quiz  final_test  sleep_time school_method\n",
       "0   4.2          67         7.2           bus\n",
       "1   7.2          71         7.9       bicycle\n",
       "2   0.0          19         5.3           bus\n",
       "3   3.0          35         6.8          walk\n",
       "4   1.5          35         7.5          walk"
      ]
     },
     "execution_count": 2,
     "metadata": {},
     "output_type": "execute_result"
    }
   ],
   "source": [
    "df = pd.read_csv('../data/ch12_scores_reg.csv')\n",
    "n = len(df)\n",
    "print(n)\n",
    "df.head()"
   ]
  },
  {
   "cell_type": "markdown",
   "id": "812f1c0f",
   "metadata": {},
   "source": [
    "## 12.1. 단순회귀모형\n",
    "- 회귀분석(regression analysis)이란 인과관계가 의심되는 복수의 변수를 사용하여 어느 변수로부터 다른 변수의 값을 예측하는 기법입니다. 이때 원인이 되는 변수를 설명변수(explanatory variable)라고 하고, 결과가 되는 변수를 반응변수(response variable)라고 합니다. 설명변수와 반응변수를 각각 독립변수와 종속변수라고 부르기도 합니다. \n",
    "- 단순회귀모형은 회귀분석에서 설명변수와 반응변수가 1개씩인 가장 단순한 모델"
   ]
  },
  {
   "cell_type": "code",
   "execution_count": 3,
   "id": "11312aac",
   "metadata": {},
   "outputs": [],
   "source": [
    "x = np.array(df['quiz'])\n",
    "y = np.array(df['final_test'])\n",
    "p = 1"
   ]
  },
  {
   "cell_type": "code",
   "execution_count": 4,
   "id": "925d8b34",
   "metadata": {},
   "outputs": [
    {
     "data": {
      "image/png": "[encoded data removed]",
      "text/plain": [
       "<Figure size 720x432 with 1 Axes>"
      ]
     },
     "metadata": {
      "needs_background": "light"
     },
     "output_type": "display_data"
    }
   ],
   "source": [
    "poly_fit = np.polyfit(x, y, 1)\n",
    "poly_1d = np.poly1d(poly_fit)\n",
    "xs = np.linspace(x.min(), x.max())\n",
    "ys = poly_1d(xs)\n",
    "\n",
    "fig = plt.figure(figsize=(10, 6))\n",
    "ax = fig.add_subplot(111)\n",
    "ax.set_xlabel('quiz')\n",
    "ax.set_ylabel('final test')\n",
    "ax.plot(xs, ys, color='gray', \n",
    "        label=f'{poly_fit[1]:.2f}+{poly_fit[0]:.2f}x')\n",
    "ax.scatter(x, y)\n",
    "ax.legend()\n",
    "\n",
    "plt.show()"
   ]
  },
  {
   "cell_type": "markdown",
   "id": "53237327",
   "metadata": {},
   "source": [
    "## 12.1.1. 회귀분석에서의 가설 \n",
    "- 예측할 수 없는 부분을 오차항(error term)이라고 하고 $\\epsilon$으로 나타내고, 기말고사 결과를 다음과 같이 나타낼 수 있다. \n",
    "- Yi = b0 +b1x+$\\epsilon$\n",
    "- 회귀분석에서 다음과 같은 2가지를 가정한다. \n",
    "- 1) 설명변수가 확률변수가 아니다. \n",
    "- 2) $\\epsilon$은 서로 독립이고 N(0,$\\sigma^{2}$)을 따른다"
   ]
  },
  {
   "cell_type": "markdown",
   "id": "288c690d",
   "metadata": {},
   "source": [
    "### statsmodels에 의한 회귀분석"
   ]
  },
  {
   "cell_type": "code",
   "execution_count": 5,
   "id": "7d0c0fc8",
   "metadata": {},
   "outputs": [
    {
     "data": {
      "text/html": [
       "<table class=\"simpletable\">\n",
       "<caption>OLS Regression Results</caption>\n",
       "<tr>\n",
       "  <th>Dep. Variable:</th>       <td>final_test</td>    <th>  R-squared:         </th> <td>   0.676</td>\n",
       "</tr>\n",
       "<tr>\n",
       "  <th>Model:</th>                   <td>OLS</td>       <th>  Adj. R-squared:    </th> <td>   0.658</td>\n",
       "</tr>\n",
       "<tr>\n",
       "  <th>Method:</th>             <td>Least Squares</td>  <th>  F-statistic:       </th> <td>   37.61</td>\n",
       "</tr>\n",
       "<tr>\n",
       "  <th>Date:</th>             <td>Sun, 13 Mar 2022</td> <th>  Prob (F-statistic):</th> <td>8.59e-06</td>\n",
       "</tr>\n",
       "<tr>\n",
       "  <th>Time:</th>                 <td>00:02:22</td>     <th>  Log-Likelihood:    </th> <td> -76.325</td>\n",
       "</tr>\n",
       "<tr>\n",
       "  <th>No. Observations:</th>      <td>    20</td>      <th>  AIC:               </th> <td>   156.7</td>\n",
       "</tr>\n",
       "<tr>\n",
       "  <th>Df Residuals:</th>          <td>    18</td>      <th>  BIC:               </th> <td>   158.6</td>\n",
       "</tr>\n",
       "<tr>\n",
       "  <th>Df Model:</th>              <td>     1</td>      <th>                     </th>     <td> </td>   \n",
       "</tr>\n",
       "<tr>\n",
       "  <th>Covariance Type:</th>      <td>nonrobust</td>    <th>                     </th>     <td> </td>   \n",
       "</tr>\n",
       "</table>\n",
       "<table class=\"simpletable\">\n",
       "<tr>\n",
       "      <td></td>         <th>coef</th>     <th>std err</th>      <th>t</th>      <th>P>|t|</th>  <th>[0.025</th>    <th>0.975]</th>  \n",
       "</tr>\n",
       "<tr>\n",
       "  <th>Intercept</th> <td>   23.6995</td> <td>    4.714</td> <td>    5.028</td> <td> 0.000</td> <td>   13.796</td> <td>   33.603</td>\n",
       "</tr>\n",
       "<tr>\n",
       "  <th>quiz</th>      <td>    6.5537</td> <td>    1.069</td> <td>    6.133</td> <td> 0.000</td> <td>    4.309</td> <td>    8.799</td>\n",
       "</tr>\n",
       "</table>\n",
       "<table class=\"simpletable\">\n",
       "<tr>\n",
       "  <th>Omnibus:</th>       <td> 2.139</td> <th>  Durbin-Watson:     </th> <td>   1.478</td>\n",
       "</tr>\n",
       "<tr>\n",
       "  <th>Prob(Omnibus):</th> <td> 0.343</td> <th>  Jarque-Bera (JB):  </th> <td>   1.773</td>\n",
       "</tr>\n",
       "<tr>\n",
       "  <th>Skew:</th>          <td> 0.670</td> <th>  Prob(JB):          </th> <td>   0.412</td>\n",
       "</tr>\n",
       "<tr>\n",
       "  <th>Kurtosis:</th>      <td> 2.422</td> <th>  Cond. No.          </th> <td>    8.32</td>\n",
       "</tr>\n",
       "</table><br/><br/>Notes:<br/>[1] Standard Errors assume that the covariance matrix of the errors is correctly specified."
      ],
      "text/plain": [
       "<class 'statsmodels.iolib.summary.Summary'>\n",
       "\"\"\"\n",
       "                            OLS Regression Results                            \n",
       "==============================================================================\n",
       "Dep. Variable:             final_test   R-squared:                       0.676\n",
       "Model:                            OLS   Adj. R-squared:                  0.658\n",
       "Method:                 Least Squares   F-statistic:                     37.61\n",
       "Date:                Sun, 13 Mar 2022   Prob (F-statistic):           8.59e-06\n",
       "Time:                        00:02:22   Log-Likelihood:                -76.325\n",
       "No. Observations:                  20   AIC:                             156.7\n",
       "Df Residuals:                      18   BIC:                             158.6\n",
       "Df Model:                           1                                         \n",
       "Covariance Type:            nonrobust                                         \n",
       "==============================================================================\n",
       "                 coef    std err          t      P>|t|      [0.025      0.975]\n",
       "------------------------------------------------------------------------------\n",
       "Intercept     23.6995      4.714      5.028      0.000      13.796      33.603\n",
       "quiz           6.5537      1.069      6.133      0.000       4.309       8.799\n",
       "==============================================================================\n",
       "Omnibus:                        2.139   Durbin-Watson:                   1.478\n",
       "Prob(Omnibus):                  0.343   Jarque-Bera (JB):                1.773\n",
       "Skew:                           0.670   Prob(JB):                        0.412\n",
       "Kurtosis:                       2.422   Cond. No.                         8.32\n",
       "==============================================================================\n",
       "\n",
       "Notes:\n",
       "[1] Standard Errors assume that the covariance matrix of the errors is correctly specified.\n",
       "\"\"\""
      ]
     },
     "execution_count": 5,
     "metadata": {},
     "output_type": "execute_result"
    }
   ],
   "source": [
    "formula = 'final_test ~ quiz'\n",
    "result = smf.ols(formula, df).fit()\n",
    "result.summary()"
   ]
  },
  {
   "cell_type": "markdown",
   "id": "657bfbca",
   "metadata": {},
   "source": [
    "## 12.1.3. 회귀계수"
   ]
  },
  {
   "cell_type": "code",
   "execution_count": 7,
   "id": "3cec0924",
   "metadata": {},
   "outputs": [
    {
     "data": {
      "text/plain": [
       "array([[1. , 4.2],\n",
       "       [1. , 7.2],\n",
       "       [1. , 0. ],\n",
       "       [1. , 3. ],\n",
       "       [1. , 1.5],\n",
       "       [1. , 0.9],\n",
       "       [1. , 1.9],\n",
       "       [1. , 3.5],\n",
       "       [1. , 4. ],\n",
       "       [1. , 5.4],\n",
       "       [1. , 4.2],\n",
       "       [1. , 6.9],\n",
       "       [1. , 2. ],\n",
       "       [1. , 8.8],\n",
       "       [1. , 0.3],\n",
       "       [1. , 6.7],\n",
       "       [1. , 4.2],\n",
       "       [1. , 5.6],\n",
       "       [1. , 1.4],\n",
       "       [1. , 2. ]])"
      ]
     },
     "execution_count": 7,
     "metadata": {},
     "output_type": "execute_result"
    }
   ],
   "source": [
    "X = np.array([np.ones_like(x), x]).T\n",
    "X"
   ]
  },
  {
   "cell_type": "code",
   "execution_count": 8,
   "id": "2e96e53d",
   "metadata": {},
   "outputs": [
    {
     "name": "stderr",
     "output_type": "stream",
     "text": [
      "<ipython-input-8-db859e0f352c>:1: FutureWarning: `rcond` parameter will change to the default of machine precision times ``max(M, N)`` where M and N are the input matrix dimensions.\n",
      "To use the future default and silence this warning we advise to pass `rcond=None`, to keep using the old, explicitly pass `rcond=-1`.\n",
      "  beta0_hat, beta1_hat = np.linalg.lstsq(X, y)[0]\n"
     ]
    },
    {
     "data": {
      "text/plain": [
       "(23.69949534673122, 6.553732606043082)"
      ]
     },
     "execution_count": 8,
     "metadata": {},
     "output_type": "execute_result"
    }
   ],
   "source": [
    "beta0_hat, beta1_hat = np.linalg.lstsq(X, y)[0]\n",
    "beta0_hat, beta1_hat"
   ]
  },
  {
   "cell_type": "code",
   "execution_count": 9,
   "id": "fa649953",
   "metadata": {},
   "outputs": [],
   "source": [
    "y_hat = beta0_hat + beta1_hat * x\n",
    "eps_hat = y - y_hat"
   ]
  },
  {
   "cell_type": "code",
   "execution_count": 10,
   "id": "bc166bc5",
   "metadata": {},
   "outputs": [
    {
     "data": {
      "text/plain": [
       "array([ 15.775,   0.114,  -4.699,  -8.361,   1.47 ,  10.402, -13.152,\n",
       "        -9.638, -10.914,  -4.09 , -11.225,   1.08 ,  -7.807,   6.628,\n",
       "        21.334,   9.39 ,   0.775,  -5.4  , -14.875,  23.193])"
      ]
     },
     "execution_count": 10,
     "metadata": {},
     "output_type": "execute_result"
    }
   ],
   "source": [
    "eps_hat"
   ]
  },
  {
   "cell_type": "code",
   "execution_count": 11,
   "id": "ba43f423",
   "metadata": {},
   "outputs": [
    {
     "data": {
      "text/plain": [
       "134.29043473495898"
      ]
     },
     "execution_count": 11,
     "metadata": {},
     "output_type": "execute_result"
    }
   ],
   "source": [
    "s_var = np.var(eps_hat, ddof=p+1)\n",
    "s_var"
   ]
  },
  {
   "cell_type": "markdown",
   "id": "cd368f5c",
   "metadata": {},
   "source": [
    "### 구간추정"
   ]
  },
  {
   "cell_type": "code",
   "execution_count": 12,
   "id": "2fe7e0e4",
   "metadata": {},
   "outputs": [],
   "source": [
    "C0, C1 = np.diag(np.linalg.pinv(np.dot(X.T, X)))"
   ]
  },
  {
   "cell_type": "code",
   "execution_count": 13,
   "id": "b36a0ce3",
   "metadata": {},
   "outputs": [
    {
     "data": {
      "text/plain": [
       "(4.713837012645705, 1.0685841387335373)"
      ]
     },
     "execution_count": 13,
     "metadata": {},
     "output_type": "execute_result"
    }
   ],
   "source": [
    "np.sqrt(s_var * C0), np.sqrt(s_var * C1)"
   ]
  },
  {
   "cell_type": "code",
   "execution_count": 14,
   "id": "51f6b04b",
   "metadata": {},
   "outputs": [
    {
     "data": {
      "text/plain": [
       "(13.796091272760252, 33.60289942070219)"
      ]
     },
     "execution_count": 14,
     "metadata": {},
     "output_type": "execute_result"
    }
   ],
   "source": [
    "rv = stats.t(n-2)\n",
    "\n",
    "lcl = beta0_hat - rv.isf(0.025) * np.sqrt(s_var * C0)\n",
    "hcl = beta0_hat - rv.isf(0.975) * np.sqrt(s_var * C0)\n",
    "lcl, hcl"
   ]
  },
  {
   "cell_type": "code",
   "execution_count": 15,
   "id": "9d32fb11",
   "metadata": {},
   "outputs": [
    {
     "data": {
      "text/plain": [
       "(4.308720637125889, 8.798744574960274)"
      ]
     },
     "execution_count": 15,
     "metadata": {},
     "output_type": "execute_result"
    }
   ],
   "source": [
    "rv = stats.t(n-2)\n",
    "\n",
    "lcl = beta1_hat - rv.isf(0.025) * np.sqrt(s_var * C1)\n",
    "hcl = beta1_hat - rv.isf(0.975) * np.sqrt(s_var * C1)\n",
    "lcl, hcl"
   ]
  },
  {
   "cell_type": "code",
   "execution_count": 16,
   "id": "b80836aa",
   "metadata": {},
   "outputs": [
    {
     "data": {
      "text/plain": [
       "6.133099274532021"
      ]
     },
     "execution_count": 16,
     "metadata": {},
     "output_type": "execute_result"
    }
   ],
   "source": [
    "t = beta1_hat / np.sqrt(s_var * C1)\n",
    "t"
   ]
  },
  {
   "cell_type": "code",
   "execution_count": 17,
   "id": "d85ebfa8",
   "metadata": {},
   "outputs": [
    {
     "data": {
      "text/plain": [
       "8.590875866687497e-06"
      ]
     },
     "execution_count": 17,
     "metadata": {},
     "output_type": "execute_result"
    }
   ],
   "source": [
    "(1 - rv.cdf(t)) * 2"
   ]
  },
  {
   "cell_type": "code",
   "execution_count": 18,
   "id": "1ec8c9c1",
   "metadata": {},
   "outputs": [
    {
     "data": {
      "text/plain": [
       "5.0276442064401285"
      ]
     },
     "execution_count": 18,
     "metadata": {},
     "output_type": "execute_result"
    }
   ],
   "source": [
    "t = beta0_hat / np.sqrt(s_var * C0)\n",
    "t"
   ]
  },
  {
   "cell_type": "code",
   "execution_count": 19,
   "id": "cd50ff74",
   "metadata": {},
   "outputs": [
    {
     "data": {
      "text/plain": [
       "8.745298393186829e-05"
      ]
     },
     "execution_count": 19,
     "metadata": {},
     "output_type": "execute_result"
    }
   ],
   "source": [
    "(1 - rv.cdf(t)) * 2"
   ]
  },
  {
   "cell_type": "markdown",
   "id": "cded67f7",
   "metadata": {},
   "source": [
    "## 12.2. 중회귀모형\n",
    "- 설명변수가 2개이상인 모형을 중회귀모형이라고 함."
   ]
  },
  {
   "cell_type": "code",
   "execution_count": 20,
   "id": "16f9ff1b",
   "metadata": {},
   "outputs": [
    {
     "data": {
      "text/html": [
       "<table class=\"simpletable\">\n",
       "<caption>OLS Regression Results</caption>\n",
       "<tr>\n",
       "  <th>Dep. Variable:</th>       <td>final_test</td>    <th>  R-squared:         </th> <td>   0.756</td>\n",
       "</tr>\n",
       "<tr>\n",
       "  <th>Model:</th>                   <td>OLS</td>       <th>  Adj. R-squared:    </th> <td>   0.727</td>\n",
       "</tr>\n",
       "<tr>\n",
       "  <th>Method:</th>             <td>Least Squares</td>  <th>  F-statistic:       </th> <td>   26.35</td>\n",
       "</tr>\n",
       "<tr>\n",
       "  <th>Date:</th>             <td>Sun, 13 Mar 2022</td> <th>  Prob (F-statistic):</th> <td>6.19e-06</td>\n",
       "</tr>\n",
       "<tr>\n",
       "  <th>Time:</th>                 <td>00:24:06</td>     <th>  Log-Likelihood:    </th> <td> -73.497</td>\n",
       "</tr>\n",
       "<tr>\n",
       "  <th>No. Observations:</th>      <td>    20</td>      <th>  AIC:               </th> <td>   153.0</td>\n",
       "</tr>\n",
       "<tr>\n",
       "  <th>Df Residuals:</th>          <td>    17</td>      <th>  BIC:               </th> <td>   156.0</td>\n",
       "</tr>\n",
       "<tr>\n",
       "  <th>Df Model:</th>              <td>     2</td>      <th>                     </th>     <td> </td>   \n",
       "</tr>\n",
       "<tr>\n",
       "  <th>Covariance Type:</th>      <td>nonrobust</td>    <th>                     </th>     <td> </td>   \n",
       "</tr>\n",
       "</table>\n",
       "<table class=\"simpletable\">\n",
       "<tr>\n",
       "       <td></td>         <th>coef</th>     <th>std err</th>      <th>t</th>      <th>P>|t|</th>  <th>[0.025</th>    <th>0.975]</th>  \n",
       "</tr>\n",
       "<tr>\n",
       "  <th>Intercept</th>  <td>   -1.8709</td> <td>   11.635</td> <td>   -0.161</td> <td> 0.874</td> <td>  -26.420</td> <td>   22.678</td>\n",
       "</tr>\n",
       "<tr>\n",
       "  <th>quiz</th>       <td>    6.4289</td> <td>    0.956</td> <td>    6.725</td> <td> 0.000</td> <td>    4.412</td> <td>    8.446</td>\n",
       "</tr>\n",
       "<tr>\n",
       "  <th>sleep_time</th> <td>    4.1917</td> <td>    1.778</td> <td>    2.357</td> <td> 0.031</td> <td>    0.440</td> <td>    7.943</td>\n",
       "</tr>\n",
       "</table>\n",
       "<table class=\"simpletable\">\n",
       "<tr>\n",
       "  <th>Omnibus:</th>       <td> 2.073</td> <th>  Durbin-Watson:     </th> <td>   1.508</td>\n",
       "</tr>\n",
       "<tr>\n",
       "  <th>Prob(Omnibus):</th> <td> 0.355</td> <th>  Jarque-Bera (JB):  </th> <td>   1.716</td>\n",
       "</tr>\n",
       "<tr>\n",
       "  <th>Skew:</th>          <td> 0.660</td> <th>  Prob(JB):          </th> <td>   0.424</td>\n",
       "</tr>\n",
       "<tr>\n",
       "  <th>Kurtosis:</th>      <td> 2.437</td> <th>  Cond. No.          </th> <td>    38.0</td>\n",
       "</tr>\n",
       "</table><br/><br/>Notes:<br/>[1] Standard Errors assume that the covariance matrix of the errors is correctly specified."
      ],
      "text/plain": [
       "<class 'statsmodels.iolib.summary.Summary'>\n",
       "\"\"\"\n",
       "                            OLS Regression Results                            \n",
       "==============================================================================\n",
       "Dep. Variable:             final_test   R-squared:                       0.756\n",
       "Model:                            OLS   Adj. R-squared:                  0.727\n",
       "Method:                 Least Squares   F-statistic:                     26.35\n",
       "Date:                Sun, 13 Mar 2022   Prob (F-statistic):           6.19e-06\n",
       "Time:                        00:24:06   Log-Likelihood:                -73.497\n",
       "No. Observations:                  20   AIC:                             153.0\n",
       "Df Residuals:                      17   BIC:                             156.0\n",
       "Df Model:                           2                                         \n",
       "Covariance Type:            nonrobust                                         \n",
       "==============================================================================\n",
       "                 coef    std err          t      P>|t|      [0.025      0.975]\n",
       "------------------------------------------------------------------------------\n",
       "Intercept     -1.8709     11.635     -0.161      0.874     -26.420      22.678\n",
       "quiz           6.4289      0.956      6.725      0.000       4.412       8.446\n",
       "sleep_time     4.1917      1.778      2.357      0.031       0.440       7.943\n",
       "==============================================================================\n",
       "Omnibus:                        2.073   Durbin-Watson:                   1.508\n",
       "Prob(Omnibus):                  0.355   Jarque-Bera (JB):                1.716\n",
       "Skew:                           0.660   Prob(JB):                        0.424\n",
       "Kurtosis:                       2.437   Cond. No.                         38.0\n",
       "==============================================================================\n",
       "\n",
       "Notes:\n",
       "[1] Standard Errors assume that the covariance matrix of the errors is correctly specified.\n",
       "\"\"\""
      ]
     },
     "execution_count": 20,
     "metadata": {},
     "output_type": "execute_result"
    }
   ],
   "source": [
    "formula = 'final_test ~ quiz + sleep_time'\n",
    "result = smf.ols(formula, df).fit()\n",
    "result.summary()"
   ]
  },
  {
   "cell_type": "markdown",
   "id": "d9efc17c",
   "metadata": {},
   "source": [
    "## 12.2.1. 회귀계수"
   ]
  },
  {
   "cell_type": "code",
   "execution_count": 21,
   "id": "ece443b9",
   "metadata": {},
   "outputs": [],
   "source": [
    "x1 = df['quiz']\n",
    "x2 = df['sleep_time']\n",
    "y = df['final_test']\n",
    "p = 2"
   ]
  },
  {
   "cell_type": "code",
   "execution_count": 22,
   "id": "69a14f01",
   "metadata": {},
   "outputs": [
    {
     "name": "stderr",
     "output_type": "stream",
     "text": [
      "<ipython-input-22-e24e98ac4cc2>:2: FutureWarning: `rcond` parameter will change to the default of machine precision times ``max(M, N)`` where M and N are the input matrix dimensions.\n",
      "To use the future default and silence this warning we advise to pass `rcond=None`, to keep using the old, explicitly pass `rcond=-1`.\n",
      "  beta0_hat, beta1_hat, beta2_hat = np.linalg.lstsq(X, y)[0]\n"
     ]
    },
    {
     "data": {
      "text/plain": [
       "(-1.8709143470995901, 6.4288783430023715, 4.191706546398687)"
      ]
     },
     "execution_count": 22,
     "metadata": {},
     "output_type": "execute_result"
    }
   ],
   "source": [
    "X = np.array([np.ones_like(x1), x1, x2]).T\n",
    "beta0_hat, beta1_hat, beta2_hat = np.linalg.lstsq(X, y)[0]\n",
    "beta0_hat, beta1_hat, beta2_hat"
   ]
  },
  {
   "cell_type": "code",
   "execution_count": 23,
   "id": "1b5686af",
   "metadata": {},
   "outputs": [],
   "source": [
    "y_hat = beta0_hat + beta1_hat * x1 + beta2_hat * x2\n",
    "eps_hat = y - y_hat"
   ]
  },
  {
   "cell_type": "code",
   "execution_count": 24,
   "id": "380096ff",
   "metadata": {},
   "outputs": [],
   "source": [
    "s_var = np.sum(eps_hat ** 2) / (n - p - 1)\n",
    "C0, C1, C2 = np.diag(np.linalg.pinv(np.dot(X.T, X)))"
   ]
  },
  {
   "cell_type": "code",
   "execution_count": 25,
   "id": "eae89ed7",
   "metadata": {},
   "outputs": [
    {
     "data": {
      "text/plain": [
       "(0.44025333254357735, 7.9431597602537956)"
      ]
     },
     "execution_count": 25,
     "metadata": {},
     "output_type": "execute_result"
    }
   ],
   "source": [
    "rv = stats.t(n-p-1)\n",
    "\n",
    "lcl = beta2_hat - rv.isf(0.025) * np.sqrt(s_var * C2)\n",
    "hcl = beta2_hat - rv.isf(0.975) * np.sqrt(s_var * C2)\n",
    "lcl, hcl"
   ]
  },
  {
   "cell_type": "markdown",
   "id": "69697e97",
   "metadata": {},
   "source": [
    "## 12.2.2. 가변수\n",
    "- dummy variable"
   ]
  },
  {
   "cell_type": "code",
   "execution_count": 26,
   "id": "1b7d19b5",
   "metadata": {},
   "outputs": [
    {
     "data": {
      "text/html": [
       "<table class=\"simpletable\">\n",
       "<caption>OLS Regression Results</caption>\n",
       "<tr>\n",
       "  <th>Dep. Variable:</th>       <td>final_test</td>    <th>  R-squared:         </th> <td>   0.782</td>\n",
       "</tr>\n",
       "<tr>\n",
       "  <th>Model:</th>                   <td>OLS</td>       <th>  Adj. R-squared:    </th> <td>   0.724</td>\n",
       "</tr>\n",
       "<tr>\n",
       "  <th>Method:</th>             <td>Least Squares</td>  <th>  F-statistic:       </th> <td>   13.46</td>\n",
       "</tr>\n",
       "<tr>\n",
       "  <th>Date:</th>             <td>Sun, 13 Mar 2022</td> <th>  Prob (F-statistic):</th> <td>7.47e-05</td>\n",
       "</tr>\n",
       "<tr>\n",
       "  <th>Time:</th>                 <td>00:28:31</td>     <th>  Log-Likelihood:    </th> <td> -72.368</td>\n",
       "</tr>\n",
       "<tr>\n",
       "  <th>No. Observations:</th>      <td>    20</td>      <th>  AIC:               </th> <td>   154.7</td>\n",
       "</tr>\n",
       "<tr>\n",
       "  <th>Df Residuals:</th>          <td>    15</td>      <th>  BIC:               </th> <td>   159.7</td>\n",
       "</tr>\n",
       "<tr>\n",
       "  <th>Df Model:</th>              <td>     4</td>      <th>                     </th>     <td> </td>   \n",
       "</tr>\n",
       "<tr>\n",
       "  <th>Covariance Type:</th>      <td>nonrobust</td>    <th>                     </th>     <td> </td>   \n",
       "</tr>\n",
       "</table>\n",
       "<table class=\"simpletable\">\n",
       "<tr>\n",
       "            <td></td>               <th>coef</th>     <th>std err</th>      <th>t</th>      <th>P>|t|</th>  <th>[0.025</th>    <th>0.975]</th>  \n",
       "</tr>\n",
       "<tr>\n",
       "  <th>Intercept</th>             <td>    1.3330</td> <td>   12.434</td> <td>    0.107</td> <td> 0.916</td> <td>  -25.169</td> <td>   27.835</td>\n",
       "</tr>\n",
       "<tr>\n",
       "  <th>school_method[T.bus]</th>  <td>   -1.8118</td> <td>    6.324</td> <td>   -0.286</td> <td> 0.778</td> <td>  -15.292</td> <td>   11.668</td>\n",
       "</tr>\n",
       "<tr>\n",
       "  <th>school_method[T.walk]</th> <td>   -7.6555</td> <td>    6.420</td> <td>   -1.192</td> <td> 0.252</td> <td>  -21.339</td> <td>    6.028</td>\n",
       "</tr>\n",
       "<tr>\n",
       "  <th>quiz</th>                  <td>    6.0029</td> <td>    1.033</td> <td>    5.809</td> <td> 0.000</td> <td>    3.800</td> <td>    8.206</td>\n",
       "</tr>\n",
       "<tr>\n",
       "  <th>sleep_time</th>            <td>    4.5238</td> <td>    1.809</td> <td>    2.501</td> <td> 0.024</td> <td>    0.668</td> <td>    8.380</td>\n",
       "</tr>\n",
       "</table>\n",
       "<table class=\"simpletable\">\n",
       "<tr>\n",
       "  <th>Omnibus:</th>       <td> 1.764</td> <th>  Durbin-Watson:     </th> <td>   1.418</td>\n",
       "</tr>\n",
       "<tr>\n",
       "  <th>Prob(Omnibus):</th> <td> 0.414</td> <th>  Jarque-Bera (JB):  </th> <td>   0.989</td>\n",
       "</tr>\n",
       "<tr>\n",
       "  <th>Skew:</th>          <td> 0.545</td> <th>  Prob(JB):          </th> <td>   0.610</td>\n",
       "</tr>\n",
       "<tr>\n",
       "  <th>Kurtosis:</th>      <td> 2.985</td> <th>  Cond. No.          </th> <td>    41.8</td>\n",
       "</tr>\n",
       "</table><br/><br/>Notes:<br/>[1] Standard Errors assume that the covariance matrix of the errors is correctly specified."
      ],
      "text/plain": [
       "<class 'statsmodels.iolib.summary.Summary'>\n",
       "\"\"\"\n",
       "                            OLS Regression Results                            \n",
       "==============================================================================\n",
       "Dep. Variable:             final_test   R-squared:                       0.782\n",
       "Model:                            OLS   Adj. R-squared:                  0.724\n",
       "Method:                 Least Squares   F-statistic:                     13.46\n",
       "Date:                Sun, 13 Mar 2022   Prob (F-statistic):           7.47e-05\n",
       "Time:                        00:28:31   Log-Likelihood:                -72.368\n",
       "No. Observations:                  20   AIC:                             154.7\n",
       "Df Residuals:                      15   BIC:                             159.7\n",
       "Df Model:                           4                                         \n",
       "Covariance Type:            nonrobust                                         \n",
       "=========================================================================================\n",
       "                            coef    std err          t      P>|t|      [0.025      0.975]\n",
       "-----------------------------------------------------------------------------------------\n",
       "Intercept                 1.3330     12.434      0.107      0.916     -25.169      27.835\n",
       "school_method[T.bus]     -1.8118      6.324     -0.286      0.778     -15.292      11.668\n",
       "school_method[T.walk]    -7.6555      6.420     -1.192      0.252     -21.339       6.028\n",
       "quiz                      6.0029      1.033      5.809      0.000       3.800       8.206\n",
       "sleep_time                4.5238      1.809      2.501      0.024       0.668       8.380\n",
       "==============================================================================\n",
       "Omnibus:                        1.764   Durbin-Watson:                   1.418\n",
       "Prob(Omnibus):                  0.414   Jarque-Bera (JB):                0.989\n",
       "Skew:                           0.545   Prob(JB):                        0.610\n",
       "Kurtosis:                       2.985   Cond. No.                         41.8\n",
       "==============================================================================\n",
       "\n",
       "Notes:\n",
       "[1] Standard Errors assume that the covariance matrix of the errors is correctly specified.\n",
       "\"\"\""
      ]
     },
     "execution_count": 26,
     "metadata": {},
     "output_type": "execute_result"
    }
   ],
   "source": [
    "formula = 'final_test ~ quiz + sleep_time + school_method'\n",
    "result = smf.ols(formula, df).fit()\n",
    "result.summary()"
   ]
  },
  {
   "cell_type": "code",
   "execution_count": 27,
   "id": "4ed2353e",
   "metadata": {},
   "outputs": [
    {
     "data": {
      "text/html": [
       "<div>\n",
       "<style scoped>\n",
       "    .dataframe tbody tr th:only-of-type {\n",
       "        vertical-align: middle;\n",
       "    }\n",
       "\n",
       "    .dataframe tbody tr th {\n",
       "        vertical-align: top;\n",
       "    }\n",
       "\n",
       "    .dataframe thead th {\n",
       "        text-align: right;\n",
       "    }\n",
       "</style>\n",
       "<table border=\"1\" class=\"dataframe\">\n",
       "  <thead>\n",
       "    <tr style=\"text-align: right;\">\n",
       "      <th></th>\n",
       "      <th>quiz</th>\n",
       "      <th>final_test</th>\n",
       "      <th>sleep_time</th>\n",
       "      <th>school_method</th>\n",
       "    </tr>\n",
       "  </thead>\n",
       "  <tbody>\n",
       "    <tr>\n",
       "      <th>0</th>\n",
       "      <td>4.2</td>\n",
       "      <td>67</td>\n",
       "      <td>7.2</td>\n",
       "      <td>bus</td>\n",
       "    </tr>\n",
       "    <tr>\n",
       "      <th>1</th>\n",
       "      <td>7.2</td>\n",
       "      <td>71</td>\n",
       "      <td>7.9</td>\n",
       "      <td>bicycle</td>\n",
       "    </tr>\n",
       "    <tr>\n",
       "      <th>2</th>\n",
       "      <td>0.0</td>\n",
       "      <td>19</td>\n",
       "      <td>5.3</td>\n",
       "      <td>bus</td>\n",
       "    </tr>\n",
       "    <tr>\n",
       "      <th>3</th>\n",
       "      <td>3.0</td>\n",
       "      <td>35</td>\n",
       "      <td>6.8</td>\n",
       "      <td>walk</td>\n",
       "    </tr>\n",
       "    <tr>\n",
       "      <th>4</th>\n",
       "      <td>1.5</td>\n",
       "      <td>35</td>\n",
       "      <td>7.5</td>\n",
       "      <td>walk</td>\n",
       "    </tr>\n",
       "    <tr>\n",
       "      <th>5</th>\n",
       "      <td>0.9</td>\n",
       "      <td>40</td>\n",
       "      <td>7.6</td>\n",
       "      <td>bus</td>\n",
       "    </tr>\n",
       "    <tr>\n",
       "      <th>6</th>\n",
       "      <td>1.9</td>\n",
       "      <td>23</td>\n",
       "      <td>4.3</td>\n",
       "      <td>walk</td>\n",
       "    </tr>\n",
       "    <tr>\n",
       "      <th>7</th>\n",
       "      <td>3.5</td>\n",
       "      <td>37</td>\n",
       "      <td>4.2</td>\n",
       "      <td>bicycle</td>\n",
       "    </tr>\n",
       "    <tr>\n",
       "      <th>8</th>\n",
       "      <td>4.0</td>\n",
       "      <td>39</td>\n",
       "      <td>4.7</td>\n",
       "      <td>bicycle</td>\n",
       "    </tr>\n",
       "    <tr>\n",
       "      <th>9</th>\n",
       "      <td>5.4</td>\n",
       "      <td>55</td>\n",
       "      <td>7.5</td>\n",
       "      <td>walk</td>\n",
       "    </tr>\n",
       "    <tr>\n",
       "      <th>10</th>\n",
       "      <td>4.2</td>\n",
       "      <td>40</td>\n",
       "      <td>4.4</td>\n",
       "      <td>bus</td>\n",
       "    </tr>\n",
       "    <tr>\n",
       "      <th>11</th>\n",
       "      <td>6.9</td>\n",
       "      <td>70</td>\n",
       "      <td>5.7</td>\n",
       "      <td>bus</td>\n",
       "    </tr>\n",
       "    <tr>\n",
       "      <th>12</th>\n",
       "      <td>2.0</td>\n",
       "      <td>29</td>\n",
       "      <td>7.8</td>\n",
       "      <td>bus</td>\n",
       "    </tr>\n",
       "    <tr>\n",
       "      <th>13</th>\n",
       "      <td>8.8</td>\n",
       "      <td>88</td>\n",
       "      <td>6.1</td>\n",
       "      <td>bicycle</td>\n",
       "    </tr>\n",
       "    <tr>\n",
       "      <th>14</th>\n",
       "      <td>0.3</td>\n",
       "      <td>47</td>\n",
       "      <td>6.8</td>\n",
       "      <td>walk</td>\n",
       "    </tr>\n",
       "    <tr>\n",
       "      <th>15</th>\n",
       "      <td>6.7</td>\n",
       "      <td>77</td>\n",
       "      <td>5.3</td>\n",
       "      <td>bus</td>\n",
       "    </tr>\n",
       "    <tr>\n",
       "      <th>16</th>\n",
       "      <td>4.2</td>\n",
       "      <td>52</td>\n",
       "      <td>6.7</td>\n",
       "      <td>walk</td>\n",
       "    </tr>\n",
       "    <tr>\n",
       "      <th>17</th>\n",
       "      <td>5.6</td>\n",
       "      <td>55</td>\n",
       "      <td>7.3</td>\n",
       "      <td>walk</td>\n",
       "    </tr>\n",
       "    <tr>\n",
       "      <th>18</th>\n",
       "      <td>1.4</td>\n",
       "      <td>18</td>\n",
       "      <td>4.1</td>\n",
       "      <td>walk</td>\n",
       "    </tr>\n",
       "    <tr>\n",
       "      <th>19</th>\n",
       "      <td>2.0</td>\n",
       "      <td>60</td>\n",
       "      <td>7.0</td>\n",
       "      <td>bicycle</td>\n",
       "    </tr>\n",
       "  </tbody>\n",
       "</table>\n",
       "</div>"
      ],
      "text/plain": [
       "    quiz  final_test  sleep_time school_method\n",
       "0    4.2          67         7.2           bus\n",
       "1    7.2          71         7.9       bicycle\n",
       "2    0.0          19         5.3           bus\n",
       "3    3.0          35         6.8          walk\n",
       "4    1.5          35         7.5          walk\n",
       "5    0.9          40         7.6           bus\n",
       "6    1.9          23         4.3          walk\n",
       "7    3.5          37         4.2       bicycle\n",
       "8    4.0          39         4.7       bicycle\n",
       "9    5.4          55         7.5          walk\n",
       "10   4.2          40         4.4           bus\n",
       "11   6.9          70         5.7           bus\n",
       "12   2.0          29         7.8           bus\n",
       "13   8.8          88         6.1       bicycle\n",
       "14   0.3          47         6.8          walk\n",
       "15   6.7          77         5.3           bus\n",
       "16   4.2          52         6.7          walk\n",
       "17   5.6          55         7.3          walk\n",
       "18   1.4          18         4.1          walk\n",
       "19   2.0          60         7.0       bicycle"
      ]
     },
     "execution_count": 27,
     "metadata": {},
     "output_type": "execute_result"
    }
   ],
   "source": [
    "df"
   ]
  },
  {
   "cell_type": "markdown",
   "id": "f5e62af0",
   "metadata": {},
   "source": [
    "## 12.3. 모형의 선택"
   ]
  },
  {
   "cell_type": "code",
   "execution_count": 28,
   "id": "1ed02f88",
   "metadata": {},
   "outputs": [
    {
     "data": {
      "text/html": [
       "<table class=\"simpletable\">\n",
       "<caption>OLS Regression Results</caption>\n",
       "<tr>\n",
       "  <th>Dep. Variable:</th>       <td>final_test</td>    <th>  R-squared:         </th> <td>   0.676</td>\n",
       "</tr>\n",
       "<tr>\n",
       "  <th>Model:</th>                   <td>OLS</td>       <th>  Adj. R-squared:    </th> <td>   0.658</td>\n",
       "</tr>\n",
       "<tr>\n",
       "  <th>Method:</th>             <td>Least Squares</td>  <th>  F-statistic:       </th> <td>   37.61</td>\n",
       "</tr>\n",
       "<tr>\n",
       "  <th>Date:</th>             <td>Sun, 13 Mar 2022</td> <th>  Prob (F-statistic):</th> <td>8.59e-06</td>\n",
       "</tr>\n",
       "<tr>\n",
       "  <th>Time:</th>                 <td>00:33:05</td>     <th>  Log-Likelihood:    </th> <td> -76.325</td>\n",
       "</tr>\n",
       "<tr>\n",
       "  <th>No. Observations:</th>      <td>    20</td>      <th>  AIC:               </th> <td>   156.7</td>\n",
       "</tr>\n",
       "<tr>\n",
       "  <th>Df Residuals:</th>          <td>    18</td>      <th>  BIC:               </th> <td>   158.6</td>\n",
       "</tr>\n",
       "<tr>\n",
       "  <th>Df Model:</th>              <td>     1</td>      <th>                     </th>     <td> </td>   \n",
       "</tr>\n",
       "<tr>\n",
       "  <th>Covariance Type:</th>      <td>nonrobust</td>    <th>                     </th>     <td> </td>   \n",
       "</tr>\n",
       "</table>\n",
       "<table class=\"simpletable\">\n",
       "<tr>\n",
       "      <td></td>         <th>coef</th>     <th>std err</th>      <th>t</th>      <th>P>|t|</th>  <th>[0.025</th>    <th>0.975]</th>  \n",
       "</tr>\n",
       "<tr>\n",
       "  <th>Intercept</th> <td>   23.6995</td> <td>    4.714</td> <td>    5.028</td> <td> 0.000</td> <td>   13.796</td> <td>   33.603</td>\n",
       "</tr>\n",
       "<tr>\n",
       "  <th>quiz</th>      <td>    6.5537</td> <td>    1.069</td> <td>    6.133</td> <td> 0.000</td> <td>    4.309</td> <td>    8.799</td>\n",
       "</tr>\n",
       "</table>\n",
       "<table class=\"simpletable\">\n",
       "<tr>\n",
       "  <th>Omnibus:</th>       <td> 2.139</td> <th>  Durbin-Watson:     </th> <td>   1.478</td>\n",
       "</tr>\n",
       "<tr>\n",
       "  <th>Prob(Omnibus):</th> <td> 0.343</td> <th>  Jarque-Bera (JB):  </th> <td>   1.773</td>\n",
       "</tr>\n",
       "<tr>\n",
       "  <th>Skew:</th>          <td> 0.670</td> <th>  Prob(JB):          </th> <td>   0.412</td>\n",
       "</tr>\n",
       "<tr>\n",
       "  <th>Kurtosis:</th>      <td> 2.422</td> <th>  Cond. No.          </th> <td>    8.32</td>\n",
       "</tr>\n",
       "</table><br/><br/>Notes:<br/>[1] Standard Errors assume that the covariance matrix of the errors is correctly specified."
      ],
      "text/plain": [
       "<class 'statsmodels.iolib.summary.Summary'>\n",
       "\"\"\"\n",
       "                            OLS Regression Results                            \n",
       "==============================================================================\n",
       "Dep. Variable:             final_test   R-squared:                       0.676\n",
       "Model:                            OLS   Adj. R-squared:                  0.658\n",
       "Method:                 Least Squares   F-statistic:                     37.61\n",
       "Date:                Sun, 13 Mar 2022   Prob (F-statistic):           8.59e-06\n",
       "Time:                        00:33:05   Log-Likelihood:                -76.325\n",
       "No. Observations:                  20   AIC:                             156.7\n",
       "Df Residuals:                      18   BIC:                             158.6\n",
       "Df Model:                           1                                         \n",
       "Covariance Type:            nonrobust                                         \n",
       "==============================================================================\n",
       "                 coef    std err          t      P>|t|      [0.025      0.975]\n",
       "------------------------------------------------------------------------------\n",
       "Intercept     23.6995      4.714      5.028      0.000      13.796      33.603\n",
       "quiz           6.5537      1.069      6.133      0.000       4.309       8.799\n",
       "==============================================================================\n",
       "Omnibus:                        2.139   Durbin-Watson:                   1.478\n",
       "Prob(Omnibus):                  0.343   Jarque-Bera (JB):                1.773\n",
       "Skew:                           0.670   Prob(JB):                        0.412\n",
       "Kurtosis:                       2.422   Cond. No.                         8.32\n",
       "==============================================================================\n",
       "\n",
       "Notes:\n",
       "[1] Standard Errors assume that the covariance matrix of the errors is correctly specified.\n",
       "\"\"\""
      ]
     },
     "execution_count": 28,
     "metadata": {},
     "output_type": "execute_result"
    }
   ],
   "source": [
    "x = np.array(df['quiz'])\n",
    "y = np.array(df['final_test'])\n",
    "p = 1\n",
    "\n",
    "formula = 'final_test ~ quiz'\n",
    "result = smf.ols(formula, df).fit()\n",
    "result.summary()"
   ]
  },
  {
   "cell_type": "code",
   "execution_count": 29,
   "id": "ca292b2f",
   "metadata": {},
   "outputs": [
    {
     "data": {
      "text/plain": [
       "array([51.225, 70.886, 23.699, 43.361, 33.53 , 29.598, 36.152, 46.638,\n",
       "       49.914, 59.09 , 51.225, 68.92 , 36.807, 81.372, 25.666, 67.61 ,\n",
       "       51.225, 60.4  , 32.875, 36.807])"
      ]
     },
     "execution_count": 29,
     "metadata": {},
     "output_type": "execute_result"
    }
   ],
   "source": [
    "y_hat = np.array(result.fittedvalues)\n",
    "y_hat"
   ]
  },
  {
   "cell_type": "code",
   "execution_count": 32,
   "id": "af56f657",
   "metadata": {},
   "outputs": [
    {
     "data": {
      "text/plain": [
       "array([ 15.775,   0.114,  -4.699,  -8.361,   1.47 ,  10.402, -13.152,\n",
       "        -9.638, -10.914,  -4.09 , -11.225,   1.08 ,  -7.807,   6.628,\n",
       "        21.334,   9.39 ,   0.775,  -5.4  , -14.875,  23.193])"
      ]
     },
     "execution_count": 32,
     "metadata": {},
     "output_type": "execute_result"
    }
   ],
   "source": [
    "eps_hat = np.array(result.resid)\n",
    "eps_hat # y-y_hat와 동일함 "
   ]
  },
  {
   "cell_type": "code",
   "execution_count": 34,
   "id": "1a00c455",
   "metadata": {},
   "outputs": [
    {
     "data": {
      "text/plain": [
       "2417.227825229262"
      ]
     },
     "execution_count": 34,
     "metadata": {},
     "output_type": "execute_result"
    }
   ],
   "source": [
    "# 회귀직선 적합도 \n",
    "np.sum(eps_hat ** 2) "
   ]
  },
  {
   "cell_type": "markdown",
   "id": "5e84a1df",
   "metadata": {},
   "source": [
    "## 12.3.1. 결정계수\n",
    "- 결정계수는 모형의 데이터에 대한 적합도를 나타내는 기본적인 지표입니다. \n",
    "- 1에 가까울수록 모델은 데이텅 잘 들어맞는다고 생각할 수 있음. "
   ]
  },
  {
   "cell_type": "code",
   "execution_count": 35,
   "id": "542ebff6",
   "metadata": {},
   "outputs": [],
   "source": [
    "total_var = np.sum((y - np.mean(y))**2)\n",
    "exp_var = np.sum((y_hat - np.mean(y))**2)\n",
    "unexp_var = np.sum(eps_hat ** 2)"
   ]
  },
  {
   "cell_type": "code",
   "execution_count": 36,
   "id": "20be6de1",
   "metadata": {},
   "outputs": [
    {
     "data": {
      "text/plain": [
       "(7468.55, 7468.549999999996)"
      ]
     },
     "execution_count": 36,
     "metadata": {},
     "output_type": "execute_result"
    }
   ],
   "source": [
    "total_var, exp_var + unexp_var"
   ]
  },
  {
   "cell_type": "code",
   "execution_count": 37,
   "id": "772c0e1e",
   "metadata": {},
   "outputs": [
    {
     "data": {
      "text/plain": [
       "0.6763457665504996"
      ]
     },
     "execution_count": 37,
     "metadata": {},
     "output_type": "execute_result"
    }
   ],
   "source": [
    "exp_var / total_var"
   ]
  },
  {
   "cell_type": "code",
   "execution_count": 38,
   "id": "1fd0e9e1",
   "metadata": {},
   "outputs": [
    {
     "data": {
      "text/plain": [
       "0.6763457665504998"
      ]
     },
     "execution_count": 38,
     "metadata": {},
     "output_type": "execute_result"
    }
   ],
   "source": [
    "np.corrcoef(x, y)[0, 1] ** 2"
   ]
  },
  {
   "cell_type": "markdown",
   "id": "b2584bc0",
   "metadata": {},
   "source": [
    "## 12.3.2. 조정결정계수"
   ]
  },
  {
   "cell_type": "code",
   "execution_count": 39,
   "id": "af6fdf6a",
   "metadata": {},
   "outputs": [
    {
     "data": {
      "text/plain": [
       "0.6583649758033057"
      ]
     },
     "execution_count": 39,
     "metadata": {},
     "output_type": "execute_result"
    }
   ],
   "source": [
    "1 - (unexp_var / (n - p - 1)) / (total_var / (n - 1))"
   ]
  },
  {
   "cell_type": "code",
   "execution_count": null,
   "id": "403c73f8",
   "metadata": {},
   "outputs": [],
   "source": []
  },
  {
   "cell_type": "code",
   "execution_count": null,
   "id": "d71541c0",
   "metadata": {},
   "outputs": [],
   "source": []
  },
  {
   "cell_type": "code",
   "execution_count": null,
   "id": "983c4206",
   "metadata": {},
   "outputs": [],
   "source": []
  },
  {
   "cell_type": "code",
   "execution_count": null,
   "id": "d887ef6d",
   "metadata": {},
   "outputs": [],
   "source": []
  },
  {
   "cell_type": "code",
   "execution_count": null,
   "id": "a7ecd0ee",
   "metadata": {},
   "outputs": [],
   "source": []
  },
  {
   "cell_type": "code",
   "execution_count": null,
   "id": "4022f1d4",
   "metadata": {},
   "outputs": [],
   "source": []
  },
  {
   "cell_type": "code",
   "execution_count": null,
   "id": "f3b6e18e",
   "metadata": {},
   "outputs": [],
   "source": []
  }
 ],
 "metadata": {
  "kernelspec": {
   "display_name": "Python 3",
   "language": "python",
   "name": "python3"
  },
  "language_info": {
   "codemirror_mode": {
    "name": "ipython",
    "version": 3
   },
   "file_extension": ".py",
   "mimetype": "text/x-python",
   "name": "python",
   "nbconvert_exporter": "python",
   "pygments_lexer": "ipython3",
   "version": "3.8.8"
  }
 },
 "nbformat": 4,
 "nbformat_minor": 5
}
