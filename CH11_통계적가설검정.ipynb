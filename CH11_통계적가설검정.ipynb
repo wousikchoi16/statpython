{
 "cells": [
  {
   "cell_type": "markdown",
   "id": "8c6e8293",
   "metadata": {},
   "source": [
    "## Chapter11 통계적 가설검정 "
   ]
  },
  {
   "cell_type": "markdown",
   "id": "c898066e",
   "metadata": {},
   "source": [
    "### 통계적 가설검정이란\n",
    "### - 모집단의 모수(모집단의 특성:평균,분산)에 관한 가설을 세우고 표본의 정보를 이용해 그 가설을 검증하는 기법입니다."
   ]
  },
  {
   "cell_type": "code",
   "execution_count": 1,
   "id": "be1510aa",
   "metadata": {},
   "outputs": [],
   "source": [
    "import numpy as np\n",
    "import pandas as pd\n",
    "from scipy import stats\n",
    "\n",
    "%precision 3\n",
    "np.random.seed(1111)"
   ]
  },
  {
   "cell_type": "code",
   "execution_count": 2,
   "id": "0fb55087",
   "metadata": {},
   "outputs": [
    {
     "data": {
      "text/plain": [
       "array([122.02, 131.73, 130.6 , 131.82, 132.05, 126.12, 124.43, 132.89,\n",
       "       122.79, 129.95, 126.14, 134.45, 127.64, 125.68])"
      ]
     },
     "execution_count": 2,
     "metadata": {},
     "output_type": "execute_result"
    }
   ],
   "source": [
    "df = pd.read_csv('../data/ch11_potato.csv')\n",
    "sample = np.array(df['무게'])\n",
    "sample"
   ]
  },
  {
   "cell_type": "code",
   "execution_count": 3,
   "id": "9db7862a",
   "metadata": {},
   "outputs": [
    {
     "data": {
      "text/plain": [
       "128.4507142857143"
      ]
     },
     "execution_count": 3,
     "metadata": {},
     "output_type": "execute_result"
    }
   ],
   "source": [
    "s_mean = np.mean(sample)\n",
    "s_mean"
   ]
  },
  {
   "cell_type": "markdown",
   "id": "cefa4ac0",
   "metadata": {},
   "source": [
    "## 11.1. 통계적 가설검정"
   ]
  },
  {
   "cell_type": "markdown",
   "id": "6a41a0e3",
   "metadata": {},
   "source": [
    "## 11.1.1 통계적 가설검정의 기본"
   ]
  },
  {
   "cell_type": "code",
   "execution_count": 4,
   "id": "6b310f71",
   "metadata": {},
   "outputs": [
    {
     "data": {
      "text/plain": [
       "128.68118313069039"
      ]
     },
     "execution_count": 4,
     "metadata": {},
     "output_type": "execute_result"
    }
   ],
   "source": [
    "# 감자튀김의 모집단이 정규분포를 따르고 모평균이 130g, 모분산이 9임을 알고 있다고 전제\n",
    "# 감자튀김 14개 표본은 N(130,9)를 따르고 \n",
    "# 표본평균은 N(130, 9/14)를 따르게 됨. \n",
    "# 표본평균이 P(X바<=x) = 0.05를 만족하는 x를 생각합시다. \n",
    "rv = stats.norm(130, np.sqrt(9/14))\n",
    "rv.isf(0.95)"
   ]
  },
  {
   "cell_type": "markdown",
   "id": "b9c54061",
   "metadata": {},
   "source": [
    "#### A학생이 추출한 표본평균이 128.45g이 되었던 것은 5%확률로 발생하는 드문 사건이라고 할 수 있습니다. \n",
    "#### 표본평균이 128.68g이하인 128.45g이 되었다는 것은 '모평균이 130g'이라는 가설 아래에서 5%확률로 발생하는 사건이 우연히 일어난 것이 아니라, 원래 '모평균이 130g보다 작은 게 아닐까?'라는 생각을 하게 합니다. \n",
    "#### 이에 따라 '모평균이 130g보다 작다.'라고 결론을 내리는 것이 가설검정의 큰 흐름입니다."
   ]
  },
  {
   "cell_type": "markdown",
   "id": "e446f329",
   "metadata": {},
   "source": [
    "### 가설검정에서는 모수에 관한 두 가설\n",
    "### $H_{0}$: '귀무가설(null hypothesis)'\n",
    "### $H_{1}$: '대립가설(alternative hypothesis)'\n",
    "### 두 가설을 검정하기 위해, 표본으로부터 통계량을 계산하여 가설검정을 수행하는 것입니다. \n",
    "### 그에 따른 결론은 아래 둘중 하나입니다. \n",
    "### '귀무가설을 기각한다(reject the null hypothesis)'-> 귀무가설은 옳지 않다\n",
    "### '귀무가설을 채택한다(accept the null hypothesis)'-> 귀무가설이 옳지 않다고 말할 수 없다고 해석합니다. 즉, 귀무가설이 옳은지 여부를 알수 없다고 보류하는 결론이 됩니다. "
   ]
  },
  {
   "cell_type": "markdown",
   "id": "db7bddef",
   "metadata": {},
   "source": [
    "### 만약 표본으로부터 계산되는 통계량이 드문 값을 얻으면, 그것은 우연이 아니라 어떤 의미가 있는 것이라 생각하여 \"유의하다(significant)\"라고 합니다.\n",
    "### 기각역(rejection region): 귀무가설이 기각되는 구간\n",
    "### 채택역(acceptance region): 채택되는 구간 \n",
    "### 가설검정에서는 기각역에 들어가는 확률을 정하고 나서 검정을 수행합니다. \n",
    "### 이 확률을 유의수준(level of significance,예5%)이라 하고, \n",
    "### 경계선상의 값을 임계값(critical value)이라고 합니다. \n",
    "### 또한 검정에 사용되는 통계량을 검정통계량(test statistics)이라고 합니다. "
   ]
  },
  {
   "cell_type": "markdown",
   "id": "9a6e9ce6",
   "metadata": {},
   "source": [
    "### 임계값보다 왼쪽에 있는 영역의 면적은 유의수준(los)에 해당합니다. \n",
    "### 검정통계량보다 왼쪽에 있는 영역의 면적에는 p값(p-value)이라는 이름이 붙습니다. \n",
    "### 가설검정은 p값과 유의수준(los)의 비교로 수행될 수도 있습니다. \n",
    "### 그 경우 p값이 유의수준보다 작을때는 귀무가설을 기각하고, 그렇지 않을 때에 귀무가설을 채택합니다. "
   ]
  },
  {
   "cell_type": "code",
   "execution_count": 5,
   "id": "646eb0e9",
   "metadata": {},
   "outputs": [
    {
     "data": {
      "text/plain": [
       "-1.932298779026813"
      ]
     },
     "execution_count": 5,
     "metadata": {},
     "output_type": "execute_result"
    }
   ],
   "source": [
    "# 감자튀김 무게의 평균값에 대한 가설검정을 생각해본다. \n",
    "# 표본평균X를 표준화한 Z를 사용합니다. \n",
    "# 상위100a%점을 Za로 나타낼수있습니다. \n",
    "# 검정통계량 값을 구합니다. \n",
    "z = (s_mean - 130) / np.sqrt(9/14)\n",
    "z"
   ]
  },
  {
   "cell_type": "code",
   "execution_count": 6,
   "id": "08224f36",
   "metadata": {},
   "outputs": [
    {
     "data": {
      "text/plain": [
       "-1.6448536269514722"
      ]
     },
     "execution_count": 6,
     "metadata": {},
     "output_type": "execute_result"
    }
   ],
   "source": [
    "rv = stats.norm()\n",
    "rv.isf(0.95)"
   ]
  },
  {
   "cell_type": "code",
   "execution_count": 7,
   "id": "dbd6c3f3",
   "metadata": {},
   "outputs": [
    {
     "data": {
      "text/plain": [
       "0.026661319523126635"
      ]
     },
     "execution_count": 7,
     "metadata": {},
     "output_type": "execute_result"
    }
   ],
   "source": [
    "# p값을 이용한 가설검정 확인 \n",
    "# p값은 누적분포함수를 사용해서 구할 수 있습니다. \n",
    "rv.cdf(z)"
   ]
  },
  {
   "cell_type": "markdown",
   "id": "514f3cbc",
   "metadata": {},
   "source": [
    "#### p값은 0.027로 유의수준 0.05보다 작은 값입니다. \n",
    "#### 따라서 귀무가설은 기각됩니다. "
   ]
  },
  {
   "cell_type": "markdown",
   "id": "1f44f7ee",
   "metadata": {},
   "source": [
    "## 가설검정의 흐름(기준: p값)\n",
    "### 1) 가설을 세운다 \n",
    "### 2) 유의수준을 결정한다 \n",
    "### 3) 검정토계량을 계산한다\n",
    "### 4) p값을 계산한다\n",
    "### 5-1) p값이 유의수준보다 작으면, 귀무가설 기각 \n",
    "### 5-2) p값이 유의수준보다    크면, 귀무가설 채택"
   ]
  },
  {
   "cell_type": "markdown",
   "id": "a7e9618b",
   "metadata": {},
   "source": [
    "## 11.1.2. 단축검정과 양측검정 \n",
    "- 양측검정: 대립가설 '모평균이 130g이 아니다.' \n",
    "- 단측검정: 대립가설 '모평균은 130g보다 작다.' \n",
    "- 동일한 유의수준$\\alpha$의 검정이라도 단측검정 쪽의 기각역이 넓어집니다. \n",
    "- 단측검정은 양측검정보다 귀무가설을 기각하기 쉽습니다. \n",
    "- 기각역/채택역"
   ]
  },
  {
   "cell_type": "code",
   "execution_count": 8,
   "id": "e668a3e1",
   "metadata": {},
   "outputs": [
    {
     "data": {
      "text/plain": [
       "-1.932298779026813"
      ]
     },
     "execution_count": 8,
     "metadata": {},
     "output_type": "execute_result"
    }
   ],
   "source": [
    "z = (s_mean - 130) / np.sqrt(9/14)\n",
    "z"
   ]
  },
  {
   "cell_type": "code",
   "execution_count": 9,
   "id": "ac74b850",
   "metadata": {},
   "outputs": [
    {
     "data": {
      "text/plain": [
       "(-1.959963984540054, 1.959963984540054)"
      ]
     },
     "execution_count": 9,
     "metadata": {},
     "output_type": "execute_result"
    }
   ],
   "source": [
    "#양측검정 임계값을 찾자 \n",
    "rv = stats.norm()\n",
    "rv.interval(0.95)"
   ]
  },
  {
   "cell_type": "code",
   "execution_count": 10,
   "id": "95b80cee",
   "metadata": {},
   "outputs": [
    {
     "data": {
      "text/plain": [
       "0.05332263904625327"
      ]
     },
     "execution_count": 10,
     "metadata": {},
     "output_type": "execute_result"
    }
   ],
   "source": [
    "# p값이 유의수준 0.05보다 큽니다. 따라서 귀무가설은 기각되지 않습니다. \n",
    "# 양측검정에서 검정토계량이 채택역에 들어가있다. \n",
    "# 양측검정에서는 귀무가설이 기각되지 않습니다. \n",
    "rv.cdf(z) * 2"
   ]
  },
  {
   "cell_type": "markdown",
   "id": "ed1ff65a",
   "metadata": {},
   "source": [
    "### 11.1.3. 가설검정의 두 가지 오류\n",
    "- 제1종오류: 귀무가설이 옳을 때, 귀무가설을 기각하는 오류/오탐/false positive\n",
    "- 제2종오류: 대립가설이 옳을 때, 귀무가설을 채택하는 오류/미탐/false negative "
   ]
  },
  {
   "cell_type": "code",
   "execution_count": 11,
   "id": "ca5d9e6c",
   "metadata": {},
   "outputs": [],
   "source": [
    "# 제1종오류\n",
    "# 실제로 '평균이 130g'인데도, '평균은 130g보다 작다.'\n",
    "rv = stats.norm(130, 3)"
   ]
  },
  {
   "cell_type": "code",
   "execution_count": 12,
   "id": "5f665c33",
   "metadata": {},
   "outputs": [
    {
     "data": {
      "text/plain": [
       "0.053"
      ]
     },
     "execution_count": 12,
     "metadata": {},
     "output_type": "execute_result"
    }
   ],
   "source": [
    "c = stats.norm().isf(0.95)\n",
    "n_samples = 10000\n",
    "cnt = 0\n",
    "for _ in range(n_samples):\n",
    "    sample_ = np.round(rv.rvs(14), 2)\n",
    "    s_mean_ = np.mean(sample_)\n",
    "    z = (s_mean_ - 130) / np.sqrt(9/14)\n",
    "    if z < c:\n",
    "        cnt += 1\n",
    "cnt / n_samples"
   ]
  },
  {
   "cell_type": "markdown",
   "id": "c68fb782",
   "metadata": {},
   "source": [
    "#### 제1종 오류를 범한 비율은 0.053입니다. 대략 5%의 비율로 '130g보다 작다.'라고 잘못탐지(오탐)하는 것 같습니다. \n",
    "#### 제1종 오류를 범하는 확률을 위험률이라 부르고, 기호로는 $\\alpha$를 사용합니다. \n",
    "#### 위험률은 유의수준과 일치하므로 분석가가 제어할 수 있는 확률입니다. \n",
    "#### 결국 제1종오류가 발생하는 확률을 1%로 하고 싶다면 분석가는 유의수준1%에서 가설 검정을 수행하면 됩니다. "
   ]
  },
  {
   "cell_type": "markdown",
   "id": "7efc6dea",
   "metadata": {},
   "source": [
    "### 제2종오류 "
   ]
  },
  {
   "cell_type": "code",
   "execution_count": 13,
   "id": "45a37d69",
   "metadata": {},
   "outputs": [],
   "source": [
    "rv = stats.norm(128, 3)"
   ]
  },
  {
   "cell_type": "code",
   "execution_count": 14,
   "id": "896168ef",
   "metadata": {},
   "outputs": [
    {
     "data": {
      "text/plain": [
       "0.197"
      ]
     },
     "execution_count": 14,
     "metadata": {},
     "output_type": "execute_result"
    }
   ],
   "source": [
    "# '모평균이 130g보다 작다'임에도 그러한 결론을 얻을 수 없는 비율을 계산함. \n",
    "c = stats.norm().isf(0.95)\n",
    "n_samples = 10000\n",
    "cnt = 0\n",
    "for _ in range(n_samples):\n",
    "    sample_ = np.round(rv.rvs(14), 2)\n",
    "    s_mean_ = np.mean(sample_)\n",
    "    z = (s_mean_ - 130) / np.sqrt(9/14)\n",
    "    if z >= c:\n",
    "        cnt += 1\n",
    "        \n",
    "cnt / n_samples"
   ]
  },
  {
   "cell_type": "markdown",
   "id": "23dfc3f8",
   "metadata": {},
   "source": [
    "#### 제2종오류를 범하는 비율은 0.197입니다. 대략 20%의 비율로 미탐이 발생하는 것 같습니다. \n",
    "#### 제2종오류를 범하는 확률에는 기호 $\\beta$를 사용하고, 1-$\\beta$를 검정력(power)라고 부릅니다.\n",
    "#### '모평균이 130g보다 작다.'라는 상황이라도 평균이 120g으로 설정되면 미탐이 발생할 확률은 낮아진다는 것은 직관적으로 알 수 있습니다\n",
    "#### 이와 같이 $\\beta$는 모집단의 정보에 의존합니다. 본래 모집단의 정보는 알 수 없는 것이므로 $\\beta$는 분석가가 제어할 수 없는 확률입니다. \n",
    "#### 제1종오류는 제어할 수 있지만, 제2종오류는 제어할 수 없는 비대칭성이 있다는 것을 기억해두기 바랍니다. "
   ]
  },
  {
   "cell_type": "markdown",
   "id": "1d24b94c",
   "metadata": {},
   "source": [
    "## 11.2 기본적인 가설검정 \n",
    "## 11.2.1. 정규분포의 모평균에 대한 검정: 모분산을 알고 있는 경우\n",
    "- 모평균에 대한 검정이란 모평균이 어떤 값 $\\mu_{0}$이 아니라고 주장하기 위한 검정입니다. 특히 모집단의 정규분포를 가정하고 그 모분산 $\\sigma^{2}$도 알고 있는 상황은 매우 단순한 설정입니다. "
   ]
  },
  {
   "cell_type": "code",
   "execution_count": 15,
   "id": "db1ff5f7",
   "metadata": {},
   "outputs": [],
   "source": [
    "def pmean_test(sample, mean0, p_var, alpha=0.05):\n",
    "    s_mean = np.mean(sample)\n",
    "    n = len(sample)\n",
    "    rv = stats.norm()\n",
    "    interval = rv.interval(1-alpha)\n",
    "\n",
    "    z = (s_mean - mean0) / np.sqrt(p_var/n)\n",
    "    if interval[0] <= z <= interval[1]:\n",
    "        print('귀무가설을 채택')\n",
    "    else:\n",
    "        print('귀무가설을 기각')\n",
    "\n",
    "    if z < 0:\n",
    "        p = rv.cdf(z) * 2\n",
    "    else:\n",
    "        p = (1 - rv.cdf(z)) * 2\n",
    "    print(f'p값은 {p:.3f}')"
   ]
  },
  {
   "cell_type": "code",
   "execution_count": 16,
   "id": "0fadedea",
   "metadata": {},
   "outputs": [
    {
     "name": "stdout",
     "output_type": "stream",
     "text": [
      "귀무가설을 채택\n",
      "p값은 0.053\n"
     ]
    }
   ],
   "source": [
    "pmean_test(sample, 130, 9)"
   ]
  },
  {
   "cell_type": "markdown",
   "id": "8d8b1a81",
   "metadata": {},
   "source": [
    "## 11.2.2 정규분포의 모분산에 대한 검정 \n",
    "- 모분산에 대한 검정은 모분산이 어떤값 $\\sigma_{0}^{2}$이 아닌 것을 주장하기 위한 검정입니다. \n",
    "- 이 검정에서는 Y=$\\frac{(n-1)s^{2}}{\\sigma_{0}^{2}}$을 검정통계량으로 사용하여, 10.2절에서 살펴본 것 처럼 Y~$X^{2}$(n-1)이 되는 것을 이용합니다. "
   ]
  },
  {
   "cell_type": "code",
   "execution_count": 19,
   "id": "74028c5a",
   "metadata": {},
   "outputs": [],
   "source": [
    "def pvar_test(sample, var0, alpha=0.05):\n",
    "    u_var = np.var(sample, ddof=1) # s^2\n",
    "    n = len(sample)\n",
    "    rv = stats.chi2(df=n-1) #(n-1)카이제곱분포\n",
    "    interval = rv.interval(1-alpha)\n",
    "    print('interval:',interval)\n",
    "    y = (n-1) * u_var / var0\n",
    "    if interval[0] <= y <= interval[1]:\n",
    "        print('귀무가설을 채택')\n",
    "    else:\n",
    "        print('귀무가설을 기각')\n",
    "    print(y,rv.isf(0.5))\n",
    "    if y < rv.isf(0.5): # y값이 평균왼쪽에 있는 경우\n",
    "        p = rv.cdf(y) * 2\n",
    "    else: # y값이 평균오른쪽에 있는 경우\n",
    "        p = (1 - rv.cdf(y)) * 2\n",
    "    print(f'p값은 {p:.3f}')"
   ]
  },
  {
   "cell_type": "code",
   "execution_count": 20,
   "id": "5c041d16",
   "metadata": {},
   "outputs": [
    {
     "name": "stdout",
     "output_type": "stream",
     "text": [
      "(5.008750511810331, 24.735604884931547)\n",
      "귀무가설을 채택\n",
      "22.921810317460263 12.339755882563905\n",
      "p값은 0.085\n"
     ]
    }
   ],
   "source": [
    "pvar_test(sample, 9)"
   ]
  },
  {
   "cell_type": "markdown",
   "id": "6ba91c02",
   "metadata": {},
   "source": [
    "## 11.2.3. 정규분포의 모평균에 대한 검정: 모분산을 모르는 경우\n",
    "- 모분산을 알지 못하는 상황에서 정규분포의 모평균에 대한 검정을 '1표본t검정(1-sample t-test)'이라고 부르고, t검정통계량이라고 하는 t=($\\bar{X}-\\mu_{0}$)/$\\sqrt(\\frac{s^{2}}{n})$을 검정통계량으로 사용합니다. \n",
    "- 이 t검정통계량은 자유도가 n-1인 t분포를 따릅니다. "
   ]
  },
  {
   "cell_type": "code",
   "execution_count": 24,
   "id": "a1762a7a",
   "metadata": {},
   "outputs": [],
   "source": [
    "def pmean_test(sample, mean0, alpha=0.05): # 모평균=mean0으로 우리가 검증해야하는 값\n",
    "    s_mean = np.mean(sample)\n",
    "    u_var = np.var(sample, ddof=1) # s^2\n",
    "    n = len(sample)\n",
    "    rv = stats.t(df=n-1)\n",
    "    interval = rv.interval(1-alpha)\n",
    "\n",
    "    t = (s_mean - mean0) / np.sqrt(u_var/n)\n",
    "    print('t:',t)\n",
    "    if interval[0] <= t <= interval[1]:\n",
    "        print('귀무가설을 채택')\n",
    "    else:\n",
    "        print('귀무가설을 기각')\n",
    "\n",
    "    if t < 0:\n",
    "        p = rv.cdf(t) * 2\n",
    "    else:\n",
    "        p = (1 - rv.cdf(t)) * 2\n",
    "    print(f'p값은 {p:.3f}')"
   ]
  },
  {
   "cell_type": "code",
   "execution_count": 25,
   "id": "01b1498f",
   "metadata": {},
   "outputs": [
    {
     "name": "stdout",
     "output_type": "stream",
     "text": [
      "t: -1.4551960206404198\n",
      "귀무가설을 채택\n",
      "p값은 0.169\n"
     ]
    }
   ],
   "source": [
    "pmean_test(sample, 130)"
   ]
  },
  {
   "cell_type": "code",
   "execution_count": 27,
   "id": "b64e4790",
   "metadata": {},
   "outputs": [
    {
     "data": {
      "text/plain": [
       "(-1.4551960206404198, 0.16933464230414275)"
      ]
     },
     "execution_count": 27,
     "metadata": {},
     "output_type": "execute_result"
    }
   ],
   "source": [
    "# 1표본t검정은 scipy.stats에 ttest_1samp함수로 구현되어있음. \n",
    "# 함수의 반환값은 t검정통계량, p값임. \n",
    "t, p = stats.ttest_1samp(sample, 130)\n",
    "t, p\n",
    "#### - 동일한 값을 얻음."
   ]
  },
  {
   "cell_type": "markdown",
   "id": "c5791598",
   "metadata": {},
   "source": [
    "## 11.3. 2표본 문제에 관한 가설검정\n",
    "- 기준1: 정규분포를 가정할 수 있음/없음\n",
    "- 기준2: 대응표본/독립표본"
   ]
  },
  {
   "cell_type": "markdown",
   "id": "7529e2d6",
   "metadata": {},
   "source": [
    "## 11.3.1. 대응비교t검정"
   ]
  },
  {
   "cell_type": "code",
   "execution_count": 30,
   "id": "49f66c93",
   "metadata": {},
   "outputs": [
    {
     "name": "stdout",
     "output_type": "stream",
     "text": [
      "(20, 2)\n"
     ]
    },
    {
     "data": {
      "text/html": [
       "<div>\n",
       "<style scoped>\n",
       "    .dataframe tbody tr th:only-of-type {\n",
       "        vertical-align: middle;\n",
       "    }\n",
       "\n",
       "    .dataframe tbody tr th {\n",
       "        vertical-align: top;\n",
       "    }\n",
       "\n",
       "    .dataframe thead th {\n",
       "        text-align: right;\n",
       "    }\n",
       "</style>\n",
       "<table border=\"1\" class=\"dataframe\">\n",
       "  <thead>\n",
       "    <tr style=\"text-align: right;\">\n",
       "      <th></th>\n",
       "      <th>전</th>\n",
       "      <th>후</th>\n",
       "    </tr>\n",
       "  </thead>\n",
       "  <tbody>\n",
       "    <tr>\n",
       "      <th>0</th>\n",
       "      <td>59</td>\n",
       "      <td>41</td>\n",
       "    </tr>\n",
       "    <tr>\n",
       "      <th>1</th>\n",
       "      <td>52</td>\n",
       "      <td>63</td>\n",
       "    </tr>\n",
       "    <tr>\n",
       "      <th>2</th>\n",
       "      <td>55</td>\n",
       "      <td>68</td>\n",
       "    </tr>\n",
       "    <tr>\n",
       "      <th>3</th>\n",
       "      <td>61</td>\n",
       "      <td>59</td>\n",
       "    </tr>\n",
       "    <tr>\n",
       "      <th>4</th>\n",
       "      <td>59</td>\n",
       "      <td>84</td>\n",
       "    </tr>\n",
       "  </tbody>\n",
       "</table>\n",
       "</div>"
      ],
      "text/plain": [
       "    전   후\n",
       "0  59  41\n",
       "1  52  63\n",
       "2  55  68\n",
       "3  61  59\n",
       "4  59  84"
      ]
     },
     "execution_count": 30,
     "metadata": {},
     "output_type": "execute_result"
    }
   ],
   "source": [
    "training_rel = pd.read_csv('../data/ch11_training_rel.csv')\n",
    "print(training_rel.shape)\n",
    "training_rel.head()"
   ]
  },
  {
   "cell_type": "code",
   "execution_count": 31,
   "id": "1e02b5fd",
   "metadata": {},
   "outputs": [
    {
     "data": {
      "text/html": [
       "<div>\n",
       "<style scoped>\n",
       "    .dataframe tbody tr th:only-of-type {\n",
       "        vertical-align: middle;\n",
       "    }\n",
       "\n",
       "    .dataframe tbody tr th {\n",
       "        vertical-align: top;\n",
       "    }\n",
       "\n",
       "    .dataframe thead th {\n",
       "        text-align: right;\n",
       "    }\n",
       "</style>\n",
       "<table border=\"1\" class=\"dataframe\">\n",
       "  <thead>\n",
       "    <tr style=\"text-align: right;\">\n",
       "      <th></th>\n",
       "      <th>전</th>\n",
       "      <th>후</th>\n",
       "      <th>차</th>\n",
       "    </tr>\n",
       "  </thead>\n",
       "  <tbody>\n",
       "    <tr>\n",
       "      <th>0</th>\n",
       "      <td>59</td>\n",
       "      <td>41</td>\n",
       "      <td>-18</td>\n",
       "    </tr>\n",
       "    <tr>\n",
       "      <th>1</th>\n",
       "      <td>52</td>\n",
       "      <td>63</td>\n",
       "      <td>11</td>\n",
       "    </tr>\n",
       "    <tr>\n",
       "      <th>2</th>\n",
       "      <td>55</td>\n",
       "      <td>68</td>\n",
       "      <td>13</td>\n",
       "    </tr>\n",
       "    <tr>\n",
       "      <th>3</th>\n",
       "      <td>61</td>\n",
       "      <td>59</td>\n",
       "      <td>-2</td>\n",
       "    </tr>\n",
       "    <tr>\n",
       "      <th>4</th>\n",
       "      <td>59</td>\n",
       "      <td>84</td>\n",
       "      <td>25</td>\n",
       "    </tr>\n",
       "  </tbody>\n",
       "</table>\n",
       "</div>"
      ],
      "text/plain": [
       "    전   후   차\n",
       "0  59  41 -18\n",
       "1  52  63  11\n",
       "2  55  68  13\n",
       "3  61  59  -2\n",
       "4  59  84  25"
      ]
     },
     "execution_count": 31,
     "metadata": {},
     "output_type": "execute_result"
    }
   ],
   "source": [
    "training_rel['차'] = training_rel['후'] - training_rel['전']\n",
    "training_rel.head()"
   ]
  },
  {
   "cell_type": "markdown",
   "id": "7e6f2764",
   "metadata": {},
   "source": [
    "### 그 차이('차')가 각각 독립이고 동일한 정규분포를 따르고 있다고 가정할 수 있다면, 이 검정은 모분산을 모르는 경우의 정규분포의 모분산에 대한 검정, 즉 1표본t검정으로 귀착될 수 있습니다. "
   ]
  },
  {
   "cell_type": "code",
   "execution_count": 33,
   "id": "e4f27446",
   "metadata": {},
   "outputs": [
    {
     "data": {
      "text/plain": [
       "(2.204154108716127, 0.04004419061842953)"
      ]
     },
     "execution_count": 33,
     "metadata": {},
     "output_type": "execute_result"
    }
   ],
   "source": [
    "t, p = stats.ttest_1samp(training_rel['차'], 0)\n",
    "t, p"
   ]
  },
  {
   "cell_type": "markdown",
   "id": "c61fde0a",
   "metadata": {},
   "source": [
    "#### p값이 유의수준보다 작기 때문에 귀무가설은 기각되었습니다. 어쨌든 근력운동은 집중력에 유의한 차이를 가져오는 것 같습니다. \n",
    "### ttest_rel을 사용하면 차이를 구하지 않고도 바로 계산이 가능합니다. "
   ]
  },
  {
   "cell_type": "code",
   "execution_count": 34,
   "id": "ef5c4ddf",
   "metadata": {},
   "outputs": [
    {
     "data": {
      "text/plain": [
       "0.04004419061842953"
      ]
     },
     "execution_count": 34,
     "metadata": {},
     "output_type": "execute_result"
    }
   ],
   "source": [
    "t, p = stats.ttest_rel(training_rel['후'], training_rel['전'])\n",
    "p"
   ]
  },
  {
   "cell_type": "markdown",
   "id": "068faab3",
   "metadata": {},
   "source": [
    "## 11.3.2. 독립비교t검정\n",
    "- 대응하는 데이터가 없고 독립된 2표본 모집단에 정규분포를 가정할 수 있는 경우, 평균값의 차이에 대한 검정입니다. \n",
    "- A학생은 혹시 근력운동이 집중력을 향상하는 효과가 있다면 자신의 학급과 B학생의 학급 사이에 집중력테스트의 평균에서 차이가 나지 않을까 생각하여, B학생의 학급에도 집중력 테스트를 받게 했습니다. 이 데이터로부터 어떤 검정을 수행해야 A학생과 B학생 학급의 집중력에 유의미한 차이가 있는지 확인할 수 있을까요?"
   ]
  },
  {
   "cell_type": "code",
   "execution_count": 35,
   "id": "81f82fd5",
   "metadata": {},
   "outputs": [
    {
     "name": "stdout",
     "output_type": "stream",
     "text": [
      "(20, 2)\n"
     ]
    },
    {
     "data": {
      "text/html": [
       "<div>\n",
       "<style scoped>\n",
       "    .dataframe tbody tr th:only-of-type {\n",
       "        vertical-align: middle;\n",
       "    }\n",
       "\n",
       "    .dataframe tbody tr th {\n",
       "        vertical-align: top;\n",
       "    }\n",
       "\n",
       "    .dataframe thead th {\n",
       "        text-align: right;\n",
       "    }\n",
       "</style>\n",
       "<table border=\"1\" class=\"dataframe\">\n",
       "  <thead>\n",
       "    <tr style=\"text-align: right;\">\n",
       "      <th></th>\n",
       "      <th>A</th>\n",
       "      <th>B</th>\n",
       "    </tr>\n",
       "  </thead>\n",
       "  <tbody>\n",
       "    <tr>\n",
       "      <th>0</th>\n",
       "      <td>47</td>\n",
       "      <td>49</td>\n",
       "    </tr>\n",
       "    <tr>\n",
       "      <th>1</th>\n",
       "      <td>50</td>\n",
       "      <td>52</td>\n",
       "    </tr>\n",
       "    <tr>\n",
       "      <th>2</th>\n",
       "      <td>37</td>\n",
       "      <td>54</td>\n",
       "    </tr>\n",
       "    <tr>\n",
       "      <th>3</th>\n",
       "      <td>60</td>\n",
       "      <td>48</td>\n",
       "    </tr>\n",
       "    <tr>\n",
       "      <th>4</th>\n",
       "      <td>39</td>\n",
       "      <td>51</td>\n",
       "    </tr>\n",
       "  </tbody>\n",
       "</table>\n",
       "</div>"
      ],
      "text/plain": [
       "    A   B\n",
       "0  47  49\n",
       "1  50  52\n",
       "2  37  54\n",
       "3  60  48\n",
       "4  39  51"
      ]
     },
     "execution_count": 35,
     "metadata": {},
     "output_type": "execute_result"
    }
   ],
   "source": [
    "training_ind = pd.read_csv('../data/ch11_training_ind.csv')\n",
    "print(training_ind.shape)\n",
    "training_ind.head()"
   ]
  },
  {
   "cell_type": "markdown",
   "id": "296675e3",
   "metadata": {},
   "source": [
    "- 웰치의 방법 "
   ]
  },
  {
   "cell_type": "code",
   "execution_count": 38,
   "id": "adaf4682",
   "metadata": {},
   "outputs": [
    {
     "data": {
      "text/plain": [
       "0.08695731107259361"
      ]
     },
     "execution_count": 38,
     "metadata": {},
     "output_type": "execute_result"
    }
   ],
   "source": [
    "t, p = stats.ttest_ind(training_ind['A'], training_ind['B'],\n",
    "                       equal_var=False)\n",
    "p\n",
    "# p값이 유의수준보다 크기 때문에 귀무가설이 채택되었습니다. \n",
    "# 따라서 A학생의 학급과 B학생의 학급사이에 평균 점수에 유의한 차이가 있다고 말할 수 없다는 결론"
   ]
  },
  {
   "cell_type": "markdown",
   "id": "d8c0440c",
   "metadata": {},
   "source": [
    "## 11.3.3. 윌콕슨의 부호순위검정\n",
    "- 대응표본에서 차이에 정규분포를 가정할 수 없는 경우, 중앙값의 차이에 대한 검정입니다. \n",
    "- 차이의 절대값이 작은 것 부터 순서대로 순위를 부여합니다. \n",
    "- 대응비교t검정때와 달리 중앙값의 차이에 대한 검정인 것에 주의 "
   ]
  },
  {
   "cell_type": "code",
   "execution_count": 39,
   "id": "732dd608",
   "metadata": {},
   "outputs": [
    {
     "data": {
      "text/html": [
       "<div>\n",
       "<style scoped>\n",
       "    .dataframe tbody tr th:only-of-type {\n",
       "        vertical-align: middle;\n",
       "    }\n",
       "\n",
       "    .dataframe tbody tr th {\n",
       "        vertical-align: top;\n",
       "    }\n",
       "\n",
       "    .dataframe thead th {\n",
       "        text-align: right;\n",
       "    }\n",
       "</style>\n",
       "<table border=\"1\" class=\"dataframe\">\n",
       "  <thead>\n",
       "    <tr style=\"text-align: right;\">\n",
       "      <th></th>\n",
       "      <th>전</th>\n",
       "      <th>후</th>\n",
       "    </tr>\n",
       "  </thead>\n",
       "  <tbody>\n",
       "    <tr>\n",
       "      <th>0</th>\n",
       "      <td>59</td>\n",
       "      <td>41</td>\n",
       "    </tr>\n",
       "    <tr>\n",
       "      <th>1</th>\n",
       "      <td>52</td>\n",
       "      <td>63</td>\n",
       "    </tr>\n",
       "    <tr>\n",
       "      <th>2</th>\n",
       "      <td>55</td>\n",
       "      <td>68</td>\n",
       "    </tr>\n",
       "    <tr>\n",
       "      <th>3</th>\n",
       "      <td>61</td>\n",
       "      <td>59</td>\n",
       "    </tr>\n",
       "    <tr>\n",
       "      <th>4</th>\n",
       "      <td>59</td>\n",
       "      <td>84</td>\n",
       "    </tr>\n",
       "    <tr>\n",
       "      <th>5</th>\n",
       "      <td>45</td>\n",
       "      <td>37</td>\n",
       "    </tr>\n",
       "  </tbody>\n",
       "</table>\n",
       "</div>"
      ],
      "text/plain": [
       "    전   후\n",
       "0  59  41\n",
       "1  52  63\n",
       "2  55  68\n",
       "3  61  59\n",
       "4  59  84\n",
       "5  45  37"
      ]
     },
     "execution_count": 39,
     "metadata": {},
     "output_type": "execute_result"
    }
   ],
   "source": [
    "training_rel = pd.read_csv('../data/ch11_training_rel.csv')\n",
    "toy_df = training_rel[:6].copy()\n",
    "toy_df"
   ]
  },
  {
   "cell_type": "code",
   "execution_count": 41,
   "id": "622ca662",
   "metadata": {},
   "outputs": [
    {
     "data": {
      "text/html": [
       "<div>\n",
       "<style scoped>\n",
       "    .dataframe tbody tr th:only-of-type {\n",
       "        vertical-align: middle;\n",
       "    }\n",
       "\n",
       "    .dataframe tbody tr th {\n",
       "        vertical-align: top;\n",
       "    }\n",
       "\n",
       "    .dataframe thead th {\n",
       "        text-align: right;\n",
       "    }\n",
       "</style>\n",
       "<table border=\"1\" class=\"dataframe\">\n",
       "  <thead>\n",
       "    <tr style=\"text-align: right;\">\n",
       "      <th></th>\n",
       "      <th>전</th>\n",
       "      <th>후</th>\n",
       "      <th>차</th>\n",
       "    </tr>\n",
       "  </thead>\n",
       "  <tbody>\n",
       "    <tr>\n",
       "      <th>0</th>\n",
       "      <td>59</td>\n",
       "      <td>41</td>\n",
       "      <td>-18</td>\n",
       "    </tr>\n",
       "    <tr>\n",
       "      <th>1</th>\n",
       "      <td>52</td>\n",
       "      <td>63</td>\n",
       "      <td>11</td>\n",
       "    </tr>\n",
       "    <tr>\n",
       "      <th>2</th>\n",
       "      <td>55</td>\n",
       "      <td>68</td>\n",
       "      <td>13</td>\n",
       "    </tr>\n",
       "    <tr>\n",
       "      <th>3</th>\n",
       "      <td>61</td>\n",
       "      <td>59</td>\n",
       "      <td>-2</td>\n",
       "    </tr>\n",
       "    <tr>\n",
       "      <th>4</th>\n",
       "      <td>59</td>\n",
       "      <td>84</td>\n",
       "      <td>25</td>\n",
       "    </tr>\n",
       "    <tr>\n",
       "      <th>5</th>\n",
       "      <td>45</td>\n",
       "      <td>37</td>\n",
       "      <td>-8</td>\n",
       "    </tr>\n",
       "  </tbody>\n",
       "</table>\n",
       "</div>"
      ],
      "text/plain": [
       "    전   후   차\n",
       "0  59  41 -18\n",
       "1  52  63  11\n",
       "2  55  68  13\n",
       "3  61  59  -2\n",
       "4  59  84  25\n",
       "5  45  37  -8"
      ]
     },
     "execution_count": 41,
     "metadata": {},
     "output_type": "execute_result"
    }
   ],
   "source": [
    "# 대응표본이므로 역시 데이터의 차이에 주목합니다. \n",
    "diff = toy_df['후'] - toy_df['전']\n",
    "toy_df['차'] = diff\n",
    "toy_df"
   ]
  },
  {
   "cell_type": "code",
   "execution_count": 42,
   "id": "a9517ce5",
   "metadata": {},
   "outputs": [
    {
     "data": {
      "text/html": [
       "<div>\n",
       "<style scoped>\n",
       "    .dataframe tbody tr th:only-of-type {\n",
       "        vertical-align: middle;\n",
       "    }\n",
       "\n",
       "    .dataframe tbody tr th {\n",
       "        vertical-align: top;\n",
       "    }\n",
       "\n",
       "    .dataframe thead th {\n",
       "        text-align: right;\n",
       "    }\n",
       "</style>\n",
       "<table border=\"1\" class=\"dataframe\">\n",
       "  <thead>\n",
       "    <tr style=\"text-align: right;\">\n",
       "      <th></th>\n",
       "      <th>전</th>\n",
       "      <th>후</th>\n",
       "      <th>차</th>\n",
       "      <th>순위</th>\n",
       "    </tr>\n",
       "  </thead>\n",
       "  <tbody>\n",
       "    <tr>\n",
       "      <th>0</th>\n",
       "      <td>59</td>\n",
       "      <td>41</td>\n",
       "      <td>-18</td>\n",
       "      <td>5</td>\n",
       "    </tr>\n",
       "    <tr>\n",
       "      <th>1</th>\n",
       "      <td>52</td>\n",
       "      <td>63</td>\n",
       "      <td>11</td>\n",
       "      <td>3</td>\n",
       "    </tr>\n",
       "    <tr>\n",
       "      <th>2</th>\n",
       "      <td>55</td>\n",
       "      <td>68</td>\n",
       "      <td>13</td>\n",
       "      <td>4</td>\n",
       "    </tr>\n",
       "    <tr>\n",
       "      <th>3</th>\n",
       "      <td>61</td>\n",
       "      <td>59</td>\n",
       "      <td>-2</td>\n",
       "      <td>1</td>\n",
       "    </tr>\n",
       "    <tr>\n",
       "      <th>4</th>\n",
       "      <td>59</td>\n",
       "      <td>84</td>\n",
       "      <td>25</td>\n",
       "      <td>6</td>\n",
       "    </tr>\n",
       "    <tr>\n",
       "      <th>5</th>\n",
       "      <td>45</td>\n",
       "      <td>37</td>\n",
       "      <td>-8</td>\n",
       "      <td>2</td>\n",
       "    </tr>\n",
       "  </tbody>\n",
       "</table>\n",
       "</div>"
      ],
      "text/plain": [
       "    전   후   차  순위\n",
       "0  59  41 -18   5\n",
       "1  52  63  11   3\n",
       "2  55  68  13   4\n",
       "3  61  59  -2   1\n",
       "4  59  84  25   6\n",
       "5  45  37  -8   2"
      ]
     },
     "execution_count": 42,
     "metadata": {},
     "output_type": "execute_result"
    }
   ],
   "source": [
    "rank = stats.rankdata(abs(diff)).astype(int)\n",
    "toy_df['순위'] = rank\n",
    "toy_df"
   ]
  },
  {
   "cell_type": "code",
   "execution_count": 43,
   "id": "76b12291",
   "metadata": {},
   "outputs": [
    {
     "data": {
      "text/plain": [
       "(8, 13)"
      ]
     },
     "execution_count": 43,
     "metadata": {},
     "output_type": "execute_result"
    }
   ],
   "source": [
    "# 그리고 차이의 부호가 마이너스인 것의 순위합과 차이의 부호가 플러스인 것의 순위합을 각각 구함.\n",
    "r_minus = np.sum((diff < 0) * rank)\n",
    "r_plus = np.sum((diff > 0) * rank)\n",
    "\n",
    "r_minus, r_plus"
   ]
  },
  {
   "cell_type": "markdown",
   "id": "90611ae7",
   "metadata": {},
   "source": [
    "- r_minus, r_plus중에서 작은 쪽이 검정통계량이 됩니다. \n",
    "- 여기서는 r_minus쪽이 작기 때문에 검정통계량은 8입니다. \n",
    "- 윌콕슨의 부호순위검정에서는 이 검정통계량이 임계값보다 작은 경우에 귀무가설이 기각되는 단측검정을 수행합니다. "
   ]
  },
  {
   "cell_type": "markdown",
   "id": "89958d08",
   "metadata": {},
   "source": [
    "왜 이러한 검정통계량에서 중앙값의 차이에 대한 검정이 가능한 것일까요? \n",
    "좀 극단적인 예를 살펴봅시다. "
   ]
  },
  {
   "cell_type": "code",
   "execution_count": 44,
   "id": "9f85edc0",
   "metadata": {},
   "outputs": [
    {
     "data": {
      "text/html": [
       "<div>\n",
       "<style scoped>\n",
       "    .dataframe tbody tr th:only-of-type {\n",
       "        vertical-align: middle;\n",
       "    }\n",
       "\n",
       "    .dataframe tbody tr th {\n",
       "        vertical-align: top;\n",
       "    }\n",
       "\n",
       "    .dataframe thead th {\n",
       "        text-align: right;\n",
       "    }\n",
       "</style>\n",
       "<table border=\"1\" class=\"dataframe\">\n",
       "  <thead>\n",
       "    <tr style=\"text-align: right;\">\n",
       "      <th></th>\n",
       "      <th>전</th>\n",
       "      <th>후</th>\n",
       "      <th>차</th>\n",
       "      <th>순위</th>\n",
       "    </tr>\n",
       "  </thead>\n",
       "  <tbody>\n",
       "    <tr>\n",
       "      <th>0</th>\n",
       "      <td>59</td>\n",
       "      <td>60</td>\n",
       "      <td>1</td>\n",
       "      <td>1</td>\n",
       "    </tr>\n",
       "    <tr>\n",
       "      <th>1</th>\n",
       "      <td>52</td>\n",
       "      <td>54</td>\n",
       "      <td>2</td>\n",
       "      <td>2</td>\n",
       "    </tr>\n",
       "    <tr>\n",
       "      <th>2</th>\n",
       "      <td>55</td>\n",
       "      <td>58</td>\n",
       "      <td>3</td>\n",
       "      <td>3</td>\n",
       "    </tr>\n",
       "    <tr>\n",
       "      <th>3</th>\n",
       "      <td>61</td>\n",
       "      <td>65</td>\n",
       "      <td>4</td>\n",
       "      <td>4</td>\n",
       "    </tr>\n",
       "    <tr>\n",
       "      <th>4</th>\n",
       "      <td>59</td>\n",
       "      <td>64</td>\n",
       "      <td>5</td>\n",
       "      <td>5</td>\n",
       "    </tr>\n",
       "    <tr>\n",
       "      <th>5</th>\n",
       "      <td>45</td>\n",
       "      <td>51</td>\n",
       "      <td>6</td>\n",
       "      <td>6</td>\n",
       "    </tr>\n",
       "  </tbody>\n",
       "</table>\n",
       "</div>"
      ],
      "text/plain": [
       "    전   후  차  순위\n",
       "0  59  60  1   1\n",
       "1  52  54  2   2\n",
       "2  55  58  3   3\n",
       "3  61  65  4   4\n",
       "4  59  64  5   5\n",
       "5  45  51  6   6"
      ]
     },
     "execution_count": 44,
     "metadata": {},
     "output_type": "execute_result"
    }
   ],
   "source": [
    "toy_df['후'] = toy_df['전'] + np.arange(1, 7)\n",
    "diff = toy_df['후'] - toy_df['전']\n",
    "rank = stats.rankdata(abs(diff)).astype(int)\n",
    "toy_df['차'] = diff\n",
    "toy_df['순위'] = rank\n",
    "toy_df"
   ]
  },
  {
   "cell_type": "code",
   "execution_count": 45,
   "id": "f73975b4",
   "metadata": {},
   "outputs": [
    {
     "data": {
      "text/plain": [
       "(0, 21)"
      ]
     },
     "execution_count": 45,
     "metadata": {},
     "output_type": "execute_result"
    }
   ],
   "source": [
    "r_minus = np.sum((diff < 0) * rank)\n",
    "r_plus = np.sum((diff > 0) * rank)\n",
    "\n",
    "r_minus, r_plus"
   ]
  },
  {
   "cell_type": "code",
   "execution_count": 46,
   "id": "f52fde9e",
   "metadata": {},
   "outputs": [
    {
     "data": {
      "text/html": [
       "<div>\n",
       "<style scoped>\n",
       "    .dataframe tbody tr th:only-of-type {\n",
       "        vertical-align: middle;\n",
       "    }\n",
       "\n",
       "    .dataframe tbody tr th {\n",
       "        vertical-align: top;\n",
       "    }\n",
       "\n",
       "    .dataframe thead th {\n",
       "        text-align: right;\n",
       "    }\n",
       "</style>\n",
       "<table border=\"1\" class=\"dataframe\">\n",
       "  <thead>\n",
       "    <tr style=\"text-align: right;\">\n",
       "      <th></th>\n",
       "      <th>전</th>\n",
       "      <th>후</th>\n",
       "      <th>차</th>\n",
       "      <th>순위</th>\n",
       "    </tr>\n",
       "  </thead>\n",
       "  <tbody>\n",
       "    <tr>\n",
       "      <th>0</th>\n",
       "      <td>59</td>\n",
       "      <td>60</td>\n",
       "      <td>1</td>\n",
       "      <td>1</td>\n",
       "    </tr>\n",
       "    <tr>\n",
       "      <th>1</th>\n",
       "      <td>52</td>\n",
       "      <td>50</td>\n",
       "      <td>-2</td>\n",
       "      <td>2</td>\n",
       "    </tr>\n",
       "    <tr>\n",
       "      <th>2</th>\n",
       "      <td>55</td>\n",
       "      <td>52</td>\n",
       "      <td>-3</td>\n",
       "      <td>3</td>\n",
       "    </tr>\n",
       "    <tr>\n",
       "      <th>3</th>\n",
       "      <td>61</td>\n",
       "      <td>65</td>\n",
       "      <td>4</td>\n",
       "      <td>4</td>\n",
       "    </tr>\n",
       "    <tr>\n",
       "      <th>4</th>\n",
       "      <td>59</td>\n",
       "      <td>64</td>\n",
       "      <td>5</td>\n",
       "      <td>5</td>\n",
       "    </tr>\n",
       "    <tr>\n",
       "      <th>5</th>\n",
       "      <td>45</td>\n",
       "      <td>39</td>\n",
       "      <td>-6</td>\n",
       "      <td>6</td>\n",
       "    </tr>\n",
       "  </tbody>\n",
       "</table>\n",
       "</div>"
      ],
      "text/plain": [
       "    전   후  차  순위\n",
       "0  59  60  1   1\n",
       "1  52  50 -2   2\n",
       "2  55  52 -3   3\n",
       "3  61  65  4   4\n",
       "4  59  64  5   5\n",
       "5  45  39 -6   6"
      ]
     },
     "execution_count": 46,
     "metadata": {},
     "output_type": "execute_result"
    }
   ],
   "source": [
    "toy_df['후'] = toy_df['전'] + [1, -2, -3, 4, 5, -6]\n",
    "diff = toy_df['후'] - toy_df['전']\n",
    "rank = stats.rankdata(abs(diff)).astype(int)\n",
    "toy_df['차'] = diff\n",
    "toy_df['순위'] = rank\n",
    "toy_df"
   ]
  },
  {
   "cell_type": "code",
   "execution_count": 47,
   "id": "47f414fa",
   "metadata": {},
   "outputs": [
    {
     "data": {
      "text/plain": [
       "(11, 10)"
      ]
     },
     "execution_count": 47,
     "metadata": {},
     "output_type": "execute_result"
    }
   ],
   "source": [
    "r_minus = np.sum((diff < 0) * rank)\n",
    "r_plus = np.sum((diff > 0) * rank)\n",
    "\n",
    "r_minus, r_plus"
   ]
  },
  {
   "cell_type": "code",
   "execution_count": 50,
   "id": "f39b028a",
   "metadata": {},
   "outputs": [
    {
     "data": {
      "text/plain": [
       "0.03623390197753906"
      ]
     },
     "execution_count": 50,
     "metadata": {},
     "output_type": "execute_result"
    }
   ],
   "source": [
    "T, p = stats.wilcoxon(training_rel['전'], training_rel['후'])\n",
    "p"
   ]
  },
  {
   "cell_type": "code",
   "execution_count": 51,
   "id": "28cdbc17",
   "metadata": {},
   "outputs": [
    {
     "data": {
      "text/plain": [
       "0.039989471435546875"
      ]
     },
     "execution_count": 51,
     "metadata": {},
     "output_type": "execute_result"
    }
   ],
   "source": [
    "T, p = stats.wilcoxon(training_rel['후'] - training_rel['전'])\n",
    "p"
   ]
  },
  {
   "cell_type": "code",
   "execution_count": 52,
   "id": "e4bc9b4c",
   "metadata": {},
   "outputs": [],
   "source": [
    "n = 10000\n",
    "diffs = np.round(stats.norm(3, 4).rvs(size=(n, 20)))"
   ]
  },
  {
   "cell_type": "code",
   "execution_count": 53,
   "id": "52040578",
   "metadata": {},
   "outputs": [
    {
     "data": {
      "text/plain": [
       "0.883"
      ]
     },
     "execution_count": 53,
     "metadata": {},
     "output_type": "execute_result"
    }
   ],
   "source": [
    "cnt = 0\n",
    "alpha = 0.05\n",
    "for diff in diffs:\n",
    "    t, p = stats.ttest_1samp(diff, 0)\n",
    "    if p < alpha:\n",
    "        cnt += 1\n",
    "cnt / n"
   ]
  },
  {
   "cell_type": "code",
   "execution_count": 54,
   "id": "495abaac",
   "metadata": {},
   "outputs": [
    {
     "name": "stderr",
     "output_type": "stream",
     "text": [
      "C:\\Users\\wousi\\anaconda3\\lib\\site-packages\\scipy\\stats\\morestats.py:2967: UserWarning: Exact p-value calculation does not work if there are ties. Switching to normal approximation.\n",
      "  warnings.warn(\"Exact p-value calculation does not work if there are \"\n"
     ]
    },
    {
     "data": {
      "text/plain": [
       "0.873"
      ]
     },
     "execution_count": 54,
     "metadata": {},
     "output_type": "execute_result"
    }
   ],
   "source": [
    "cnt = 0\n",
    "alpha = 0.05\n",
    "for diff in diffs:\n",
    "    T, p = stats.wilcoxon(diff)\n",
    "    if p < alpha:\n",
    "        cnt += 1\n",
    "cnt / n"
   ]
  },
  {
   "cell_type": "code",
   "execution_count": null,
   "id": "d30a6bd8",
   "metadata": {},
   "outputs": [],
   "source": []
  },
  {
   "cell_type": "code",
   "execution_count": null,
   "id": "5734be17",
   "metadata": {},
   "outputs": [],
   "source": []
  },
  {
   "cell_type": "code",
   "execution_count": null,
   "id": "12605bf1",
   "metadata": {},
   "outputs": [],
   "source": []
  },
  {
   "cell_type": "code",
   "execution_count": null,
   "id": "a6e2d289",
   "metadata": {},
   "outputs": [],
   "source": []
  },
  {
   "cell_type": "code",
   "execution_count": null,
   "id": "22407831",
   "metadata": {},
   "outputs": [],
   "source": []
  }
 ],
 "metadata": {
  "kernelspec": {
   "display_name": "Python 3",
   "language": "python",
   "name": "python3"
  },
  "language_info": {
   "codemirror_mode": {
    "name": "ipython",
    "version": 3
   },
   "file_extension": ".py",
   "mimetype": "text/x-python",
   "name": "python",
   "nbconvert_exporter": "python",
   "pygments_lexer": "ipython3",
   "version": "3.8.8"
  }
 },
 "nbformat": 4,
 "nbformat_minor": 5
}
