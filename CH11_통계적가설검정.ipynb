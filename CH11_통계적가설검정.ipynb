{
 "cells": [
  {
   "cell_type": "markdown",
   "id": "8c6e8293",
   "metadata": {},
   "source": [
    "## Chapter11 통계적 가설검정 "
   ]
  },
  {
   "cell_type": "markdown",
   "id": "c898066e",
   "metadata": {},
   "source": [
    "### 통계적 가설검정이란\n",
    "### - 모집단의 모수(모집단의 특성:평균,분산)에 관한 가설을 세우고 표본의 정보를 이용해 그 가설을 검증하는 기법입니다."
   ]
  },
  {
   "cell_type": "code",
   "execution_count": 1,
   "id": "be1510aa",
   "metadata": {},
   "outputs": [],
   "source": [
    "import numpy as np\n",
    "import pandas as pd\n",
    "from scipy import stats\n",
    "\n",
    "%precision 3\n",
    "np.random.seed(1111)"
   ]
  },
  {
   "cell_type": "code",
   "execution_count": 2,
   "id": "0fb55087",
   "metadata": {},
   "outputs": [
    {
     "data": {
      "text/plain": [
       "array([122.02, 131.73, 130.6 , 131.82, 132.05, 126.12, 124.43, 132.89,\n",
       "       122.79, 129.95, 126.14, 134.45, 127.64, 125.68])"
      ]
     },
     "execution_count": 2,
     "metadata": {},
     "output_type": "execute_result"
    }
   ],
   "source": [
    "df = pd.read_csv('../data/ch11_potato.csv')\n",
    "sample = np.array(df['무게'])\n",
    "sample"
   ]
  },
  {
   "cell_type": "code",
   "execution_count": 3,
   "id": "9db7862a",
   "metadata": {},
   "outputs": [
    {
     "data": {
      "text/plain": [
       "128.4507142857143"
      ]
     },
     "execution_count": 3,
     "metadata": {},
     "output_type": "execute_result"
    }
   ],
   "source": [
    "s_mean = np.mean(sample)\n",
    "s_mean"
   ]
  },
  {
   "cell_type": "markdown",
   "id": "cefa4ac0",
   "metadata": {},
   "source": [
    "## 11.1. 통계적 가설검정"
   ]
  },
  {
   "cell_type": "markdown",
   "id": "6a41a0e3",
   "metadata": {},
   "source": [
    "## 11.1.1 통계적 가설검정의 기본"
   ]
  },
  {
   "cell_type": "code",
   "execution_count": 4,
   "id": "6b310f71",
   "metadata": {},
   "outputs": [
    {
     "data": {
      "text/plain": [
       "128.68118313069039"
      ]
     },
     "execution_count": 4,
     "metadata": {},
     "output_type": "execute_result"
    }
   ],
   "source": [
    "# 감자튀김의 모집단이 정규분포를 따르고 모평균이 130g, 모분산이 9임을 알고 있다고 전제\n",
    "# 감자튀김 14개 표본은 N(130,9)를 따르고 \n",
    "# 표본평균은 N(130, 9/14)를 따르게 됨. \n",
    "# 표본평균이 P(X바<=x) = 0.05를 만족하는 x를 생각합시다. \n",
    "rv = stats.norm(130, np.sqrt(9/14))\n",
    "rv.isf(0.95)"
   ]
  },
  {
   "cell_type": "markdown",
   "id": "b9c54061",
   "metadata": {},
   "source": [
    "#### A학생이 추출한 표본평균이 128.45g이 되었던 것은 5%확률로 발생하는 드문 사건이라고 할 수 있습니다. \n",
    "#### 표본평균이 128.68g이하인 128.45g이 되었다는 것은 '모평균이 130g'이라는 가설 아래에서 5%확률로 발생하는 사건이 우연히 일어난 것이 아니라, 원래 '모평균이 130g보다 작은 게 아닐까?'라는 생각을 하게 합니다. \n",
    "#### 이에 따라 '모평균이 130g보다 작다.'라고 결론을 내리는 것이 가설검정의 큰 흐름입니다."
   ]
  },
  {
   "cell_type": "markdown",
   "id": "e446f329",
   "metadata": {},
   "source": [
    "### 가설검정에서는 모수에 관한 두 가설\n",
    "### $H_{0}$: '귀무가설(null hypothesis)'\n",
    "### $H_{1}$: '대립가설(alternative hypothesis)'\n",
    "### 두 가설을 검정하기 위해, 표본으로부터 통계량을 계산하여 가설검정을 수행하는 것입니다. \n",
    "### 그에 따른 결론은 아래 둘중 하나입니다. \n",
    "### '귀무가설을 기각한다(reject the null hypothesis)'-> 귀무가설은 옳지 않다\n",
    "### '귀무가설을 채택한다(accept the null hypothesis)'-> 귀무가설이 옳지 않다고 말할 수 없다고 해석합니다. 즉, 귀무가설이 옳은지 여부를 알수 없다고 보류하는 결론이 됩니다. "
   ]
  },
  {
   "cell_type": "markdown",
   "id": "db7bddef",
   "metadata": {},
   "source": [
    "### 만약 표본으로부터 계산되는 통계량이 드문 값을 얻으면, 그것은 우연이 아니라 어떤 의미가 있는 것이라 생각하여 \"유의하다(significant)\"라고 합니다.\n",
    "### 기각역(rejection region): 귀무가설이 기각되는 구간\n",
    "### 채택역(acceptance region): 채택되는 구간 \n",
    "### 가설검정에서는 기각역에 들어가는 확률을 정하고 나서 검정을 수행합니다. \n",
    "### 이 확률을 유의수준(level of significance,예5%)이라 하고, \n",
    "### 경계선상의 값을 임계값(critical value)이라고 합니다. \n",
    "### 또한 검정에 사용되는 통계량을 검정통계량(test statistics)이라고 합니다. "
   ]
  },
  {
   "cell_type": "markdown",
   "id": "9a6e9ce6",
   "metadata": {},
   "source": [
    "### 임계값보다 왼쪽에 있는 영역의 면적은 유의수준(los)에 해당합니다. \n",
    "### 검정통계량보다 왼쪽에 있는 영역의 면적에는 p값(p-value)이라는 이름이 붙습니다. \n",
    "### 가설검정은 p값과 유의수준(los)의 비교로 수행될 수도 있습니다. \n",
    "### 그 경우 p값이 유의수준보다 작을때는 귀무가설을 기각하고, 그렇지 않을 때에 귀무가설을 채택합니다. "
   ]
  },
  {
   "cell_type": "code",
   "execution_count": 5,
   "id": "646eb0e9",
   "metadata": {},
   "outputs": [
    {
     "data": {
      "text/plain": [
       "-1.932298779026813"
      ]
     },
     "execution_count": 5,
     "metadata": {},
     "output_type": "execute_result"
    }
   ],
   "source": [
    "# 감자튀김 무게의 평균값에 대한 가설검정을 생각해본다. \n",
    "# 표본평균X를 표준화한 Z를 사용합니다. \n",
    "# 상위100a%점을 Za로 나타낼수있습니다. \n",
    "# 검정통계량 값을 구합니다. \n",
    "z = (s_mean - 130) / np.sqrt(9/14)\n",
    "z"
   ]
  },
  {
   "cell_type": "code",
   "execution_count": 6,
   "id": "08224f36",
   "metadata": {},
   "outputs": [
    {
     "data": {
      "text/plain": [
       "-1.6448536269514722"
      ]
     },
     "execution_count": 6,
     "metadata": {},
     "output_type": "execute_result"
    }
   ],
   "source": [
    "rv = stats.norm()\n",
    "rv.isf(0.95)"
   ]
  },
  {
   "cell_type": "code",
   "execution_count": 7,
   "id": "dbd6c3f3",
   "metadata": {},
   "outputs": [
    {
     "data": {
      "text/plain": [
       "0.026661319523126635"
      ]
     },
     "execution_count": 7,
     "metadata": {},
     "output_type": "execute_result"
    }
   ],
   "source": [
    "# p값을 이용한 가설검정 확인 \n",
    "# p값은 누적분포함수를 사용해서 구할 수 있습니다. \n",
    "rv.cdf(z)"
   ]
  },
  {
   "cell_type": "markdown",
   "id": "514f3cbc",
   "metadata": {},
   "source": [
    "#### p값은 0.027로 유의수준 0.05보다 작은 값입니다. \n",
    "#### 따라서 귀무가설은 기각됩니다. "
   ]
  },
  {
   "cell_type": "markdown",
   "id": "1f44f7ee",
   "metadata": {},
   "source": [
    "## 가설검정의 흐름(기준: p값)\n",
    "### 1) 가설을 세운다 \n",
    "### 2) 유의수준을 결정한다 \n",
    "### 3) 검정토계량을 계산한다\n",
    "### 4) p값을 계산한다\n",
    "### 5-1) p값이 유의수준보다 작으면, 귀무가설 기각 \n",
    "### 5-2) p값이 유의수준보다    크면, 귀무가설 채택"
   ]
  },
  {
   "cell_type": "markdown",
   "id": "a7e9618b",
   "metadata": {},
   "source": [
    "## 11.1.2. 단축검정과 양측검정 \n",
    "- 양측검정: 대립가설 '모평균이 130g이 아니다.' \n",
    "- 단측검정: 대립가설 '모평균은 130g보다 작다.' \n",
    "- 동일한 유의수준$\\alpha$의 검정이라도 단측검정 쪽의 기각역이 넓어집니다. \n",
    "- 단측검정은 양측검정보다 귀무가설을 기각하기 쉽습니다. \n",
    "- 기각역/채택역"
   ]
  },
  {
   "cell_type": "code",
   "execution_count": 8,
   "id": "e668a3e1",
   "metadata": {},
   "outputs": [
    {
     "data": {
      "text/plain": [
       "-1.932298779026813"
      ]
     },
     "execution_count": 8,
     "metadata": {},
     "output_type": "execute_result"
    }
   ],
   "source": [
    "z = (s_mean - 130) / np.sqrt(9/14)\n",
    "z"
   ]
  },
  {
   "cell_type": "code",
   "execution_count": 9,
   "id": "ac74b850",
   "metadata": {},
   "outputs": [
    {
     "data": {
      "text/plain": [
       "(-1.959963984540054, 1.959963984540054)"
      ]
     },
     "execution_count": 9,
     "metadata": {},
     "output_type": "execute_result"
    }
   ],
   "source": [
    "#양측검정 임계값을 찾자 \n",
    "rv = stats.norm()\n",
    "rv.interval(0.95)"
   ]
  },
  {
   "cell_type": "code",
   "execution_count": 10,
   "id": "95b80cee",
   "metadata": {},
   "outputs": [
    {
     "data": {
      "text/plain": [
       "0.05332263904625327"
      ]
     },
     "execution_count": 10,
     "metadata": {},
     "output_type": "execute_result"
    }
   ],
   "source": [
    "# p값이 유의수준 0.05보다 큽니다. 따라서 귀무가설은 기각되지 않습니다. \n",
    "# 양측검정에서 검정토계량이 채택역에 들어가있다. \n",
    "# 양측검정에서는 귀무가설이 기각되지 않습니다. \n",
    "rv.cdf(z) * 2"
   ]
  },
  {
   "cell_type": "markdown",
   "id": "737c3f69",
   "metadata": {},
   "source": [
    "### 11.1.3. 가설검정의 두 가지 오류\n",
    "- 제1종오류: 귀무가설이 옳을 때, 귀무가설을 기각하는 오류/오탐/false positive\n",
    "- 제2종오류: 대립가설이 옳을 때, 귀무가설을 채택하는 오류/미탐/false negative "
   ]
  },
  {
   "cell_type": "code",
   "execution_count": 11,
   "id": "8e0b682a",
   "metadata": {},
   "outputs": [],
   "source": [
    "# 제1종오류\n",
    "# 실제로 '평균이 130g'인데도, '평균은 130g보다 작다.'\n",
    "rv = stats.norm(130, 3)"
   ]
  },
  {
   "cell_type": "code",
   "execution_count": 12,
   "id": "e7cfdf6e",
   "metadata": {},
   "outputs": [
    {
     "data": {
      "text/plain": [
       "0.053"
      ]
     },
     "execution_count": 12,
     "metadata": {},
     "output_type": "execute_result"
    }
   ],
   "source": [
    "c = stats.norm().isf(0.95)\n",
    "n_samples = 10000\n",
    "cnt = 0\n",
    "for _ in range(n_samples):\n",
    "    sample_ = np.round(rv.rvs(14), 2)\n",
    "    s_mean_ = np.mean(sample_)\n",
    "    z = (s_mean_ - 130) / np.sqrt(9/14)\n",
    "    if z < c:\n",
    "        cnt += 1\n",
    "cnt / n_samples"
   ]
  },
  {
   "cell_type": "markdown",
   "id": "ca9a276e",
   "metadata": {},
   "source": [
    "#### 제1종 오류를 범한 비율은 0.053입니다. 대략 5%의 비율로 '130g보다 작다.'라고 잘못탐지(오탐)하는 것 같습니다. \n",
    "#### 제1종 오류를 범하는 확률을 위험률이라 부르고, 기호로는 $\\alpha$를 사용합니다. \n",
    "#### 위험률은 유의수준과 일치하므로 분석가가 제어할 수 있는 확률입니다. \n",
    "#### 결국 제1종오류가 발생하는 확률을 1%로 하고 싶다면 분석가는 유의수준1%에서 가설 검정을 수행하면 됩니다. "
   ]
  },
  {
   "cell_type": "markdown",
   "id": "93c0918c",
   "metadata": {},
   "source": [
    "### 제2종오류 "
   ]
  },
  {
   "cell_type": "code",
   "execution_count": 13,
   "id": "1256f99f",
   "metadata": {},
   "outputs": [],
   "source": [
    "rv = stats.norm(128, 3)"
   ]
  },
  {
   "cell_type": "code",
   "execution_count": 14,
   "id": "6a132829",
   "metadata": {},
   "outputs": [
    {
     "data": {
      "text/plain": [
       "0.197"
      ]
     },
     "execution_count": 14,
     "metadata": {},
     "output_type": "execute_result"
    }
   ],
   "source": [
    "# '모평균이 130g보다 작다'임에도 그러한 결론을 얻을 수 없는 비율을 계산함. \n",
    "c = stats.norm().isf(0.95)\n",
    "n_samples = 10000\n",
    "cnt = 0\n",
    "for _ in range(n_samples):\n",
    "    sample_ = np.round(rv.rvs(14), 2)\n",
    "    s_mean_ = np.mean(sample_)\n",
    "    z = (s_mean_ - 130) / np.sqrt(9/14)\n",
    "    if z >= c:\n",
    "        cnt += 1\n",
    "        \n",
    "cnt / n_samples"
   ]
  },
  {
   "cell_type": "markdown",
   "id": "64c92f0c",
   "metadata": {},
   "source": [
    "#### 제2종오류를 범하는 비율은 0.197입니다. 대략 20%의 비율로 미탐이 발생하는 것 같습니다. \n",
    "#### 제2종오류를 범하는 확률에는 기호 $\\beta$를 사용하고, 1-$\\beta$를 검정력(power)라고 부릅니다.\n",
    "#### '모평균이 130g보다 작다.'라는 상황이라도 평균이 120g으로 설정되면 미탐이 발생할 확률은 낮아진다는 것은 직관적으로 알 수 있습니다\n",
    "#### 이와 같이 $\\beta$는 모집단의 정보에 의존합니다. 본래 모집단의 정보는 알 수 없는 것이므로 $\\beta$는 분석가가 제어할 수 없는 확률입니다. \n",
    "#### 제1종오류는 제어할 수 있지만, 제2종오류는 제어할 수 없는 비대칭성이 있다는 것을 기억해두기 바랍니다. "
   ]
  },
  {
   "cell_type": "markdown",
   "id": "ac81697d",
   "metadata": {},
   "source": [
    "## 11.2 기본적인 가설검정 \n",
    "## 11.2.1. 정규분포의 모평균에 대한 검정: 모분산을 알고 있는 경우\n",
    "- 모평균에 대한 검정이란 모평균이 어떤 값 $\\mu_{0}$이 아니라고 주장하기 위한 검정입니다. 특히 모집단의 정규분포를 가정하고 그 모분산 $\\sigma^{2}$도 알고 있는 상황은 매우 단순한 설정입니다. "
   ]
  },
  {
   "cell_type": "code",
   "execution_count": 15,
   "id": "db1ff5f7",
   "metadata": {},
   "outputs": [],
   "source": [
    "def pmean_test(sample, mean0, p_var, alpha=0.05):\n",
    "    s_mean = np.mean(sample)\n",
    "    n = len(sample)\n",
    "    rv = stats.norm()\n",
    "    interval = rv.interval(1-alpha)\n",
    "\n",
    "    z = (s_mean - mean0) / np.sqrt(p_var/n)\n",
    "    if interval[0] <= z <= interval[1]:\n",
    "        print('귀무가설을 채택')\n",
    "    else:\n",
    "        print('귀무가설을 기각')\n",
    "\n",
    "    if z < 0:\n",
    "        p = rv.cdf(z) * 2\n",
    "    else:\n",
    "        p = (1 - rv.cdf(z)) * 2\n",
    "    print(f'p값은 {p:.3f}')"
   ]
  },
  {
   "cell_type": "code",
   "execution_count": 16,
   "id": "4b296ad2",
   "metadata": {},
   "outputs": [
    {
     "name": "stdout",
     "output_type": "stream",
     "text": [
      "귀무가설을 채택\n",
      "p값은 0.053\n"
     ]
    }
   ],
   "source": [
    "pmean_test(sample, 130, 9)"
   ]
  },
  {
   "cell_type": "markdown",
   "id": "80657b5e",
   "metadata": {},
   "source": [
    "## 11.2.2 정규분포의 모분산에 대한 검정 \n",
    "- 모분산에 대한 검정은 모분산이 어떤값 $\\sigma_{0}^{2}$이 아닌 것을 주장하기 위한 검정입니다. \n",
    "- 이 검정에서는 Y=$\\frac{(n-1)s^{2}}{\\sigma_{0}^{2}}$을 검정통계량으로 사용하여, 10.2절에서 살펴본 것 처럼 Y~$X^{2}$(n-1)이 되는 것을 이용합니다. "
   ]
  },
  {
   "cell_type": "code",
   "execution_count": 17,
   "id": "209c494c",
   "metadata": {},
   "outputs": [],
   "source": [
    "def pvar_test(sample, var0, alpha=0.05):\n",
    "    u_var = np.var(sample, ddof=1) # s^2\n",
    "    n = len(sample)\n",
    "    rv = stats.chi2(df=n-1)\n",
    "    interval = rv.interval(1-alpha)\n",
    "    \n",
    "    y = (n-1) * u_var / var0\n",
    "    if interval[0] <= y <= interval[1]:\n",
    "        print('귀무가설을 채택')\n",
    "    else:\n",
    "        print('귀무가설을 기각')\n",
    "\n",
    "    if y < rv.isf(0.5):\n",
    "        p = rv.cdf(y) * 2\n",
    "    else:\n",
    "        p = (1 - rv.cdf(y)) * 2\n",
    "    print(f'p값은 {p:.3f}')"
   ]
  },
  {
   "cell_type": "code",
   "execution_count": 18,
   "id": "7ed361c4",
   "metadata": {},
   "outputs": [
    {
     "name": "stdout",
     "output_type": "stream",
     "text": [
      "귀무가설을 채택\n",
      "p값은 0.085\n"
     ]
    }
   ],
   "source": [
    "pvar_test(sample, 9)"
   ]
  },
  {
   "cell_type": "code",
   "execution_count": null,
   "id": "b6a646b4",
   "metadata": {},
   "outputs": [],
   "source": []
  }
 ],
 "metadata": {
  "kernelspec": {
   "display_name": "Python 3",
   "language": "python",
   "name": "python3"
  },
  "language_info": {
   "codemirror_mode": {
    "name": "ipython",
    "version": 3
   },
   "file_extension": ".py",
   "mimetype": "text/x-python",
   "name": "python",
   "nbconvert_exporter": "python",
   "pygments_lexer": "ipython3",
   "version": "3.8.8"
  }
 },
 "nbformat": 4,
 "nbformat_minor": 5
}
