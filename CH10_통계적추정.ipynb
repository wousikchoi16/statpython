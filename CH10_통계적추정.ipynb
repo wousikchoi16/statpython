{
 "cells": [
  {
   "cell_type": "markdown",
   "id": "5a9642d6",
   "metadata": {},
   "source": [
    "## Chapter10 통계적 추정 "
   ]
  },
  {
   "cell_type": "code",
   "execution_count": 1,
   "id": "4c7bff78",
   "metadata": {},
   "outputs": [],
   "source": [
    "import numpy as np\n",
    "import pandas as pd\n",
    "import matplotlib.pyplot as plt\n",
    "from scipy import stats\n",
    "\n",
    "%precision 3\n",
    "%matplotlib inline"
   ]
  },
  {
   "cell_type": "code",
   "execution_count": 2,
   "id": "55f0d918",
   "metadata": {},
   "outputs": [],
   "source": [
    "df = pd.read_csv('../data/ch4_scores400.csv')\n",
    "scores = np.array(df['score'])"
   ]
  },
  {
   "cell_type": "code",
   "execution_count": 3,
   "id": "a3894836",
   "metadata": {},
   "outputs": [
    {
     "data": {
      "text/plain": [
       "(69.53, 206.6691)"
      ]
     },
     "execution_count": 3,
     "metadata": {},
     "output_type": "execute_result"
    }
   ],
   "source": [
    "p_mean = np.mean(scores)\n",
    "p_var = np.var(scores)\n",
    "\n",
    "p_mean, p_var"
   ]
  },
  {
   "cell_type": "code",
   "execution_count": 5,
   "id": "4e338f8a",
   "metadata": {},
   "outputs": [
    {
     "data": {
      "image/png": "[encoded data removed]",
      "text/plain": [
       "<Figure size 720x432 with 1 Axes>"
      ]
     },
     "metadata": {
      "needs_background": "light"
     },
     "output_type": "display_data"
    }
   ],
   "source": [
    "fig = plt.figure(figsize=(10, 6))\n",
    "ax = fig.add_subplot(111)\n",
    "\n",
    "xs = np.arange(101)\n",
    "rv = stats.norm(p_mean, np.sqrt(p_var))\n",
    "ax.plot(xs, rv.pdf(xs), color='gray')\n",
    "ax.hist(scores, bins=100, range=(0, 100), density=True)\n",
    "\n",
    "plt.show()"
   ]
  },
  {
   "cell_type": "code",
   "execution_count": 6,
   "id": "6dd864ec",
   "metadata": {},
   "outputs": [
    {
     "data": {
      "text/plain": [
       "array([49, 60, 72, 86, 52, 61, 77, 91, 80, 56, 69, 67, 90, 56, 75, 79, 60,\n",
       "       79, 68, 81], dtype=int64)"
      ]
     },
     "execution_count": 6,
     "metadata": {},
     "output_type": "execute_result"
    }
   ],
   "source": [
    "np.random.seed(0)\n",
    "n = 20\n",
    "sample = np.random.choice(scores, n)\n",
    "sample"
   ]
  },
  {
   "cell_type": "code",
   "execution_count": 7,
   "id": "da235741",
   "metadata": {},
   "outputs": [],
   "source": [
    "np.random.seed(1111)\n",
    "n_samples = 10000\n",
    "samples = np.random.choice(scores, (n_samples, n)) #샘플1만개 만든다. "
   ]
  },
  {
   "cell_type": "markdown",
   "id": "4551d8c5",
   "metadata": {},
   "source": [
    "## 10.1 점추정\n",
    "- 어떻게 표본평균을 사용하면 모평균을 잘 추정할 수 있는지, 모분산을 점추정할때 어떤 통계량을 사용하면 잘 추정할 수 있는지를 설명합니다. "
   ]
  },
  {
   "cell_type": "markdown",
   "id": "423fca87",
   "metadata": {},
   "source": [
    "## 10.1.1 모평균의 점추정"
   ]
  },
  {
   "cell_type": "code",
   "execution_count": 10,
   "id": "bfe27807",
   "metadata": {},
   "outputs": [
    {
     "name": "stdout",
     "output_type": "stream",
     "text": [
      "1번째 표본평균: 67.000\n",
      "2번째 표본평균: 72.850\n",
      "3번째 표본평균: 69.200\n",
      "4번째 표본평균: 64.450\n",
      "5번째 표본평균: 72.650\n"
     ]
    }
   ],
   "source": [
    "for i in range(5):\n",
    "    s_mean = np.mean(samples[i])\n",
    "    print(f'{i+1}번째 표본평균: {s_mean:.3f}')"
   ]
  },
  {
   "cell_type": "markdown",
   "id": "0deb888b",
   "metadata": {},
   "source": [
    "### '추정량의 기대값'이 추측하려는 모수가 되는 성질을 '불편성(unbiasedness)'이라 하고, 불편성을 가진 추정량을 '불편추정량(unbiased estimator)'이라고 합니다. "
   ]
  },
  {
   "cell_type": "code",
   "execution_count": 13,
   "id": "e12cbf55",
   "metadata": {},
   "outputs": [
    {
     "data": {
      "text/plain": [
       "(10000, 20)"
      ]
     },
     "execution_count": 13,
     "metadata": {},
     "output_type": "execute_result"
    }
   ],
   "source": [
    "samples.shape"
   ]
  },
  {
   "cell_type": "code",
   "execution_count": 14,
   "id": "2ae3212e",
   "metadata": {},
   "outputs": [
    {
     "name": "stdout",
     "output_type": "stream",
     "text": [
      "(10000,)\n"
     ]
    },
    {
     "data": {
      "text/plain": [
       "69.53799999999998"
      ]
     },
     "execution_count": 14,
     "metadata": {},
     "output_type": "execute_result"
    }
   ],
   "source": [
    "sample_means = np.mean(samples, axis=1)\n",
    "print(sample_means.shape)\n",
    "np.mean(sample_means)"
   ]
  },
  {
   "cell_type": "markdown",
   "id": "05bd4491",
   "metadata": {},
   "source": [
    "### 표본크기n을 증가시키면, 추측하기 원하는 모수에 수렴해가는 성질입니다. 이 성질을 '일치성(consistenncy)'이라 하고, 일치성을 지닌 추정량을 '일치추정량(consistent estimator)'이라고 합니다. "
   ]
  },
  {
   "cell_type": "code",
   "execution_count": 12,
   "id": "be7ddd72",
   "metadata": {},
   "outputs": [
    {
     "data": {
      "text/plain": [
       "69.542954"
      ]
     },
     "execution_count": 12,
     "metadata": {},
     "output_type": "execute_result"
    }
   ],
   "source": [
    "np.mean(np.random.choice(scores, int(1e6)))"
   ]
  },
  {
   "cell_type": "markdown",
   "id": "8961dc85",
   "metadata": {},
   "source": [
    "### 표본평균은 불편성과 일치성을 모두 가지고 있기 때문에, 모평균을 잘 추정한다고 말할 수 있습니다. 이 책에서는 불편성과 일치성을 지닌 추정량을 좋은 추정량이라고 부르겠습니다. "
   ]
  },
  {
   "cell_type": "code",
   "execution_count": 15,
   "id": "72c1f018",
   "metadata": {},
   "outputs": [
    {
     "data": {
      "text/plain": [
       "70.4"
      ]
     },
     "execution_count": 15,
     "metadata": {},
     "output_type": "execute_result"
    }
   ],
   "source": [
    "s_mean = np.mean(sample)\n",
    "s_mean"
   ]
  },
  {
   "cell_type": "markdown",
   "id": "573b6621",
   "metadata": {},
   "source": [
    "## 10.1.2 모분산의 점추정\n",
    "### - 표본분산은 모분산의 불편추정량이 아님. \n",
    "### - 모분산의 불편추정량이 되는 표본통계량은 '불편분산(unbiased variance)'입니다. "
   ]
  },
  {
   "cell_type": "code",
   "execution_count": 16,
   "id": "b2c2d8f7",
   "metadata": {},
   "outputs": [
    {
     "name": "stdout",
     "output_type": "stream",
     "text": [
      "1번째 표본분산: 116.800\n",
      "2번째 표본분산: 162.928\n",
      "3번째 표본분산: 187.060\n",
      "4번째 표본분산: 149.148\n",
      "5번째 표본분산: 111.528\n"
     ]
    }
   ],
   "source": [
    "for i in range(5):\n",
    "    s_var = np.var(samples[i])\n",
    "    print(f'{i+1}번째 표본분산: {s_var:.3f}')"
   ]
  },
  {
   "cell_type": "code",
   "execution_count": 18,
   "id": "63556c55",
   "metadata": {},
   "outputs": [
    {
     "data": {
      "text/plain": [
       "196.34417850000003"
      ]
     },
     "execution_count": 18,
     "metadata": {},
     "output_type": "execute_result"
    }
   ],
   "source": [
    "# 모분산은 206인데 작은 숫자임! \n",
    "sample_vars = np.var(samples, axis=1)\n",
    "np.mean(sample_vars)"
   ]
  },
  {
   "cell_type": "code",
   "execution_count": 20,
   "id": "4f55c799",
   "metadata": {},
   "outputs": [
    {
     "data": {
      "text/plain": [
       "206.67808263157895"
      ]
     },
     "execution_count": 20,
     "metadata": {},
     "output_type": "execute_result"
    }
   ],
   "source": [
    "#불편분산 계산 \n",
    "sample_u_vars = np.var(samples, axis=1, ddof=1)\n",
    "np.mean(sample_u_vars)"
   ]
  },
  {
   "cell_type": "code",
   "execution_count": 21,
   "id": "27eb1a84",
   "metadata": {},
   "outputs": [
    {
     "data": {
      "text/plain": [
       "207.08336592317"
      ]
     },
     "execution_count": 21,
     "metadata": {},
     "output_type": "execute_result"
    }
   ],
   "source": [
    "# 불편분산은 모분산에 대해 불편성과 일치성을 지닌 좋은 추정량임. \n",
    "np.var(np.random.choice(scores, int(1e6)), ddof=1)"
   ]
  },
  {
   "cell_type": "code",
   "execution_count": 22,
   "id": "da479c82",
   "metadata": {},
   "outputs": [
    {
     "data": {
      "text/plain": [
       "158.25263157894742"
      ]
     },
     "execution_count": 22,
     "metadata": {},
     "output_type": "execute_result"
    }
   ],
   "source": [
    "# A학생이 추출한 표본으로 불편분산을 계산해둡니다. \n",
    "u_var = np.var(sample, ddof=1)\n",
    "u_var"
   ]
  },
  {
   "cell_type": "markdown",
   "id": "08374816",
   "metadata": {},
   "source": [
    "## 10.1.3 정리"
   ]
  },
  {
   "cell_type": "markdown",
   "id": "8b63d830",
   "metadata": {},
   "source": [
    "#### 불편성: 기대값이 추측하기 원하는 모수가 되는 성질\n",
    "#### 일치성: 표본 크기를 키우면 추측하기 원하는 모수에 수렴하는 성질"
   ]
  },
  {
   "cell_type": "markdown",
   "id": "bdfa6bb8",
   "metadata": {},
   "source": [
    "### < 모평균과 모분산의 점추정 >\n",
    "#### $X_{1}, X_{2}, ... , X_{n}$이 서로 독립이고 기대값이 $\\mu$, 분산이 $\\sigma^{2}$인 확률분포를 따를 때, 표본평균 $\\bar{X}$와 불편분산$s^{2}$는 각각 모평균$\\mu$와 모분산$\\sigma^{2}$에 대해서 불편성과 일치성을 지닌 추정량이 됩니다. "
   ]
  },
  {
   "cell_type": "code",
   "execution_count": null,
   "id": "97433592",
   "metadata": {},
   "outputs": [],
   "source": []
  },
  {
   "cell_type": "code",
   "execution_count": null,
   "id": "0f064399",
   "metadata": {},
   "outputs": [],
   "source": []
  },
  {
   "cell_type": "code",
   "execution_count": null,
   "id": "3beab76e",
   "metadata": {},
   "outputs": [],
   "source": []
  }
 ],
 "metadata": {
  "kernelspec": {
   "display_name": "Python 3",
   "language": "python",
   "name": "python3"
  },
  "language_info": {
   "codemirror_mode": {
    "name": "ipython",
    "version": 3
   },
   "file_extension": ".py",
   "mimetype": "text/x-python",
   "name": "python",
   "nbconvert_exporter": "python",
   "pygments_lexer": "ipython3",
   "version": "3.8.8"
  }
 },
 "nbformat": 4,
 "nbformat_minor": 5
}
