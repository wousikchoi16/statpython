{
 "cells": [
  {
   "cell_type": "markdown",
   "id": "5a9642d6",
   "metadata": {},
   "source": [
    "## Chapter10 통계적 추정 "
   ]
  },
  {
   "cell_type": "code",
   "execution_count": 1,
   "id": "4c7bff78",
   "metadata": {},
   "outputs": [],
   "source": [
    "import numpy as np\n",
    "import pandas as pd\n",
    "import matplotlib.pyplot as plt\n",
    "from scipy import stats\n",
    "\n",
    "%precision 3\n",
    "%matplotlib inline"
   ]
  },
  {
   "cell_type": "code",
   "execution_count": 2,
   "id": "55f0d918",
   "metadata": {},
   "outputs": [],
   "source": [
    "df = pd.read_csv('../data/ch4_scores400.csv')\n",
    "scores = np.array(df['score'])"
   ]
  },
  {
   "cell_type": "code",
   "execution_count": 3,
   "id": "a3894836",
   "metadata": {},
   "outputs": [
    {
     "data": {
      "text/plain": [
       "(69.53, 206.6691)"
      ]
     },
     "execution_count": 3,
     "metadata": {},
     "output_type": "execute_result"
    }
   ],
   "source": [
    "p_mean = np.mean(scores)\n",
    "p_var = np.var(scores)\n",
    "\n",
    "p_mean, p_var"
   ]
  },
  {
   "cell_type": "code",
   "execution_count": 5,
   "id": "4e338f8a",
   "metadata": {},
   "outputs": [
    {
     "data": {
      "image/png": "[encoded data removed]",
      "text/plain": [
       "<Figure size 720x432 with 1 Axes>"
      ]
     },
     "metadata": {
      "needs_background": "light"
     },
     "output_type": "display_data"
    }
   ],
   "source": [
    "fig = plt.figure(figsize=(10, 6))\n",
    "ax = fig.add_subplot(111)\n",
    "\n",
    "xs = np.arange(101)\n",
    "rv = stats.norm(p_mean, np.sqrt(p_var))\n",
    "ax.plot(xs, rv.pdf(xs), color='gray')\n",
    "ax.hist(scores, bins=100, range=(0, 100), density=True)\n",
    "\n",
    "plt.show()"
   ]
  },
  {
   "cell_type": "code",
   "execution_count": 6,
   "id": "6dd864ec",
   "metadata": {},
   "outputs": [
    {
     "data": {
      "text/plain": [
       "array([49, 60, 72, 86, 52, 61, 77, 91, 80, 56, 69, 67, 90, 56, 75, 79, 60,\n",
       "       79, 68, 81], dtype=int64)"
      ]
     },
     "execution_count": 6,
     "metadata": {},
     "output_type": "execute_result"
    }
   ],
   "source": [
    "np.random.seed(0)\n",
    "n = 20\n",
    "sample = np.random.choice(scores, n)\n",
    "sample"
   ]
  },
  {
   "cell_type": "code",
   "execution_count": 7,
   "id": "da235741",
   "metadata": {},
   "outputs": [],
   "source": [
    "np.random.seed(1111)\n",
    "n_samples = 10000\n",
    "samples = np.random.choice(scores, (n_samples, n)) #샘플1만개 만든다. "
   ]
  },
  {
   "cell_type": "markdown",
   "id": "0519acf3",
   "metadata": {},
   "source": [
    "## 10.1 점추정\n",
    "- 어떻게 표본평균을 사용하면 모평균을 잘 추정할 수 있는지, 모분산을 점추정할때 어떤 통계량을 사용하면 잘 추정할 수 있는지를 설명합니다. "
   ]
  },
  {
   "cell_type": "markdown",
   "id": "257fc58b",
   "metadata": {},
   "source": [
    "## 10.1.1 모평균의 점추정"
   ]
  },
  {
   "cell_type": "code",
   "execution_count": 10,
   "id": "bfe27807",
   "metadata": {},
   "outputs": [
    {
     "name": "stdout",
     "output_type": "stream",
     "text": [
      "1번째 표본평균: 67.000\n",
      "2번째 표본평균: 72.850\n",
      "3번째 표본평균: 69.200\n",
      "4번째 표본평균: 64.450\n",
      "5번째 표본평균: 72.650\n"
     ]
    }
   ],
   "source": [
    "for i in range(5):\n",
    "    s_mean = np.mean(samples[i])\n",
    "    print(f'{i+1}번째 표본평균: {s_mean:.3f}')"
   ]
  },
  {
   "cell_type": "markdown",
   "id": "8dbb5c81",
   "metadata": {},
   "source": [
    "### '추정량의 기대값'이 추측하려는 모수가 되는 성질을 '불편성(unbiasedness)'이라 하고, 불편성을 가진 추정량을 '불편추정량(unbiased estimator)'이라고 합니다. "
   ]
  },
  {
   "cell_type": "code",
   "execution_count": 13,
   "id": "7095621d",
   "metadata": {},
   "outputs": [
    {
     "data": {
      "text/plain": [
       "(10000, 20)"
      ]
     },
     "execution_count": 13,
     "metadata": {},
     "output_type": "execute_result"
    }
   ],
   "source": [
    "samples.shape"
   ]
  },
  {
   "cell_type": "code",
   "execution_count": 14,
   "id": "a1b3eb50",
   "metadata": {},
   "outputs": [
    {
     "name": "stdout",
     "output_type": "stream",
     "text": [
      "(10000,)\n"
     ]
    },
    {
     "data": {
      "text/plain": [
       "69.53799999999998"
      ]
     },
     "execution_count": 14,
     "metadata": {},
     "output_type": "execute_result"
    }
   ],
   "source": [
    "sample_means = np.mean(samples, axis=1)\n",
    "print(sample_means.shape)\n",
    "np.mean(sample_means)"
   ]
  },
  {
   "cell_type": "markdown",
   "id": "c66e7847",
   "metadata": {},
   "source": [
    "### 표본크기n을 증가시키면, 추측하기 원하는 모수에 수렴해가는 성질입니다. 이 성질을 '일치성(consistenncy)'이라 하고, 일치성을 지닌 추정량을 '일치추정량(consistent estimator)'이라고 합니다. "
   ]
  },
  {
   "cell_type": "code",
   "execution_count": 12,
   "id": "9dac295a",
   "metadata": {},
   "outputs": [
    {
     "data": {
      "text/plain": [
       "69.542954"
      ]
     },
     "execution_count": 12,
     "metadata": {},
     "output_type": "execute_result"
    }
   ],
   "source": [
    "np.mean(np.random.choice(scores, int(1e6)))"
   ]
  },
  {
   "cell_type": "markdown",
   "id": "9cb25e8e",
   "metadata": {},
   "source": [
    "### 표본평균은 불편성과 일치성을 모두 가지고 있기 때문에, 모평균을 잘 추정한다고 말할 수 있습니다. 이 책에서는 불편성과 일치성을 지닌 추정량을 좋은 추정량이라고 부르겠습니다. "
   ]
  },
  {
   "cell_type": "code",
   "execution_count": 15,
   "id": "89d9d86d",
   "metadata": {},
   "outputs": [
    {
     "data": {
      "text/plain": [
       "70.4"
      ]
     },
     "execution_count": 15,
     "metadata": {},
     "output_type": "execute_result"
    }
   ],
   "source": [
    "s_mean = np.mean(sample)\n",
    "s_mean"
   ]
  },
  {
   "cell_type": "markdown",
   "id": "e898175e",
   "metadata": {},
   "source": [
    "## 10.1.2 모분산의 점추정\n",
    "### - 표본분산은 모분산의 불편추정량이 아님. \n",
    "### - 모분산의 불편추정량이 되는 표본통계량은 '불편분산(unbiased variance)'입니다. "
   ]
  },
  {
   "cell_type": "code",
   "execution_count": 16,
   "id": "be86e462",
   "metadata": {},
   "outputs": [
    {
     "name": "stdout",
     "output_type": "stream",
     "text": [
      "1번째 표본분산: 116.800\n",
      "2번째 표본분산: 162.928\n",
      "3번째 표본분산: 187.060\n",
      "4번째 표본분산: 149.148\n",
      "5번째 표본분산: 111.528\n"
     ]
    }
   ],
   "source": [
    "for i in range(5):\n",
    "    s_var = np.var(samples[i])\n",
    "    print(f'{i+1}번째 표본분산: {s_var:.3f}')"
   ]
  },
  {
   "cell_type": "code",
   "execution_count": 18,
   "id": "309d4296",
   "metadata": {},
   "outputs": [
    {
     "data": {
      "text/plain": [
       "196.34417850000003"
      ]
     },
     "execution_count": 18,
     "metadata": {},
     "output_type": "execute_result"
    }
   ],
   "source": [
    "# 모분산은 206인데 작은 숫자임! \n",
    "sample_vars = np.var(samples, axis=1)\n",
    "np.mean(sample_vars)"
   ]
  },
  {
   "cell_type": "code",
   "execution_count": 20,
   "id": "4f55c799",
   "metadata": {},
   "outputs": [
    {
     "data": {
      "text/plain": [
       "206.67808263157895"
      ]
     },
     "execution_count": 20,
     "metadata": {},
     "output_type": "execute_result"
    }
   ],
   "source": [
    "#불편분산 계산 \n",
    "sample_u_vars = np.var(samples, axis=1, ddof=1)\n",
    "np.mean(sample_u_vars)"
   ]
  },
  {
   "cell_type": "code",
   "execution_count": 21,
   "id": "96ba3973",
   "metadata": {},
   "outputs": [
    {
     "data": {
      "text/plain": [
       "207.08336592317"
      ]
     },
     "execution_count": 21,
     "metadata": {},
     "output_type": "execute_result"
    }
   ],
   "source": [
    "# 불편분산은 모분산에 대해 불편성과 일치성을 지닌 좋은 추정량임. \n",
    "np.var(np.random.choice(scores, int(1e6)), ddof=1)"
   ]
  },
  {
   "cell_type": "code",
   "execution_count": 22,
   "id": "680d725f",
   "metadata": {},
   "outputs": [
    {
     "data": {
      "text/plain": [
       "158.25263157894742"
      ]
     },
     "execution_count": 22,
     "metadata": {},
     "output_type": "execute_result"
    }
   ],
   "source": [
    "# A학생이 추출한 표본으로 불편분산을 계산해둡니다. \n",
    "u_var = np.var(sample, ddof=1)\n",
    "u_var"
   ]
  },
  {
   "cell_type": "markdown",
   "id": "b0645e95",
   "metadata": {},
   "source": [
    "## 10.1.3 정리"
   ]
  },
  {
   "cell_type": "markdown",
   "id": "9f9a447f",
   "metadata": {},
   "source": [
    "#### 불편성: 기대값이 추측하기 원하는 모수가 되는 성질\n",
    "#### 일치성: 표본 크기를 키우면 추측하기 원하는 모수에 수렴하는 성질"
   ]
  },
  {
   "cell_type": "markdown",
   "id": "f884c3dd",
   "metadata": {},
   "source": [
    "### < 모평균과 모분산의 점추정 >\n",
    "#### $X_{1}, X_{2}, ... , X_{n}$이 서로 독립이고 기대값이 $\\mu$, 분산이 $\\sigma^{2}$인 확률분포를 따를 때, 표본평균 $\\bar{X}$와 불편분산$s^{2}$는 각각 모평균$\\mu$와 모분산$\\sigma^{2}$에 대해서 불편성과 일치성을 지닌 추정량이 됩니다. "
   ]
  },
  {
   "cell_type": "markdown",
   "id": "ba161873",
   "metadata": {},
   "source": [
    "## 10.2 구간 추정 \n",
    "- 표본평균과 불편분산이 각각 모평균과 모분산의 좋은 추정량이 된다고 배웠습니다.\n",
    "- 그러나 표본평균이나 불편분산은 확률변수이므로, 아무리 좋은 추정량이라고 입증되어도 우연히 편향된 표본을 추출해버리는 경우 예상과 다른 추정이 될 가능성이 있습니다. \n",
    "- 이때문에 사전에 예상되는 오차를 예측하고 모평균이 이 범위에 있다는 주장을 할 수 있으면 보다 좋은 추정이 될 것 같습니다. \n",
    "- 그것이 이절에서 배우는 구간추정입니다. "
   ]
  },
  {
   "cell_type": "markdown",
   "id": "8880ae6f",
   "metadata": {},
   "source": [
    "### 10.2.1 정규분포의 모평균 구간 추정: 모분산을 알고 있는 경우"
   ]
  },
  {
   "cell_type": "code",
   "execution_count": 23,
   "id": "f4d1bde4",
   "metadata": {},
   "outputs": [
    {
     "data": {
      "text/plain": [
       "(64.09956018535247, 76.70043981464754)"
      ]
     },
     "execution_count": 23,
     "metadata": {},
     "output_type": "execute_result"
    }
   ],
   "source": [
    "rv = stats.norm()\n",
    "lcl = s_mean - rv.isf(0.025) * np.sqrt(p_var/n)\n",
    "ucl = s_mean - rv.isf(0.975) * np.sqrt(p_var/n)\n",
    "\n",
    "lcl, ucl"
   ]
  },
  {
   "cell_type": "markdown",
   "id": "b0562726",
   "metadata": {},
   "source": [
    "### - 95%신뢰구간[64.1,76.7]에 대한 바른 해석은 '동일한 방법으로 수차례 표본추출하여 구간추정을 하면, 그중에 95%의 구간추정에는 모평균이 포함되어 있다.'입니다. \n",
    "### - 확률적으로 변동하는 것은 구간 쪽이지, 모평균은 고정값임. "
   ]
  },
  {
   "cell_type": "code",
   "execution_count": 25,
   "id": "331f33e5",
   "metadata": {},
   "outputs": [
    {
     "data": {
      "image/png": "[encoded data removed]",
      "text/plain": [
       "<Figure size 720x720 with 1 Axes>"
      ]
     },
     "metadata": {
      "needs_background": "light"
     },
     "output_type": "display_data"
    }
   ],
   "source": [
    "fig = plt.figure(figsize=(10, 10))\n",
    "ax = fig.add_subplot(111)\n",
    "\n",
    "rv = stats.norm()\n",
    "n_samples = 200\n",
    "ax.vlines(p_mean, 0, 21)\n",
    "for i in range(n_samples):\n",
    "    sample_ = samples[i]\n",
    "    s_mean_ = np.mean(sample_)\n",
    "    lcl = s_mean_ - rv.isf(0.025) * np.sqrt(p_var/n)\n",
    "    ucl = s_mean_ - rv.isf(0.975) * np.sqrt(p_var/n)\n",
    "    if lcl <= p_mean <= ucl:\n",
    "        ax.scatter(s_mean_, n_samples-i, color='gray')\n",
    "        ax.hlines(n_samples-i, lcl, ucl, color='gray')\n",
    "    else:\n",
    "        ax.scatter(s_mean_, n_samples-i, color='b')\n",
    "        ax.hlines(n_samples-i, lcl, ucl, color='b')\n",
    "ax.set_xticks([p_mean])\n",
    "ax.set_xticklabels(['population mean'])\n",
    "\n",
    "plt.show()"
   ]
  },
  {
   "cell_type": "code",
   "execution_count": 26,
   "id": "6fd493f6",
   "metadata": {},
   "outputs": [
    {
     "data": {
      "text/plain": [
       "0.951"
      ]
     },
     "execution_count": 26,
     "metadata": {},
     "output_type": "execute_result"
    }
   ],
   "source": [
    "rv = stats.norm()\n",
    "cnt = 0\n",
    "\n",
    "for sample_ in samples:\n",
    "    s_mean_ = np.mean(sample_)\n",
    "    lcl = s_mean_ - rv.isf(0.025) * np.sqrt(p_var/n)\n",
    "    ucl = s_mean_ - rv.isf(0.975) * np.sqrt(p_var/n)\n",
    "    if lcl <= p_mean <= ucl:\n",
    "        cnt += 1\n",
    "cnt / len(samples)"
   ]
  },
  {
   "cell_type": "markdown",
   "id": "a131d7cb",
   "metadata": {},
   "source": [
    "### 10.2.2 정규분포의 모분산(평균을 알지 못하는) 구간추정\n",
    "- 모집단을 정규분포로 가정하고, 모평균은 모르는 경우를 생각합니다. "
   ]
  },
  {
   "cell_type": "code",
   "execution_count": 27,
   "id": "d64fcd9a",
   "metadata": {},
   "outputs": [
    {
     "data": {
      "text/plain": [
       "array([11.303, 15.767, 18.102, ..., 19.435,  9.265, 18.625])"
      ]
     },
     "execution_count": 27,
     "metadata": {},
     "output_type": "execute_result"
    }
   ],
   "source": [
    "sample_y = sample_u_vars * (n-1) / p_var\n",
    "sample_y"
   ]
  },
  {
   "cell_type": "code",
   "execution_count": 28,
   "id": "f942e447",
   "metadata": {},
   "outputs": [
    {
     "data": {
      "image/png": "[encoded data removed]",
      "text/plain": [
       "<Figure size 720x432 with 1 Axes>"
      ]
     },
     "metadata": {
      "needs_background": "light"
     },
     "output_type": "display_data"
    }
   ],
   "source": [
    "fig = plt.figure(figsize=(10, 6))\n",
    "ax = fig.add_subplot(111)\n",
    "\n",
    "xs = np.linspace(0, 40, 100)\n",
    "rv = stats.chi2(df=n-1)\n",
    "ax.plot(xs, rv.pdf(xs), color='gray')\n",
    "hist, _, _ = ax.hist(sample_y, bins=100,\n",
    "                     range=(0, 40), density=True)\n",
    "\n",
    "plt.show()"
   ]
  },
  {
   "cell_type": "code",
   "execution_count": 29,
   "id": "6babb62c",
   "metadata": {},
   "outputs": [
    {
     "data": {
      "text/plain": [
       "(91.52471947132238, 337.5955129124592)"
      ]
     },
     "execution_count": 29,
     "metadata": {},
     "output_type": "execute_result"
    }
   ],
   "source": [
    "rv = stats.chi2(df=n-1)\n",
    "lcl = (n-1) * u_var / rv.isf(0.025)\n",
    "hcl = (n-1) * u_var / rv.isf(0.975)\n",
    "\n",
    "lcl, hcl"
   ]
  },
  {
   "cell_type": "code",
   "execution_count": 30,
   "id": "eca4fa25",
   "metadata": {},
   "outputs": [
    {
     "data": {
      "image/png": "[encoded data removed]",
      "text/plain": [
       "<Figure size 720x720 with 1 Axes>"
      ]
     },
     "metadata": {
      "needs_background": "light"
     },
     "output_type": "display_data"
    }
   ],
   "source": [
    "fig = plt.figure(figsize=(10, 10))\n",
    "ax = fig.add_subplot(111)\n",
    "\n",
    "rv = stats.chi2(df=n-1)\n",
    "n_samples = 20\n",
    "ax.vlines(p_var, 0, 21)\n",
    "for i in range(n_samples):\n",
    "    sample_ = samples[i]\n",
    "    u_var_ = np.var(sample_, ddof=1)\n",
    "    lcl = (n-1) * u_var_ / rv.isf(0.025)\n",
    "    ucl = (n-1) * u_var_ / rv.isf(0.975)\n",
    "    if lcl <= p_var <= ucl:\n",
    "        ax.scatter(u_var_, n_samples-i, color='gray')\n",
    "        ax.hlines(n_samples-i, lcl, ucl, 'gray')\n",
    "    else:\n",
    "        ax.scatter(u_var_, n_samples-i, color='b')\n",
    "        ax.hlines(n_samples-i, lcl, ucl, 'b')\n",
    "ax.set_xticks([p_var])\n",
    "ax.set_xticklabels(['population variance'])\n",
    "\n",
    "plt.show()"
   ]
  },
  {
   "cell_type": "markdown",
   "id": "6495aa6b",
   "metadata": {},
   "source": [
    "## 10.2.3. 정규분포의 모평균 구간추정: 모분산을 모르는 경우"
   ]
  },
  {
   "cell_type": "code",
   "execution_count": null,
   "id": "9af8dd8e",
   "metadata": {},
   "outputs": [],
   "source": []
  },
  {
   "cell_type": "code",
   "execution_count": null,
   "id": "312698f9",
   "metadata": {},
   "outputs": [],
   "source": []
  },
  {
   "cell_type": "code",
   "execution_count": null,
   "id": "65b69f93",
   "metadata": {},
   "outputs": [],
   "source": []
  },
  {
   "cell_type": "code",
   "execution_count": null,
   "id": "3beab76e",
   "metadata": {},
   "outputs": [],
   "source": []
  }
 ],
 "metadata": {
  "kernelspec": {
   "display_name": "Python 3",
   "language": "python",
   "name": "python3"
  },
  "language_info": {
   "codemirror_mode": {
    "name": "ipython",
    "version": 3
   },
   "file_extension": ".py",
   "mimetype": "text/x-python",
   "name": "python",
   "nbconvert_exporter": "python",
   "pygments_lexer": "ipython3",
   "version": "3.8.8"
  }
 },
 "nbformat": 4,
 "nbformat_minor": 5
}
